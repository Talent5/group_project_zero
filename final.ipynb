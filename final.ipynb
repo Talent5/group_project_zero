{
 "cells": [
  {
   "cell_type": "markdown",
   "metadata": {},
   "source": [
    "# ZERO: Zimbabwe Energy Resilience Optimization - Prototype Development"
   ]
  },
  {
   "cell_type": "markdown",
   "metadata": {},
   "source": [
    "### Introduction:\n",
    "\n",
    "    Zimbabwe faces a persistent challenge of power outages, impacting the economy, essential services, and the lives of its citizens. This notebook documents the development of a prototype system designed to predict weather-related power outages using machine learning. The prototype utilizes historical outage data from the EAGLE-I dataset (United States) and weather event data to train and evaluate predictive models. This initial stage focuses on exploring data patterns, feature engineering, and model selection, with the goal of developing a robust system that can ultimately be deployed using real-time data from Zimbabwe's energy grid."
   ]
  },
  {
   "cell_type": "code",
   "execution_count": 1,
   "metadata": {},
   "outputs": [],
   "source": [
    "# 1. Load important libraries for this project\n",
    "import polars as pl\n",
    "from sklearn.model_selection import train_test_split, GridSearchCV\n",
    "from sklearn.linear_model import LogisticRegression\n",
    "from sklearn.tree import DecisionTreeClassifier\n",
    "from sklearn.ensemble import RandomForestClassifier\n",
    "from sklearn.metrics import accuracy_score, precision_score, recall_score, f1_score, roc_auc_score, confusion_matrix\n",
    "from sklearn.preprocessing import MinMaxScaler\n",
    "import matplotlib.pyplot as plt\n",
    "import seaborn as sns\n"
   ]
  },
  {
   "cell_type": "markdown",
   "metadata": {},
   "source": [
    "# 1. Load Data"
   ]
  },
  {
   "cell_type": "code",
   "execution_count": 2,
   "metadata": {},
   "outputs": [],
   "source": [
    "def load_data(file_path):\n",
    "    \"\"\"Loads a CSV file into a Polars DataFrame.\"\"\"\n",
    "    return pl.read_csv(file_path)\n",
    "\n",
    "df_outages = load_data(\"datasets/eaglei_outages_2016.csv\")  \n",
    "df_weather = load_data(\"datasets/WeatherEvents_Jan2016-Dec2022.csv\") \n",
    "data = pl.read_csv(\"datasets/data.csv\")"
   ]
  },
  {
   "cell_type": "code",
   "execution_count": 3,
   "metadata": {},
   "outputs": [
    {
     "data": {
      "text/html": [
       "<div><style>\n",
       ".dataframe > thead > tr,\n",
       ".dataframe > tbody > tr {\n",
       "  text-align: right;\n",
       "  white-space: pre-wrap;\n",
       "}\n",
       "</style>\n",
       "<small>shape: (5, 5)</small><table border=\"1\" class=\"dataframe\"><thead><tr><th>fips_code</th><th>county</th><th>state</th><th>customers_out</th><th>run_start_time</th></tr><tr><td>i64</td><td>str</td><td>str</td><td>i64</td><td>str</td></tr></thead><tbody><tr><td>2122</td><td>&quot;Kenai Peninsula&quot;</td><td>&quot;Alaska&quot;</td><td>657</td><td>&quot;2016-01-01 00:00:00&quot;</td></tr><tr><td>5003</td><td>&quot;Ashley&quot;</td><td>&quot;Arkansas&quot;</td><td>7</td><td>&quot;2016-01-01 00:00:00&quot;</td></tr><tr><td>5029</td><td>&quot;Conway&quot;</td><td>&quot;Arkansas&quot;</td><td>2</td><td>&quot;2016-01-01 00:00:00&quot;</td></tr><tr><td>5069</td><td>&quot;Jefferson&quot;</td><td>&quot;Arkansas&quot;</td><td>41</td><td>&quot;2016-01-01 00:00:00&quot;</td></tr><tr><td>5081</td><td>&quot;Little River&quot;</td><td>&quot;Arkansas&quot;</td><td>61</td><td>&quot;2016-01-01 00:00:00&quot;</td></tr></tbody></table></div>"
      ],
      "text/plain": [
       "shape: (5, 5)\n",
       "┌───────────┬─────────────────┬──────────┬───────────────┬─────────────────────┐\n",
       "│ fips_code ┆ county          ┆ state    ┆ customers_out ┆ run_start_time      │\n",
       "│ ---       ┆ ---             ┆ ---      ┆ ---           ┆ ---                 │\n",
       "│ i64       ┆ str             ┆ str      ┆ i64           ┆ str                 │\n",
       "╞═══════════╪═════════════════╪══════════╪═══════════════╪═════════════════════╡\n",
       "│ 2122      ┆ Kenai Peninsula ┆ Alaska   ┆ 657           ┆ 2016-01-01 00:00:00 │\n",
       "│ 5003      ┆ Ashley          ┆ Arkansas ┆ 7             ┆ 2016-01-01 00:00:00 │\n",
       "│ 5029      ┆ Conway          ┆ Arkansas ┆ 2             ┆ 2016-01-01 00:00:00 │\n",
       "│ 5069      ┆ Jefferson       ┆ Arkansas ┆ 41            ┆ 2016-01-01 00:00:00 │\n",
       "│ 5081      ┆ Little River    ┆ Arkansas ┆ 61            ┆ 2016-01-01 00:00:00 │\n",
       "└───────────┴─────────────────┴──────────┴───────────────┴─────────────────────┘"
      ]
     },
     "execution_count": 3,
     "metadata": {},
     "output_type": "execute_result"
    }
   ],
   "source": [
    "df_outages.head()"
   ]
  },
  {
   "cell_type": "code",
   "execution_count": 3,
   "metadata": {},
   "outputs": [
    {
     "data": {
      "text/html": [
       "<div><style>\n",
       ".dataframe > thead > tr,\n",
       ".dataframe > tbody > tr {\n",
       "  text-align: right;\n",
       "  white-space: pre-wrap;\n",
       "}\n",
       "</style>\n",
       "<small>shape: (5, 14)</small><table border=\"1\" class=\"dataframe\"><thead><tr><th>EventId</th><th>Type</th><th>Severity</th><th>StartTime(UTC)</th><th>EndTime(UTC)</th><th>Precipitation(in)</th><th>TimeZone</th><th>AirportCode</th><th>LocationLat</th><th>LocationLng</th><th>City</th><th>County</th><th>State</th><th>ZipCode</th></tr><tr><td>str</td><td>str</td><td>str</td><td>str</td><td>str</td><td>f64</td><td>str</td><td>str</td><td>f64</td><td>f64</td><td>str</td><td>str</td><td>str</td><td>i64</td></tr></thead><tbody><tr><td>&quot;W-1&quot;</td><td>&quot;Snow&quot;</td><td>&quot;Light&quot;</td><td>&quot;2016-01-06 23:14:00&quot;</td><td>&quot;2016-01-07 00:34:00&quot;</td><td>0.0</td><td>&quot;US/Mountain&quot;</td><td>&quot;K04V&quot;</td><td>38.0972</td><td>-106.1689</td><td>&quot;Saguache&quot;</td><td>&quot;Saguache&quot;</td><td>&quot;CO&quot;</td><td>81149</td></tr><tr><td>&quot;W-2&quot;</td><td>&quot;Snow&quot;</td><td>&quot;Light&quot;</td><td>&quot;2016-01-07 04:14:00&quot;</td><td>&quot;2016-01-07 04:54:00&quot;</td><td>0.0</td><td>&quot;US/Mountain&quot;</td><td>&quot;K04V&quot;</td><td>38.0972</td><td>-106.1689</td><td>&quot;Saguache&quot;</td><td>&quot;Saguache&quot;</td><td>&quot;CO&quot;</td><td>81149</td></tr><tr><td>&quot;W-3&quot;</td><td>&quot;Snow&quot;</td><td>&quot;Light&quot;</td><td>&quot;2016-01-07 05:54:00&quot;</td><td>&quot;2016-01-07 15:34:00&quot;</td><td>0.03</td><td>&quot;US/Mountain&quot;</td><td>&quot;K04V&quot;</td><td>38.0972</td><td>-106.1689</td><td>&quot;Saguache&quot;</td><td>&quot;Saguache&quot;</td><td>&quot;CO&quot;</td><td>81149</td></tr><tr><td>&quot;W-4&quot;</td><td>&quot;Snow&quot;</td><td>&quot;Light&quot;</td><td>&quot;2016-01-08 05:34:00&quot;</td><td>&quot;2016-01-08 05:54:00&quot;</td><td>0.0</td><td>&quot;US/Mountain&quot;</td><td>&quot;K04V&quot;</td><td>38.0972</td><td>-106.1689</td><td>&quot;Saguache&quot;</td><td>&quot;Saguache&quot;</td><td>&quot;CO&quot;</td><td>81149</td></tr><tr><td>&quot;W-5&quot;</td><td>&quot;Snow&quot;</td><td>&quot;Light&quot;</td><td>&quot;2016-01-08 13:54:00&quot;</td><td>&quot;2016-01-08 15:54:00&quot;</td><td>0.0</td><td>&quot;US/Mountain&quot;</td><td>&quot;K04V&quot;</td><td>38.0972</td><td>-106.1689</td><td>&quot;Saguache&quot;</td><td>&quot;Saguache&quot;</td><td>&quot;CO&quot;</td><td>81149</td></tr></tbody></table></div>"
      ],
      "text/plain": [
       "shape: (5, 14)\n",
       "┌─────────┬──────┬──────────┬─────────────────────┬───┬──────────┬──────────┬───────┬─────────┐\n",
       "│ EventId ┆ Type ┆ Severity ┆ StartTime(UTC)      ┆ … ┆ City     ┆ County   ┆ State ┆ ZipCode │\n",
       "│ ---     ┆ ---  ┆ ---      ┆ ---                 ┆   ┆ ---      ┆ ---      ┆ ---   ┆ ---     │\n",
       "│ str     ┆ str  ┆ str      ┆ str                 ┆   ┆ str      ┆ str      ┆ str   ┆ i64     │\n",
       "╞═════════╪══════╪══════════╪═════════════════════╪═══╪══════════╪══════════╪═══════╪═════════╡\n",
       "│ W-1     ┆ Snow ┆ Light    ┆ 2016-01-06 23:14:00 ┆ … ┆ Saguache ┆ Saguache ┆ CO    ┆ 81149   │\n",
       "│ W-2     ┆ Snow ┆ Light    ┆ 2016-01-07 04:14:00 ┆ … ┆ Saguache ┆ Saguache ┆ CO    ┆ 81149   │\n",
       "│ W-3     ┆ Snow ┆ Light    ┆ 2016-01-07 05:54:00 ┆ … ┆ Saguache ┆ Saguache ┆ CO    ┆ 81149   │\n",
       "│ W-4     ┆ Snow ┆ Light    ┆ 2016-01-08 05:34:00 ┆ … ┆ Saguache ┆ Saguache ┆ CO    ┆ 81149   │\n",
       "│ W-5     ┆ Snow ┆ Light    ┆ 2016-01-08 13:54:00 ┆ … ┆ Saguache ┆ Saguache ┆ CO    ┆ 81149   │\n",
       "└─────────┴──────┴──────────┴─────────────────────┴───┴──────────┴──────────┴───────┴─────────┘"
      ]
     },
     "execution_count": 3,
     "metadata": {},
     "output_type": "execute_result"
    }
   ],
   "source": [
    "df_weather.head()"
   ]
  },
  {
   "cell_type": "markdown",
   "metadata": {},
   "source": [
    "# 2. Data Cleaning and Preprocessing"
   ]
  },
  {
   "cell_type": "code",
   "execution_count": 5,
   "metadata": {},
   "outputs": [],
   "source": [
    "def clean_data(df):\n",
    "    \"\"\"Cleans and prepares the data for model training.\"\"\"\n",
    "    # Convert date columns to datetime format\n",
    "    if \"run_start_time\" in df.columns: \n",
    "        df = df.with_columns(pl.col(\"run_start_time\").str.strptime(pl.Datetime, \"%Y-%m-%d %H:%M:%S\"))\n",
    "    if \"StartTime(UTC)\" in df.columns: \n",
    "        df = df.with_columns(pl.col(\"StartTime(UTC)\").str.strptime(pl.Datetime, \"%Y-%m-%d %H:%M:%S\"))\n",
    "    if \"EndTime(UTC)\" in df.columns:\n",
    "        df = df.with_columns(pl.col(\"EndTime(UTC)\").str.strptime(pl.Datetime, \"%Y-%m-%d %H:%M:%S\"))\n",
    "\n",
    "    # Remove irrelevant outage causes (example)\n",
    "    if \"cause\" in df.columns:\n",
    "        df = df.filter(pl.col(\"cause\") != \"Planned Outage\")  # Filter out planned outages\n",
    "\n",
    "    # Handle missing values (example - you may need more sophisticated strategies)\n",
    "    if \"Precipitation(in)\" in df.columns:\n",
    "        df = df.with_columns(pl.col(\"Precipitation(in)\").fill_null(pl.col(\"Precipitation(in)\").mean()))\n",
    "    if \"severity_encoded\" in df.columns:\n",
    "        df = df.with_columns(pl.col(\"severity_encoded\").fill_null(0)) # Fill missing severity with 0\n",
    "\n",
    "    return df\n",
    "\n",
    "df_outages = clean_data(df_outages)\n",
    "df_weather = clean_data(df_weather)"
   ]
  },
  {
   "cell_type": "code",
   "execution_count": 6,
   "metadata": {},
   "outputs": [
    {
     "data": {
      "text/html": [
       "<div><style>\n",
       ".dataframe > thead > tr,\n",
       ".dataframe > tbody > tr {\n",
       "  text-align: right;\n",
       "  white-space: pre-wrap;\n",
       "}\n",
       "</style>\n",
       "<small>shape: (10, 5)</small><table border=\"1\" class=\"dataframe\"><thead><tr><th>fips_code</th><th>county</th><th>state</th><th>customers_out</th><th>run_start_time</th></tr><tr><td>i64</td><td>str</td><td>str</td><td>i64</td><td>datetime[μs]</td></tr></thead><tbody><tr><td>31161</td><td>&quot;Sheridan&quot;</td><td>&quot;Nebraska&quot;</td><td>10</td><td>2016-12-18 02:15:00</td></tr><tr><td>17019</td><td>&quot;Champaign&quot;</td><td>&quot;Illinois&quot;</td><td>2</td><td>2016-08-30 20:30:00</td></tr><tr><td>36121</td><td>&quot;Wyoming&quot;</td><td>&quot;New York&quot;</td><td>6</td><td>2016-06-04 04:00:00</td></tr><tr><td>51059</td><td>&quot;Fairfax&quot;</td><td>&quot;Virginia&quot;</td><td>21</td><td>2016-10-01 04:30:00</td></tr><tr><td>13137</td><td>&quot;Habersham&quot;</td><td>&quot;Georgia&quot;</td><td>1</td><td>2016-03-14 15:00:00</td></tr><tr><td>53029</td><td>&quot;Island&quot;</td><td>&quot;Washington&quot;</td><td>1</td><td>2016-03-31 21:30:00</td></tr><tr><td>26147</td><td>&quot;St. Clair&quot;</td><td>&quot;Michigan&quot;</td><td>65</td><td>2016-02-22 04:00:00</td></tr><tr><td>36121</td><td>&quot;Wyoming&quot;</td><td>&quot;New York&quot;</td><td>21</td><td>2016-06-25 10:45:00</td></tr><tr><td>12105</td><td>&quot;Polk&quot;</td><td>&quot;Florida&quot;</td><td>3</td><td>2016-02-07 21:00:00</td></tr><tr><td>51153</td><td>&quot;Prince William&quot;</td><td>&quot;Virginia&quot;</td><td>946</td><td>2016-06-17 03:00:00</td></tr></tbody></table></div>"
      ],
      "text/plain": [
       "shape: (10, 5)\n",
       "┌───────────┬────────────────┬────────────┬───────────────┬─────────────────────┐\n",
       "│ fips_code ┆ county         ┆ state      ┆ customers_out ┆ run_start_time      │\n",
       "│ ---       ┆ ---            ┆ ---        ┆ ---           ┆ ---                 │\n",
       "│ i64       ┆ str            ┆ str        ┆ i64           ┆ datetime[μs]        │\n",
       "╞═══════════╪════════════════╪════════════╪═══════════════╪═════════════════════╡\n",
       "│ 31161     ┆ Sheridan       ┆ Nebraska   ┆ 10            ┆ 2016-12-18 02:15:00 │\n",
       "│ 17019     ┆ Champaign      ┆ Illinois   ┆ 2             ┆ 2016-08-30 20:30:00 │\n",
       "│ 36121     ┆ Wyoming        ┆ New York   ┆ 6             ┆ 2016-06-04 04:00:00 │\n",
       "│ 51059     ┆ Fairfax        ┆ Virginia   ┆ 21            ┆ 2016-10-01 04:30:00 │\n",
       "│ 13137     ┆ Habersham      ┆ Georgia    ┆ 1             ┆ 2016-03-14 15:00:00 │\n",
       "│ 53029     ┆ Island         ┆ Washington ┆ 1             ┆ 2016-03-31 21:30:00 │\n",
       "│ 26147     ┆ St. Clair      ┆ Michigan   ┆ 65            ┆ 2016-02-22 04:00:00 │\n",
       "│ 36121     ┆ Wyoming        ┆ New York   ┆ 21            ┆ 2016-06-25 10:45:00 │\n",
       "│ 12105     ┆ Polk           ┆ Florida    ┆ 3             ┆ 2016-02-07 21:00:00 │\n",
       "│ 51153     ┆ Prince William ┆ Virginia   ┆ 946           ┆ 2016-06-17 03:00:00 │\n",
       "└───────────┴────────────────┴────────────┴───────────────┴─────────────────────┘"
      ]
     },
     "execution_count": 6,
     "metadata": {},
     "output_type": "execute_result"
    }
   ],
   "source": [
    "df_outages.sample(10)"
   ]
  },
  {
   "cell_type": "code",
   "execution_count": 7,
   "metadata": {},
   "outputs": [
    {
     "data": {
      "text/html": [
       "<div><style>\n",
       ".dataframe > thead > tr,\n",
       ".dataframe > tbody > tr {\n",
       "  text-align: right;\n",
       "  white-space: pre-wrap;\n",
       "}\n",
       "</style>\n",
       "<small>shape: (3, 14)</small><table border=\"1\" class=\"dataframe\"><thead><tr><th>EventId</th><th>Type</th><th>Severity</th><th>StartTime(UTC)</th><th>EndTime(UTC)</th><th>Precipitation(in)</th><th>TimeZone</th><th>AirportCode</th><th>LocationLat</th><th>LocationLng</th><th>City</th><th>County</th><th>State</th><th>ZipCode</th></tr><tr><td>str</td><td>str</td><td>str</td><td>datetime[μs]</td><td>datetime[μs]</td><td>f64</td><td>str</td><td>str</td><td>f64</td><td>f64</td><td>str</td><td>str</td><td>str</td><td>i64</td></tr></thead><tbody><tr><td>&quot;W-2314109&quot;</td><td>&quot;Fog&quot;</td><td>&quot;Severe&quot;</td><td>2017-01-18 07:32:00</td><td>2017-01-18 07:56:00</td><td>0.0</td><td>&quot;US/Eastern&quot;</td><td>&quot;KABY&quot;</td><td>31.5365</td><td>-84.1957</td><td>&quot;Albany&quot;</td><td>&quot;Dougherty&quot;</td><td>&quot;GA&quot;</td><td>31721</td></tr><tr><td>&quot;W-4823698&quot;</td><td>&quot;Rain&quot;</td><td>&quot;Light&quot;</td><td>2017-12-07 03:56:00</td><td>2017-12-07 04:33:00</td><td>0.0</td><td>&quot;US/Central&quot;</td><td>&quot;KLRD&quot;</td><td>27.5437</td><td>-99.4616</td><td>&quot;Laredo&quot;</td><td>&quot;Webb&quot;</td><td>&quot;TX&quot;</td><td>78041</td></tr><tr><td>&quot;W-8485138&quot;</td><td>&quot;Fog&quot;</td><td>&quot;Severe&quot;</td><td>2017-10-06 14:53:00</td><td>2017-10-06 15:24:00</td><td>0.0</td><td>&quot;US/Mountain&quot;</td><td>&quot;KVEL&quot;</td><td>40.443</td><td>-109.5127</td><td>&quot;Vernal&quot;</td><td>&quot;Uintah&quot;</td><td>&quot;UT&quot;</td><td>84078</td></tr></tbody></table></div>"
      ],
      "text/plain": [
       "shape: (3, 14)\n",
       "┌───────────┬──────┬──────────┬─────────────────────┬───┬────────┬───────────┬───────┬─────────┐\n",
       "│ EventId   ┆ Type ┆ Severity ┆ StartTime(UTC)      ┆ … ┆ City   ┆ County    ┆ State ┆ ZipCode │\n",
       "│ ---       ┆ ---  ┆ ---      ┆ ---                 ┆   ┆ ---    ┆ ---       ┆ ---   ┆ ---     │\n",
       "│ str       ┆ str  ┆ str      ┆ datetime[μs]        ┆   ┆ str    ┆ str       ┆ str   ┆ i64     │\n",
       "╞═══════════╪══════╪══════════╪═════════════════════╪═══╪════════╪═══════════╪═══════╪═════════╡\n",
       "│ W-2314109 ┆ Fog  ┆ Severe   ┆ 2017-01-18 07:32:00 ┆ … ┆ Albany ┆ Dougherty ┆ GA    ┆ 31721   │\n",
       "│ W-4823698 ┆ Rain ┆ Light    ┆ 2017-12-07 03:56:00 ┆ … ┆ Laredo ┆ Webb      ┆ TX    ┆ 78041   │\n",
       "│ W-8485138 ┆ Fog  ┆ Severe   ┆ 2017-10-06 14:53:00 ┆ … ┆ Vernal ┆ Uintah    ┆ UT    ┆ 84078   │\n",
       "└───────────┴──────┴──────────┴─────────────────────┴───┴────────┴───────────┴───────┴─────────┘"
      ]
     },
     "execution_count": 7,
     "metadata": {},
     "output_type": "execute_result"
    }
   ],
   "source": [
    "df_weather.sample(3)"
   ]
  },
  {
   "cell_type": "code",
   "execution_count": null,
   "metadata": {},
   "outputs": [],
   "source": [
    "df_weather = df_weather.filter(pl.col(\"year\") == 2016)"
   ]
  },
  {
   "cell_type": "code",
   "execution_count": 8,
   "metadata": {},
   "outputs": [],
   "source": [
    "df_weather = df_weather.filter(pl.col(\"Severity\").is_in([\"Severe\", \"Light\", \"Moderate\", \"Heavy\"]))"
   ]
  },
  {
   "cell_type": "code",
   "execution_count": 9,
   "metadata": {},
   "outputs": [
    {
     "data": {
      "text/html": [
       "<div><style>\n",
       ".dataframe > thead > tr,\n",
       ".dataframe > tbody > tr {\n",
       "  text-align: right;\n",
       "  white-space: pre-wrap;\n",
       "}\n",
       "</style>\n",
       "<small>shape: (5, 14)</small><table border=\"1\" class=\"dataframe\"><thead><tr><th>EventId</th><th>Type</th><th>Severity</th><th>StartTime(UTC)</th><th>EndTime(UTC)</th><th>Precipitation(in)</th><th>TimeZone</th><th>AirportCode</th><th>LocationLat</th><th>LocationLng</th><th>City</th><th>County</th><th>State</th><th>ZipCode</th></tr><tr><td>str</td><td>str</td><td>str</td><td>datetime[μs]</td><td>datetime[μs]</td><td>f64</td><td>str</td><td>str</td><td>f64</td><td>f64</td><td>str</td><td>str</td><td>str</td><td>i64</td></tr></thead><tbody><tr><td>&quot;W-1&quot;</td><td>&quot;Snow&quot;</td><td>&quot;Light&quot;</td><td>2016-01-06 23:14:00</td><td>2016-01-07 00:34:00</td><td>0.0</td><td>&quot;US/Mountain&quot;</td><td>&quot;K04V&quot;</td><td>38.0972</td><td>-106.1689</td><td>&quot;Saguache&quot;</td><td>&quot;Saguache&quot;</td><td>&quot;CO&quot;</td><td>81149</td></tr><tr><td>&quot;W-2&quot;</td><td>&quot;Snow&quot;</td><td>&quot;Light&quot;</td><td>2016-01-07 04:14:00</td><td>2016-01-07 04:54:00</td><td>0.0</td><td>&quot;US/Mountain&quot;</td><td>&quot;K04V&quot;</td><td>38.0972</td><td>-106.1689</td><td>&quot;Saguache&quot;</td><td>&quot;Saguache&quot;</td><td>&quot;CO&quot;</td><td>81149</td></tr><tr><td>&quot;W-3&quot;</td><td>&quot;Snow&quot;</td><td>&quot;Light&quot;</td><td>2016-01-07 05:54:00</td><td>2016-01-07 15:34:00</td><td>0.03</td><td>&quot;US/Mountain&quot;</td><td>&quot;K04V&quot;</td><td>38.0972</td><td>-106.1689</td><td>&quot;Saguache&quot;</td><td>&quot;Saguache&quot;</td><td>&quot;CO&quot;</td><td>81149</td></tr><tr><td>&quot;W-4&quot;</td><td>&quot;Snow&quot;</td><td>&quot;Light&quot;</td><td>2016-01-08 05:34:00</td><td>2016-01-08 05:54:00</td><td>0.0</td><td>&quot;US/Mountain&quot;</td><td>&quot;K04V&quot;</td><td>38.0972</td><td>-106.1689</td><td>&quot;Saguache&quot;</td><td>&quot;Saguache&quot;</td><td>&quot;CO&quot;</td><td>81149</td></tr><tr><td>&quot;W-5&quot;</td><td>&quot;Snow&quot;</td><td>&quot;Light&quot;</td><td>2016-01-08 13:54:00</td><td>2016-01-08 15:54:00</td><td>0.0</td><td>&quot;US/Mountain&quot;</td><td>&quot;K04V&quot;</td><td>38.0972</td><td>-106.1689</td><td>&quot;Saguache&quot;</td><td>&quot;Saguache&quot;</td><td>&quot;CO&quot;</td><td>81149</td></tr></tbody></table></div>"
      ],
      "text/plain": [
       "shape: (5, 14)\n",
       "┌─────────┬──────┬──────────┬─────────────────────┬───┬──────────┬──────────┬───────┬─────────┐\n",
       "│ EventId ┆ Type ┆ Severity ┆ StartTime(UTC)      ┆ … ┆ City     ┆ County   ┆ State ┆ ZipCode │\n",
       "│ ---     ┆ ---  ┆ ---      ┆ ---                 ┆   ┆ ---      ┆ ---      ┆ ---   ┆ ---     │\n",
       "│ str     ┆ str  ┆ str      ┆ datetime[μs]        ┆   ┆ str      ┆ str      ┆ str   ┆ i64     │\n",
       "╞═════════╪══════╪══════════╪═════════════════════╪═══╪══════════╪══════════╪═══════╪═════════╡\n",
       "│ W-1     ┆ Snow ┆ Light    ┆ 2016-01-06 23:14:00 ┆ … ┆ Saguache ┆ Saguache ┆ CO    ┆ 81149   │\n",
       "│ W-2     ┆ Snow ┆ Light    ┆ 2016-01-07 04:14:00 ┆ … ┆ Saguache ┆ Saguache ┆ CO    ┆ 81149   │\n",
       "│ W-3     ┆ Snow ┆ Light    ┆ 2016-01-07 05:54:00 ┆ … ┆ Saguache ┆ Saguache ┆ CO    ┆ 81149   │\n",
       "│ W-4     ┆ Snow ┆ Light    ┆ 2016-01-08 05:34:00 ┆ … ┆ Saguache ┆ Saguache ┆ CO    ┆ 81149   │\n",
       "│ W-5     ┆ Snow ┆ Light    ┆ 2016-01-08 13:54:00 ┆ … ┆ Saguache ┆ Saguache ┆ CO    ┆ 81149   │\n",
       "└─────────┴──────┴──────────┴─────────────────────┴───┴──────────┴──────────┴───────┴─────────┘"
      ]
     },
     "execution_count": 9,
     "metadata": {},
     "output_type": "execute_result"
    }
   ],
   "source": [
    "df_weather.head()"
   ]
  },
  {
   "cell_type": "markdown",
   "metadata": {},
   "source": [
    "# 3. Feature Engineering"
   ]
  },
  {
   "cell_type": "code",
   "execution_count": 10,
   "metadata": {},
   "outputs": [],
   "source": [
    "# Add \"power_outage\" column\n",
    "df_outages = df_outages.with_columns(\n",
    "    (pl.col(\"customers_out\") > 10).cast(pl.Int8).alias(\"power_outage\")\n",
    ")  # Define power outages based on customer count"
   ]
  },
  {
   "cell_type": "code",
   "execution_count": 11,
   "metadata": {},
   "outputs": [],
   "source": [
    "# Extract date components from run_start_time in df_outages\n",
    "df_outages = df_outages.with_columns(\n",
    "    [\n",
    "        pl.col(\"run_start_time\").dt.year().alias(\"year\"),\n",
    "        pl.col(\"run_start_time\").dt.month().alias(\"month\"),\n",
    "        pl.col(\"run_start_time\").dt.day().alias(\"day\"),\n",
    "        pl.col(\"run_start_time\").dt.hour().alias(\"hour\"),\n",
    "        pl.col(\"run_start_time\").dt.weekday().alias(\"weekday\"),  # Create day-of-week feature\n",
    "    ]\n",
    ")"
   ]
  },
  {
   "cell_type": "code",
   "execution_count": 12,
   "metadata": {},
   "outputs": [],
   "source": [
    "# Extract date components from StartTime(UTC) in df_weather\n",
    "df_weather = df_weather.with_columns(\n",
    "    [\n",
    "        pl.col(\"StartTime(UTC)\").dt.year().alias(\"year\"),\n",
    "        pl.col(\"StartTime(UTC)\").dt.month().alias(\"month\"),\n",
    "        pl.col(\"StartTime(UTC)\").dt.day().alias(\"day\"),\n",
    "        pl.col(\"StartTime(UTC)\").dt.hour().alias(\"hour\"),\n",
    "        pl.col(\"StartTime(UTC)\").dt.weekday().alias(\"weekday\"),\n",
    "    ]\n",
    ")"
   ]
  },
  {
   "cell_type": "code",
   "execution_count": 13,
   "metadata": {},
   "outputs": [],
   "source": [
    "# One-hot encoding for weather types\n",
    "weather_types = [\"Rain\", \"Cold\", \"Snow\", \"Fog\"]\n",
    "for weather_type in weather_types:\n",
    "    df_weather = df_weather.with_columns(\n",
    "        (pl.col(\"Type\") == weather_type).cast(pl.Int8).alias(weather_type.lower())\n",
    "    )  # One-hot encoding for weather types"
   ]
  },
  {
   "cell_type": "code",
   "execution_count": 14,
   "metadata": {},
   "outputs": [],
   "source": [
    "# Calculate duration of weather events\n",
    "df_weather = df_weather.with_columns(\n",
    "    (pl.col(\"EndTime(UTC)\") - pl.col(\"StartTime(UTC)\")).dt.total_hours().alias(\"duration_hours\")\n",
    ")  # Duration in hours"
   ]
  },
  {
   "cell_type": "code",
   "execution_count": 15,
   "metadata": {},
   "outputs": [],
   "source": [
    "# Assign numerical values to severity levels, filter out others\n",
    "severity_mapping = {\"Light\": 1, \"Moderate\": 2, \"Heavy\": 3, \"Severe\": 4}\n",
    "df_weather = df_weather.with_columns(\n",
    "    pl.col(\"Severity\").replace(severity_mapping).alias(\"severity_encoded\")\n",
    ").with_columns(\n",
    "    pl.col(\"severity_encoded\").cast(pl.Int8)\n",
    ").filter(\n",
    "    pl.col(\"severity_encoded\").is_in([1, 2, 3, 4])\n",
    ").select(\n",
    "    [\"*\"]\n",
    ")"
   ]
  },
  {
   "cell_type": "code",
   "execution_count": 16,
   "metadata": {},
   "outputs": [
    {
     "data": {
      "text/html": [
       "<div><style>\n",
       ".dataframe > thead > tr,\n",
       ".dataframe > tbody > tr {\n",
       "  text-align: right;\n",
       "  white-space: pre-wrap;\n",
       "}\n",
       "</style>\n",
       "<small>shape: (5, 25)</small><table border=\"1\" class=\"dataframe\"><thead><tr><th>EventId</th><th>Type</th><th>Severity</th><th>StartTime(UTC)</th><th>EndTime(UTC)</th><th>Precipitation(in)</th><th>TimeZone</th><th>AirportCode</th><th>LocationLat</th><th>LocationLng</th><th>City</th><th>County</th><th>State</th><th>ZipCode</th><th>year</th><th>month</th><th>day</th><th>hour</th><th>weekday</th><th>rain</th><th>cold</th><th>snow</th><th>fog</th><th>duration_hours</th><th>severity_encoded</th></tr><tr><td>str</td><td>str</td><td>str</td><td>datetime[μs]</td><td>datetime[μs]</td><td>f64</td><td>str</td><td>str</td><td>f64</td><td>f64</td><td>str</td><td>str</td><td>str</td><td>i64</td><td>i32</td><td>i8</td><td>i8</td><td>i8</td><td>i8</td><td>i8</td><td>i8</td><td>i8</td><td>i8</td><td>i64</td><td>i8</td></tr></thead><tbody><tr><td>&quot;W-1&quot;</td><td>&quot;Snow&quot;</td><td>&quot;Light&quot;</td><td>2016-01-06 23:14:00</td><td>2016-01-07 00:34:00</td><td>0.0</td><td>&quot;US/Mountain&quot;</td><td>&quot;K04V&quot;</td><td>38.0972</td><td>-106.1689</td><td>&quot;Saguache&quot;</td><td>&quot;Saguache&quot;</td><td>&quot;CO&quot;</td><td>81149</td><td>2016</td><td>1</td><td>6</td><td>23</td><td>3</td><td>0</td><td>0</td><td>1</td><td>0</td><td>1</td><td>1</td></tr><tr><td>&quot;W-2&quot;</td><td>&quot;Snow&quot;</td><td>&quot;Light&quot;</td><td>2016-01-07 04:14:00</td><td>2016-01-07 04:54:00</td><td>0.0</td><td>&quot;US/Mountain&quot;</td><td>&quot;K04V&quot;</td><td>38.0972</td><td>-106.1689</td><td>&quot;Saguache&quot;</td><td>&quot;Saguache&quot;</td><td>&quot;CO&quot;</td><td>81149</td><td>2016</td><td>1</td><td>7</td><td>4</td><td>4</td><td>0</td><td>0</td><td>1</td><td>0</td><td>0</td><td>1</td></tr><tr><td>&quot;W-3&quot;</td><td>&quot;Snow&quot;</td><td>&quot;Light&quot;</td><td>2016-01-07 05:54:00</td><td>2016-01-07 15:34:00</td><td>0.03</td><td>&quot;US/Mountain&quot;</td><td>&quot;K04V&quot;</td><td>38.0972</td><td>-106.1689</td><td>&quot;Saguache&quot;</td><td>&quot;Saguache&quot;</td><td>&quot;CO&quot;</td><td>81149</td><td>2016</td><td>1</td><td>7</td><td>5</td><td>4</td><td>0</td><td>0</td><td>1</td><td>0</td><td>9</td><td>1</td></tr><tr><td>&quot;W-4&quot;</td><td>&quot;Snow&quot;</td><td>&quot;Light&quot;</td><td>2016-01-08 05:34:00</td><td>2016-01-08 05:54:00</td><td>0.0</td><td>&quot;US/Mountain&quot;</td><td>&quot;K04V&quot;</td><td>38.0972</td><td>-106.1689</td><td>&quot;Saguache&quot;</td><td>&quot;Saguache&quot;</td><td>&quot;CO&quot;</td><td>81149</td><td>2016</td><td>1</td><td>8</td><td>5</td><td>5</td><td>0</td><td>0</td><td>1</td><td>0</td><td>0</td><td>1</td></tr><tr><td>&quot;W-5&quot;</td><td>&quot;Snow&quot;</td><td>&quot;Light&quot;</td><td>2016-01-08 13:54:00</td><td>2016-01-08 15:54:00</td><td>0.0</td><td>&quot;US/Mountain&quot;</td><td>&quot;K04V&quot;</td><td>38.0972</td><td>-106.1689</td><td>&quot;Saguache&quot;</td><td>&quot;Saguache&quot;</td><td>&quot;CO&quot;</td><td>81149</td><td>2016</td><td>1</td><td>8</td><td>13</td><td>5</td><td>0</td><td>0</td><td>1</td><td>0</td><td>2</td><td>1</td></tr></tbody></table></div>"
      ],
      "text/plain": [
       "shape: (5, 25)\n",
       "┌─────────┬──────┬──────────┬──────────────────┬───┬──────┬─────┬────────────────┬─────────────────┐\n",
       "│ EventId ┆ Type ┆ Severity ┆ StartTime(UTC)   ┆ … ┆ snow ┆ fog ┆ duration_hours ┆ severity_encode │\n",
       "│ ---     ┆ ---  ┆ ---      ┆ ---              ┆   ┆ ---  ┆ --- ┆ ---            ┆ d               │\n",
       "│ str     ┆ str  ┆ str      ┆ datetime[μs]     ┆   ┆ i8   ┆ i8  ┆ i64            ┆ ---             │\n",
       "│         ┆      ┆          ┆                  ┆   ┆      ┆     ┆                ┆ i8              │\n",
       "╞═════════╪══════╪══════════╪══════════════════╪═══╪══════╪═════╪════════════════╪═════════════════╡\n",
       "│ W-1     ┆ Snow ┆ Light    ┆ 2016-01-06       ┆ … ┆ 1    ┆ 0   ┆ 1              ┆ 1               │\n",
       "│         ┆      ┆          ┆ 23:14:00         ┆   ┆      ┆     ┆                ┆                 │\n",
       "│ W-2     ┆ Snow ┆ Light    ┆ 2016-01-07       ┆ … ┆ 1    ┆ 0   ┆ 0              ┆ 1               │\n",
       "│         ┆      ┆          ┆ 04:14:00         ┆   ┆      ┆     ┆                ┆                 │\n",
       "│ W-3     ┆ Snow ┆ Light    ┆ 2016-01-07       ┆ … ┆ 1    ┆ 0   ┆ 9              ┆ 1               │\n",
       "│         ┆      ┆          ┆ 05:54:00         ┆   ┆      ┆     ┆                ┆                 │\n",
       "│ W-4     ┆ Snow ┆ Light    ┆ 2016-01-08       ┆ … ┆ 1    ┆ 0   ┆ 0              ┆ 1               │\n",
       "│         ┆      ┆          ┆ 05:34:00         ┆   ┆      ┆     ┆                ┆                 │\n",
       "│ W-5     ┆ Snow ┆ Light    ┆ 2016-01-08       ┆ … ┆ 1    ┆ 0   ┆ 2              ┆ 1               │\n",
       "│         ┆      ┆          ┆ 13:54:00         ┆   ┆      ┆     ┆                ┆                 │\n",
       "└─────────┴──────┴──────────┴──────────────────┴───┴──────┴─────┴────────────────┴─────────────────┘"
      ]
     },
     "execution_count": 16,
     "metadata": {},
     "output_type": "execute_result"
    }
   ],
   "source": [
    "df_weather.head()"
   ]
  },
  {
   "cell_type": "code",
   "execution_count": 17,
   "metadata": {},
   "outputs": [
    {
     "data": {
      "text/html": [
       "<div><style>\n",
       ".dataframe > thead > tr,\n",
       ".dataframe > tbody > tr {\n",
       "  text-align: right;\n",
       "  white-space: pre-wrap;\n",
       "}\n",
       "</style>\n",
       "<small>shape: (5, 11)</small><table border=\"1\" class=\"dataframe\"><thead><tr><th>fips_code</th><th>county</th><th>state</th><th>customers_out</th><th>run_start_time</th><th>power_outage</th><th>year</th><th>month</th><th>day</th><th>hour</th><th>weekday</th></tr><tr><td>i64</td><td>str</td><td>str</td><td>i64</td><td>datetime[μs]</td><td>i8</td><td>i32</td><td>i8</td><td>i8</td><td>i8</td><td>i8</td></tr></thead><tbody><tr><td>2122</td><td>&quot;Kenai Peninsula&quot;</td><td>&quot;Alaska&quot;</td><td>657</td><td>2016-01-01 00:00:00</td><td>1</td><td>2016</td><td>1</td><td>1</td><td>0</td><td>5</td></tr><tr><td>5003</td><td>&quot;Ashley&quot;</td><td>&quot;Arkansas&quot;</td><td>7</td><td>2016-01-01 00:00:00</td><td>0</td><td>2016</td><td>1</td><td>1</td><td>0</td><td>5</td></tr><tr><td>5029</td><td>&quot;Conway&quot;</td><td>&quot;Arkansas&quot;</td><td>2</td><td>2016-01-01 00:00:00</td><td>0</td><td>2016</td><td>1</td><td>1</td><td>0</td><td>5</td></tr><tr><td>5069</td><td>&quot;Jefferson&quot;</td><td>&quot;Arkansas&quot;</td><td>41</td><td>2016-01-01 00:00:00</td><td>1</td><td>2016</td><td>1</td><td>1</td><td>0</td><td>5</td></tr><tr><td>5081</td><td>&quot;Little River&quot;</td><td>&quot;Arkansas&quot;</td><td>61</td><td>2016-01-01 00:00:00</td><td>1</td><td>2016</td><td>1</td><td>1</td><td>0</td><td>5</td></tr></tbody></table></div>"
      ],
      "text/plain": [
       "shape: (5, 11)\n",
       "┌───────────┬─────────────────┬──────────┬───────────────┬───┬───────┬─────┬──────┬─────────┐\n",
       "│ fips_code ┆ county          ┆ state    ┆ customers_out ┆ … ┆ month ┆ day ┆ hour ┆ weekday │\n",
       "│ ---       ┆ ---             ┆ ---      ┆ ---           ┆   ┆ ---   ┆ --- ┆ ---  ┆ ---     │\n",
       "│ i64       ┆ str             ┆ str      ┆ i64           ┆   ┆ i8    ┆ i8  ┆ i8   ┆ i8      │\n",
       "╞═══════════╪═════════════════╪══════════╪═══════════════╪═══╪═══════╪═════╪══════╪═════════╡\n",
       "│ 2122      ┆ Kenai Peninsula ┆ Alaska   ┆ 657           ┆ … ┆ 1     ┆ 1   ┆ 0    ┆ 5       │\n",
       "│ 5003      ┆ Ashley          ┆ Arkansas ┆ 7             ┆ … ┆ 1     ┆ 1   ┆ 0    ┆ 5       │\n",
       "│ 5029      ┆ Conway          ┆ Arkansas ┆ 2             ┆ … ┆ 1     ┆ 1   ┆ 0    ┆ 5       │\n",
       "│ 5069      ┆ Jefferson       ┆ Arkansas ┆ 41            ┆ … ┆ 1     ┆ 1   ┆ 0    ┆ 5       │\n",
       "│ 5081      ┆ Little River    ┆ Arkansas ┆ 61            ┆ … ┆ 1     ┆ 1   ┆ 0    ┆ 5       │\n",
       "└───────────┴─────────────────┴──────────┴───────────────┴───┴───────┴─────┴──────┴─────────┘"
      ]
     },
     "execution_count": 17,
     "metadata": {},
     "output_type": "execute_result"
    }
   ],
   "source": [
    "df_outages.head()"
   ]
  },
  {
   "cell_type": "code",
   "execution_count": 18,
   "metadata": {},
   "outputs": [],
   "source": [
    "# Drop unnecessary columns from df_weather\n",
    "df_weather = df_weather.drop(\n",
    "    [\n",
    "        \"Type\",\n",
    "        \"EventId\",\n",
    "        \"StartTime(UTC)\",\n",
    "        \"EndTime(UTC)\",\n",
    "        \"AirportCode\",\n",
    "        \"LocationLat\",\n",
    "        \"LocationLng\",\n",
    "        \"ZipCode\",\n",
    "        \"TimeZone\",\n",
    "        \"City\",\n",
    "    ]\n",
    ")"
   ]
  },
  {
   "cell_type": "code",
   "execution_count": 19,
   "metadata": {},
   "outputs": [],
   "source": [
    "# Lagged features for precipitation and rain\n",
    "for i in range(1, 3):\n",
    "    df_weather = df_weather.with_columns(\n",
    "        [\n",
    "            pl.col(\"Precipitation(in)\").shift(i).alias(f\"Precipitation_lag_{i}\"),\n",
    "            pl.col(\"rain\").shift(i).alias(f\"rain_lag_{i}\"),\n",
    "        ]\n",
    "    ) "
   ]
  },
  {
   "cell_type": "code",
   "execution_count": 20,
   "metadata": {},
   "outputs": [],
   "source": [
    "# Combined features\n",
    "df_weather = df_weather.with_columns(\n",
    "    [\n",
    "        (pl.col(\"rain\") * pl.col(\"cold\")).alias(\"rain_and_cold\"),\n",
    "        (pl.col(\"snow\") * pl.col(\"fog\")).alias(\"snow_and_fog\"), # Combined weather features\n",
    "    ]\n",
    ")"
   ]
  },
  {
   "cell_type": "code",
   "execution_count": 22,
   "metadata": {},
   "outputs": [],
   "source": [
    "df_outages=df_outages.rename({'state':'State'})\n",
    "df_outages= df_outages.rename({'county':'County'})"
   ]
  },
  {
   "cell_type": "code",
   "execution_count": 23,
   "metadata": {},
   "outputs": [],
   "source": [
    "df_outages = df_outages.join(data, on=\"State\", how=\"left\",coalesce=True)"
   ]
  },
  {
   "cell_type": "code",
   "execution_count": 24,
   "metadata": {},
   "outputs": [],
   "source": [
    "df_weather = df_weather.rename({'State':'State_code'})"
   ]
  },
  {
   "cell_type": "markdown",
   "metadata": {},
   "source": [
    "# 4. Merge DataFrames"
   ]
  },
  {
   "cell_type": "code",
   "execution_count": 26,
   "metadata": {},
   "outputs": [],
   "source": [
    "merged_df = df_outages.join(\n",
    "    df_weather,\n",
    "    on=[\"State_code\", \"County\", \"year\", \"month\", \"day\", \"hour\", \"weekday\"],\n",
    "    how=\"left\", coalesce=True\n",
    ")  # Merge based on common columns"
   ]
  },
  {
   "cell_type": "markdown",
   "metadata": {},
   "source": [
    "# 5. Handle Null Values and Inconsistent Data"
   ]
  },
  {
   "cell_type": "code",
   "execution_count": 27,
   "metadata": {},
   "outputs": [],
   "source": [
    "merged_df = merged_df.drop_nulls()"
   ]
  },
  {
   "cell_type": "markdown",
   "metadata": {},
   "source": [
    "# 6. Feature Selection"
   ]
  },
  {
   "cell_type": "code",
   "execution_count": 29,
   "metadata": {},
   "outputs": [],
   "source": [
    "features = [\n",
    "    \"Precipitation(in)\",\n",
    "    \"rain\",\n",
    "    \"cold\",\n",
    "    \"snow\",\n",
    "    \"fog\",\n",
    "    \"severity_encoded\",\n",
    "    \"Precipitation_lag_1\",\n",
    "    \"Precipitation_lag_2\",\n",
    "    \"rain_lag_1\",\n",
    "    \"rain_lag_2\",\n",
    "    \"rain_and_cold\",\n",
    "    \"snow_and_fog\",\n",
    "]\n",
    "X = merged_df.select(features)\n",
    "y = merged_df[\"power_outage\"]"
   ]
  },
  {
   "cell_type": "markdown",
   "metadata": {},
   "source": [
    "# 7. Feature Scaling"
   ]
  },
  {
   "cell_type": "code",
   "execution_count": 30,
   "metadata": {},
   "outputs": [],
   "source": [
    "scaler = MinMaxScaler()\n",
    "X_scaled = scaler.fit_transform(X.to_numpy())  # Scale features (if needed)"
   ]
  },
  {
   "cell_type": "markdown",
   "metadata": {},
   "source": [
    "# 8. Train-Test Split"
   ]
  },
  {
   "cell_type": "code",
   "execution_count": 31,
   "metadata": {},
   "outputs": [],
   "source": [
    "X_train, X_test, y_train, y_test = train_test_split(X_scaled, y.to_numpy(), test_size=0.2, random_state=42)  # Split data into training and testing sets"
   ]
  },
  {
   "cell_type": "markdown",
   "metadata": {},
   "source": [
    "# 9. Model Training and Evaluation"
   ]
  },
  {
   "cell_type": "code",
   "execution_count": 32,
   "metadata": {},
   "outputs": [],
   "source": [
    "def train_and_evaluate(model, X_train, y_train, X_test, y_test):\n",
    "    \"\"\"Trains and evaluates the specified model.\"\"\"\n",
    "    model.fit(X_train, y_train)  # Train the model\n",
    "    y_pred = model.predict(X_test)\n",
    "    \n",
    "    accuracy = accuracy_score(y_test, y_pred)\n",
    "    precision = precision_score(y_test, y_pred)\n",
    "    recall = recall_score(y_test, y_pred)\n",
    "    f1 = f1_score(y_test, y_pred)\n",
    "    auc = roc_auc_score(y_test, y_pred)\n",
    "    \n",
    "    print(f\"Accuracy: {accuracy:.4f}\")\n",
    "    print(f\"Precision: {precision:.4f}\")\n",
    "    print(f\"Recall: {recall:.4f}\")\n",
    "    print(f\"F1-score: {f1:.4f}\")\n",
    "    print(f\"AUC: {auc:.4f}\")\n",
    "    \n",
    "    cm = confusion_matrix(y_test, y_pred)\n",
    "    sns.heatmap(cm, annot=True, fmt='g', cmap='Blues')\n",
    "    plt.xlabel('Predicted')\n",
    "    plt.ylabel('Actual')\n",
    "    plt.title(f'Confusion Matrix for {model.__class__.__name__}')\n",
    "    plt.show()\n",
    "    \n",
    "    return model, y_pred"
   ]
  },
  {
   "cell_type": "markdown",
   "metadata": {},
   "source": [
    "# 10. Model Selection (Logistic Regression)"
   ]
  },
  {
   "cell_type": "code",
   "execution_count": 34,
   "metadata": {},
   "outputs": [],
   "source": [
    "# Create a Logistic Regression model\n",
    "logreg_model = LogisticRegression(max_iter=500)"
   ]
  },
  {
   "cell_type": "code",
   "execution_count": 35,
   "metadata": {},
   "outputs": [
    {
     "name": "stdout",
     "output_type": "stream",
     "text": [
      "Accuracy: 0.5756\n",
      "Precision: 0.5865\n",
      "Recall: 0.8964\n",
      "F1-score: 0.7091\n",
      "AUC: 0.5172\n"
     ]
    },
    {
     "data": {
      "image/png": "[encoded data removed]",
      "text/plain": [
       "<Figure size 432x288 with 2 Axes>"
      ]
     },
     "metadata": {
      "needs_background": "light"
     },
     "output_type": "display_data"
    }
   ],
   "source": [
    "# Train and evaluate the model\n",
    "logreg_model, y_pred_logreg = train_and_evaluate(logreg_model, X_train, y_train, X_test, y_test)"
   ]
  },
  {
   "cell_type": "markdown",
   "metadata": {},
   "source": [
    "# 11. Model Selection (Decision Tree)"
   ]
  },
  {
   "cell_type": "code",
   "execution_count": 36,
   "metadata": {},
   "outputs": [],
   "source": [
    "dt_model = DecisionTreeClassifier(random_state=42)"
   ]
  },
  {
   "cell_type": "code",
   "execution_count": 37,
   "metadata": {},
   "outputs": [
    {
     "name": "stdout",
     "output_type": "stream",
     "text": [
      "Accuracy: 0.6539\n",
      "Precision: 0.6631\n",
      "Recall: 0.8131\n",
      "F1-score: 0.7305\n",
      "AUC: 0.6249\n"
     ]
    },
    {
     "data": {
      "image/png": "[encoded data removed]",
      "text/plain": [
       "<Figure size 432x288 with 2 Axes>"
      ]
     },
     "metadata": {
      "needs_background": "light"
     },
     "output_type": "display_data"
    }
   ],
   "source": [
    "# Train and evaluate the model\n",
    "dt_model, y_pred_dt = train_and_evaluate(dt_model, X_train, y_train, X_test, y_test)"
   ]
  },
  {
   "cell_type": "markdown",
   "metadata": {},
   "source": [
    "# 12. Model Selection (Random Forest)"
   ]
  },
  {
   "cell_type": "code",
   "execution_count": 38,
   "metadata": {},
   "outputs": [],
   "source": [
    "\n",
    "rf_model = RandomForestClassifier(random_state=42)"
   ]
  },
  {
   "cell_type": "code",
   "execution_count": 39,
   "metadata": {},
   "outputs": [
    {
     "name": "stdout",
     "output_type": "stream",
     "text": [
      "Accuracy: 0.6551\n",
      "Precision: 0.6611\n",
      "Recall: 0.8254\n",
      "F1-score: 0.7342\n",
      "AUC: 0.6241\n"
     ]
    },
    {
     "data": {
      "image/png": "[encoded data removed]",
      "text/plain": [
       "<Figure size 432x288 with 2 Axes>"
      ]
     },
     "metadata": {
      "needs_background": "light"
     },
     "output_type": "display_data"
    }
   ],
   "source": [
    "# Train and evaluate the model\n",
    "rf_model, y_pred_rf = train_and_evaluate(rf_model, X_train, y_train, X_test, y_test)"
   ]
  },
  {
   "cell_type": "code",
   "execution_count": 40,
   "metadata": {},
   "outputs": [
    {
     "data": {
      "image/png": "[encoded data removed]",
      "text/plain": [
       "<Figure size 720x432 with 1 Axes>"
      ]
     },
     "metadata": {
      "needs_background": "light"
     },
     "output_type": "display_data"
    }
   ],
   "source": [
    "if isinstance(rf_model, RandomForestClassifier):\n",
    "    importances = rf_model.feature_importances_\n",
    "    plt.figure(figsize=(10, 6))\n",
    "    plt.bar(features, importances)\n",
    "    plt.xlabel('Features')\n",
    "    plt.ylabel('Importance')\n",
    "    plt.title('Feature Importance in Random Forest')\n",
    "    plt.xticks(rotation=45)\n",
    "    plt.show()"
   ]
  },
  {
   "cell_type": "code",
   "execution_count": null,
   "metadata": {},
   "outputs": [],
   "source": []
  }
 ],
 "metadata": {
  "kernelspec": {
   "display_name": "base",
   "language": "python",
   "name": "python3"
  },
  "language_info": {
   "codemirror_mode": {
    "name": "ipython",
    "version": 3
   },
   "file_extension": ".py",
   "mimetype": "text/x-python",
   "name": "python",
   "nbconvert_exporter": "python",
   "pygments_lexer": "ipython3",
   "version": "3.9.12"
  }
 },
 "nbformat": 4,
 "nbformat_minor": 2
}
