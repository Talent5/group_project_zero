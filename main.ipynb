{
 "cells": [
  {
   "cell_type": "code",
   "execution_count": 1,
   "id": "044dd01f-e9df-439f-ac16-53b94386b9ea",
   "metadata": {},
   "outputs": [],
   "source": [
    "import polars as pl"
   ]
  },
  {
   "cell_type": "code",
   "execution_count": 2,
   "id": "b6363789-c6d0-4780-8099-ed4982e0fac8",
   "metadata": {},
   "outputs": [
    {
     "data": {
      "text/plain": [
       "polars.config.Config"
      ]
     },
     "execution_count": 2,
     "metadata": {},
     "output_type": "execute_result"
    }
   ],
   "source": [
    "pl.Config.set_fmt_str_lengths(100)"
   ]
  },
  {
   "cell_type": "code",
   "execution_count": 3,
   "id": "d184c12e-3a6d-4d23-bf5f-9d362e4166e4",
   "metadata": {},
   "outputs": [],
   "source": [
    "df_outages = pl.read_csv(\"datasets/eaglei_outages_2016.csv\")"
   ]
  },
  {
   "cell_type": "code",
   "execution_count": 4,
   "id": "b005023d-ca64-4a6e-b9b2-2406f5bdbd1f",
   "metadata": {},
   "outputs": [],
   "source": [
    "df_weather = pl.read_csv(\"datasets/WeatherEvents_Jan2016-Dec2022.csv\")"
   ]
  },
  {
   "cell_type": "code",
   "execution_count": 5,
   "id": "174e2010-8503-4a93-bb66-a5d572b2ed36",
   "metadata": {},
   "outputs": [
    {
     "data": {
      "text/plain": [
       "((13306024, 5), (8627181, 14))"
      ]
     },
     "execution_count": 5,
     "metadata": {},
     "output_type": "execute_result"
    }
   ],
   "source": [
    "df_outages.shape, df_weather.shape"
   ]
  },
  {
   "cell_type": "code",
   "execution_count": 6,
   "id": "5aa7b98b-0672-4e42-ab82-adaefa93ad66",
   "metadata": {},
   "outputs": [
    {
     "data": {
      "text/html": [
       "<div><style>\n",
       ".dataframe > thead > tr,\n",
       ".dataframe > tbody > tr {\n",
       "  text-align: right;\n",
       "  white-space: pre-wrap;\n",
       "}\n",
       "</style>\n",
       "<small>shape: (3, 14)</small><table border=\"1\" class=\"dataframe\"><thead><tr><th>EventId</th><th>Type</th><th>Severity</th><th>StartTime(UTC)</th><th>EndTime(UTC)</th><th>Precipitation(in)</th><th>TimeZone</th><th>AirportCode</th><th>LocationLat</th><th>LocationLng</th><th>City</th><th>County</th><th>State</th><th>ZipCode</th></tr><tr><td>str</td><td>str</td><td>str</td><td>str</td><td>str</td><td>f64</td><td>str</td><td>str</td><td>f64</td><td>f64</td><td>str</td><td>str</td><td>str</td><td>i64</td></tr></thead><tbody><tr><td>&quot;W-8582173&quot;</td><td>&quot;Cold&quot;</td><td>&quot;Severe&quot;</td><td>&quot;2018-06-21 15:55:00&quot;</td><td>&quot;2018-06-21 16:15:00&quot;</td><td>0.0</td><td>&quot;US/Central&quot;</td><td>&quot;KSOA&quot;</td><td>30.5857</td><td>-100.6486</td><td>&quot;Sonora&quot;</td><td>&quot;Sutton&quot;</td><td>&quot;TX&quot;</td><td>76950</td></tr><tr><td>&quot;W-5626124&quot;</td><td>&quot;Rain&quot;</td><td>&quot;Light&quot;</td><td>&quot;2019-06-05 03:15:00&quot;</td><td>&quot;2019-06-05 04:15:00&quot;</td><td>0.0</td><td>&quot;US/Central&quot;</td><td>&quot;KMOX&quot;</td><td>45.5677</td><td>-95.9659</td><td>&quot;Morris&quot;</td><td>&quot;Stevens&quot;</td><td>&quot;MN&quot;</td><td>56267</td></tr><tr><td>&quot;W-1965035&quot;</td><td>&quot;Rain&quot;</td><td>&quot;Light&quot;</td><td>&quot;2017-05-29 00:14:00&quot;</td><td>&quot;2017-05-29 00:34:00&quot;</td><td>0.0</td><td>&quot;US/Central&quot;</td><td>&quot;KBBB&quot;</td><td>45.331</td><td>-95.6469</td><td>&quot;Benson&quot;</td><td>&quot;Swift&quot;</td><td>&quot;MN&quot;</td><td>56215</td></tr></tbody></table></div>"
      ],
      "text/plain": [
       "shape: (3, 14)\n",
       "┌───────────┬──────┬──────────┬─────────────────────┬───┬────────┬─────────┬───────┬─────────┐\n",
       "│ EventId   ┆ Type ┆ Severity ┆ StartTime(UTC)      ┆ … ┆ City   ┆ County  ┆ State ┆ ZipCode │\n",
       "│ ---       ┆ ---  ┆ ---      ┆ ---                 ┆   ┆ ---    ┆ ---     ┆ ---   ┆ ---     │\n",
       "│ str       ┆ str  ┆ str      ┆ str                 ┆   ┆ str    ┆ str     ┆ str   ┆ i64     │\n",
       "╞═══════════╪══════╪══════════╪═════════════════════╪═══╪════════╪═════════╪═══════╪═════════╡\n",
       "│ W-8582173 ┆ Cold ┆ Severe   ┆ 2018-06-21 15:55:00 ┆ … ┆ Sonora ┆ Sutton  ┆ TX    ┆ 76950   │\n",
       "│ W-5626124 ┆ Rain ┆ Light    ┆ 2019-06-05 03:15:00 ┆ … ┆ Morris ┆ Stevens ┆ MN    ┆ 56267   │\n",
       "│ W-1965035 ┆ Rain ┆ Light    ┆ 2017-05-29 00:14:00 ┆ … ┆ Benson ┆ Swift   ┆ MN    ┆ 56215   │\n",
       "└───────────┴──────┴──────────┴─────────────────────┴───┴────────┴─────────┴───────┴─────────┘"
      ]
     },
     "execution_count": 6,
     "metadata": {},
     "output_type": "execute_result"
    }
   ],
   "source": [
    "df_weather.sample(3)"
   ]
  },
  {
   "cell_type": "code",
   "execution_count": 7,
   "id": "bf37bede-0714-4824-9f7d-aa038105b266",
   "metadata": {},
   "outputs": [
    {
     "data": {
      "text/html": [
       "<div><style>\n",
       ".dataframe > thead > tr,\n",
       ".dataframe > tbody > tr {\n",
       "  text-align: right;\n",
       "  white-space: pre-wrap;\n",
       "}\n",
       "</style>\n",
       "<small>shape: (3, 5)</small><table border=\"1\" class=\"dataframe\"><thead><tr><th>fips_code</th><th>county</th><th>state</th><th>customers_out</th><th>run_start_time</th></tr><tr><td>i64</td><td>str</td><td>str</td><td>i64</td><td>str</td></tr></thead><tbody><tr><td>55125</td><td>&quot;Vilas&quot;</td><td>&quot;Wisconsin&quot;</td><td>22</td><td>&quot;2016-11-04 14:30:00&quot;</td></tr><tr><td>34025</td><td>&quot;Monmouth&quot;</td><td>&quot;New Jersey&quot;</td><td>8</td><td>&quot;2016-11-25 10:00:00&quot;</td></tr><tr><td>29027</td><td>&quot;Callaway&quot;</td><td>&quot;Missouri&quot;</td><td>1</td><td>&quot;2016-04-03 12:45:00&quot;</td></tr></tbody></table></div>"
      ],
      "text/plain": [
       "shape: (3, 5)\n",
       "┌───────────┬──────────┬────────────┬───────────────┬─────────────────────┐\n",
       "│ fips_code ┆ county   ┆ state      ┆ customers_out ┆ run_start_time      │\n",
       "│ ---       ┆ ---      ┆ ---        ┆ ---           ┆ ---                 │\n",
       "│ i64       ┆ str      ┆ str        ┆ i64           ┆ str                 │\n",
       "╞═══════════╪══════════╪════════════╪═══════════════╪═════════════════════╡\n",
       "│ 55125     ┆ Vilas    ┆ Wisconsin  ┆ 22            ┆ 2016-11-04 14:30:00 │\n",
       "│ 34025     ┆ Monmouth ┆ New Jersey ┆ 8             ┆ 2016-11-25 10:00:00 │\n",
       "│ 29027     ┆ Callaway ┆ Missouri   ┆ 1             ┆ 2016-04-03 12:45:00 │\n",
       "└───────────┴──────────┴────────────┴───────────────┴─────────────────────┘"
      ]
     },
     "execution_count": 7,
     "metadata": {},
     "output_type": "execute_result"
    }
   ],
   "source": [
    "df_outages.sample(3)"
   ]
  },
  {
   "cell_type": "markdown",
   "id": "20233e16",
   "metadata": {},
   "source": [
    "## Data Cleaning:"
   ]
  },
  {
   "cell_type": "code",
   "execution_count": 8,
   "id": "74126240",
   "metadata": {},
   "outputs": [
    {
     "name": "stdout",
     "output_type": "stream",
     "text": [
      "shape: (1, 5)\n",
      "┌───────────┬────────┬───────┬───────────────┬────────────────┐\n",
      "│ fips_code ┆ county ┆ state ┆ customers_out ┆ run_start_time │\n",
      "│ ---       ┆ ---    ┆ ---   ┆ ---           ┆ ---            │\n",
      "│ u32       ┆ u32    ┆ u32   ┆ u32           ┆ u32            │\n",
      "╞═══════════╪════════╪═══════╪═══════════════╪════════════════╡\n",
      "│ 0         ┆ 0      ┆ 0     ┆ 0             ┆ 0              │\n",
      "└───────────┴────────┴───────┴───────────────┴────────────────┘\n",
      "shape: (1, 14)\n",
      "┌─────────┬──────┬──────────┬────────────────┬───┬───────┬────────┬───────┬─────────┐\n",
      "│ EventId ┆ Type ┆ Severity ┆ StartTime(UTC) ┆ … ┆ City  ┆ County ┆ State ┆ ZipCode │\n",
      "│ ---     ┆ ---  ┆ ---      ┆ ---            ┆   ┆ ---   ┆ ---    ┆ ---   ┆ ---     │\n",
      "│ u32     ┆ u32  ┆ u32      ┆ u32            ┆   ┆ u32   ┆ u32    ┆ u32   ┆ u32     │\n",
      "╞═════════╪══════╪══════════╪════════════════╪═══╪═══════╪════════╪═══════╪═════════╡\n",
      "│ 0       ┆ 0    ┆ 0        ┆ 0              ┆ … ┆ 16912 ┆ 0      ┆ 0     ┆ 69199   │\n",
      "└─────────┴──────┴──────────┴────────────────┴───┴───────┴────────┴───────┴─────────┘\n"
     ]
    }
   ],
   "source": [
    "print(df_outages.null_count())\n",
    "print(df_weather.null_count())"
   ]
  },
  {
   "cell_type": "code",
   "execution_count": 9,
   "id": "5cff0c56",
   "metadata": {},
   "outputs": [],
   "source": [
    "df_outages = df_outages.with_columns(pl.col(\"run_start_time\").str.strptime(pl.Datetime, \"%Y-%m-%d %H:%M:%S\"))\n",
    "df_weather = df_weather.with_columns([\n",
    "    pl.col(\"StartTime(UTC)\").str.strptime(pl.Datetime, \"%Y-%m-%d %H:%M:%S\"),\n",
    "    pl.col(\"EndTime(UTC)\").str.strptime(pl.Datetime, \"%Y-%m-%d %H:%M:%S\")\n",
    "])"
   ]
  },
  {
   "cell_type": "code",
   "execution_count": 10,
   "id": "659fbb1d",
   "metadata": {},
   "outputs": [
    {
     "data": {
      "text/html": [
       "<div><style>\n",
       ".dataframe > thead > tr,\n",
       ".dataframe > tbody > tr {\n",
       "  text-align: right;\n",
       "  white-space: pre-wrap;\n",
       "}\n",
       "</style>\n",
       "<small>shape: (5, 14)</small><table border=\"1\" class=\"dataframe\"><thead><tr><th>EventId</th><th>Type</th><th>Severity</th><th>StartTime(UTC)</th><th>EndTime(UTC)</th><th>Precipitation(in)</th><th>TimeZone</th><th>AirportCode</th><th>LocationLat</th><th>LocationLng</th><th>City</th><th>County</th><th>State</th><th>ZipCode</th></tr><tr><td>str</td><td>str</td><td>str</td><td>datetime[μs]</td><td>datetime[μs]</td><td>f64</td><td>str</td><td>str</td><td>f64</td><td>f64</td><td>str</td><td>str</td><td>str</td><td>i64</td></tr></thead><tbody><tr><td>&quot;W-6594541&quot;</td><td>&quot;Rain&quot;</td><td>&quot;Light&quot;</td><td>2019-10-22 07:01:00</td><td>2019-10-22 07:11:00</td><td>0.04</td><td>&quot;US/Central&quot;</td><td>&quot;KEET&quot;</td><td>33.1783</td><td>-86.7817</td><td>&quot;Alabaster&quot;</td><td>&quot;Shelby&quot;</td><td>&quot;AL&quot;</td><td>35007</td></tr><tr><td>&quot;W-7438469&quot;</td><td>&quot;Fog&quot;</td><td>&quot;Severe&quot;</td><td>2016-08-18 07:44:00</td><td>2016-08-18 08:25:00</td><td>0.0</td><td>&quot;US/Eastern&quot;</td><td>&quot;KBJJ&quot;</td><td>40.8731</td><td>-81.8867</td><td>&quot;Smithville&quot;</td><td>&quot;Wayne&quot;</td><td>&quot;OH&quot;</td><td>44677</td></tr><tr><td>&quot;W-1283901&quot;</td><td>&quot;Rain&quot;</td><td>&quot;Light&quot;</td><td>2020-01-28 14:15:00</td><td>2020-01-28 16:55:00</td><td>0.39</td><td>&quot;US/Central&quot;</td><td>&quot;KDUC&quot;</td><td>34.4778</td><td>-97.9616</td><td>&quot;Duncan&quot;</td><td>&quot;Stephens&quot;</td><td>&quot;OK&quot;</td><td>73533</td></tr><tr><td>&quot;W-425463&quot;</td><td>&quot;Rain&quot;</td><td>&quot;Heavy&quot;</td><td>2018-12-27 23:55:00</td><td>2018-12-28 00:15:00</td><td>0.31</td><td>&quot;US/Central&quot;</td><td>&quot;KALX&quot;</td><td>32.9147</td><td>-85.9628</td><td>&quot;Alexander City&quot;</td><td>&quot;Tallapoosa&quot;</td><td>&quot;AL&quot;</td><td>35010</td></tr><tr><td>&quot;W-1813216&quot;</td><td>&quot;Rain&quot;</td><td>&quot;Light&quot;</td><td>2018-12-21 04:35:00</td><td>2018-12-21 05:35:00</td><td>0.06</td><td>&quot;US/Eastern&quot;</td><td>&quot;KLKU&quot;</td><td>38.0097</td><td>-77.97</td><td>&quot;Louisa&quot;</td><td>&quot;Louisa&quot;</td><td>&quot;VA&quot;</td><td>23093</td></tr></tbody></table></div>"
      ],
      "text/plain": [
       "shape: (5, 14)\n",
       "┌───────────┬──────┬──────────┬────────────────┬───┬────────────────┬────────────┬───────┬─────────┐\n",
       "│ EventId   ┆ Type ┆ Severity ┆ StartTime(UTC) ┆ … ┆ City           ┆ County     ┆ State ┆ ZipCode │\n",
       "│ ---       ┆ ---  ┆ ---      ┆ ---            ┆   ┆ ---            ┆ ---        ┆ ---   ┆ ---     │\n",
       "│ str       ┆ str  ┆ str      ┆ datetime[μs]   ┆   ┆ str            ┆ str        ┆ str   ┆ i64     │\n",
       "╞═══════════╪══════╪══════════╪════════════════╪═══╪════════════════╪════════════╪═══════╪═════════╡\n",
       "│ W-6594541 ┆ Rain ┆ Light    ┆ 2019-10-22     ┆ … ┆ Alabaster      ┆ Shelby     ┆ AL    ┆ 35007   │\n",
       "│           ┆      ┆          ┆ 07:01:00       ┆   ┆                ┆            ┆       ┆         │\n",
       "│ W-7438469 ┆ Fog  ┆ Severe   ┆ 2016-08-18     ┆ … ┆ Smithville     ┆ Wayne      ┆ OH    ┆ 44677   │\n",
       "│           ┆      ┆          ┆ 07:44:00       ┆   ┆                ┆            ┆       ┆         │\n",
       "│ W-1283901 ┆ Rain ┆ Light    ┆ 2020-01-28     ┆ … ┆ Duncan         ┆ Stephens   ┆ OK    ┆ 73533   │\n",
       "│           ┆      ┆          ┆ 14:15:00       ┆   ┆                ┆            ┆       ┆         │\n",
       "│ W-425463  ┆ Rain ┆ Heavy    ┆ 2018-12-27     ┆ … ┆ Alexander City ┆ Tallapoosa ┆ AL    ┆ 35010   │\n",
       "│           ┆      ┆          ┆ 23:55:00       ┆   ┆                ┆            ┆       ┆         │\n",
       "│ W-1813216 ┆ Rain ┆ Light    ┆ 2018-12-21     ┆ … ┆ Louisa         ┆ Louisa     ┆ VA    ┆ 23093   │\n",
       "│           ┆      ┆          ┆ 04:35:00       ┆   ┆                ┆            ┆       ┆         │\n",
       "└───────────┴──────┴──────────┴────────────────┴───┴────────────────┴────────────┴───────┴─────────┘"
      ]
     },
     "execution_count": 10,
     "metadata": {},
     "output_type": "execute_result"
    }
   ],
   "source": [
    "df_outages.sample(5)\n",
    "df_weather.sample(5)"
   ]
  },
  {
   "cell_type": "code",
   "execution_count": 11,
   "id": "9360476c",
   "metadata": {},
   "outputs": [
    {
     "name": "stderr",
     "output_type": "stream",
     "text": [
      "C:\\Users\\Sarah-Lee Tanaka\\AppData\\Local\\Temp\\ipykernel_21976\\2572444476.py:1: CategoricalRemappingWarning: Local categoricals have different encodings, expensive re-encoding is done to perform this merge operation. Consider using a StringCache or an Enum type if the categories are known in advance\n",
      "  df_weather = df_weather.with_columns(pl.col(\"Type\").cast(pl.Categorical))\n"
     ]
    }
   ],
   "source": [
    "df_weather = df_weather.with_columns(pl.col(\"Type\").cast(pl.Categorical))"
   ]
  },
  {
   "cell_type": "code",
   "execution_count": 12,
   "id": "5f3c19ec",
   "metadata": {},
   "outputs": [
    {
     "data": {
      "image/png": "[encoded data removed]",
      "text/plain": [
       "<Figure size 640x480 with 1 Axes>"
      ]
     },
     "metadata": {},
     "output_type": "display_data"
    }
   ],
   "source": [
    "#Outlier Detection and Handling:\n",
    "# Example to plot a histogram for `Customers_Out`\n",
    "import matplotlib.pyplot as plt\n",
    "plt.hist(df_outages[\"customers_out\"].to_numpy(), bins=20)\n",
    "plt.xlabel('customers Out')\n",
    "plt.ylabel('Frequency')\n",
    "plt.title('Distribution of customers Out')\n",
    "plt.show()"
   ]
  },
  {
   "cell_type": "code",
   "execution_count": 13,
   "id": "355376b9",
   "metadata": {},
   "outputs": [],
   "source": [
    "# Sort by datetime columns\n",
    "df_outages = df_outages.sort(\"run_start_time\")\n",
    "df_weather = df_weather.sort(\"StartTime(UTC)\")"
   ]
  },
  {
   "cell_type": "code",
   "execution_count": 14,
   "id": "6840dff6",
   "metadata": {},
   "outputs": [],
   "source": [
    "from scipy import stats\n",
    "import numpy as np\n",
    "\n",
    "# Calculate z-scores\n",
    "z_scores = stats.zscore(df_outages[\"customers_out\"].to_numpy())  # Convert to NumPy array\n",
    "\n",
    "# Define a threshold (e.g., 3 standard deviations)\n",
    "threshold = 0.02\n",
    "# Create a boolean mask for outliers using NumPy\n",
    "outlier_mask = (np.abs(z_scores) >= threshold)\n",
    "\n",
    "# Filter out outliers using the boolean mask\n",
    "df_outages_filtered = df_outages.filter(~pl.Series(outlier_mask))\n"
   ]
  },
  {
   "cell_type": "code",
   "execution_count": 15,
   "id": "cde7c697",
   "metadata": {},
   "outputs": [
    {
     "data": {
      "image/png": "[encoded data removed]",
      "text/plain": [
       "<Figure size 640x480 with 1 Axes>"
      ]
     },
     "metadata": {},
     "output_type": "display_data"
    }
   ],
   "source": [
    "plt.hist(df_outages_filtered[\"customers_out\"].to_numpy(), bins=20)\n",
    "plt.xlabel('customers Out')\n",
    "plt.ylabel('Frequency')\n",
    "plt.title('Distribution of customers Out')\n",
    "plt.show()"
   ]
  },
  {
   "cell_type": "markdown",
   "id": "ecc07186",
   "metadata": {},
   "source": [
    "## Feature Engineering:"
   ]
  },
  {
   "cell_type": "code",
   "execution_count": 16,
   "id": "e717f3b6",
   "metadata": {},
   "outputs": [],
   "source": [
    "#One-Hot Encoding for Weather Types\n",
    "weather_types = [\"Rain\", \"Cold\", \"Snow\", \"Fog\"]\n",
    "for weather_type in weather_types:\n",
    "    df_weather = df_weather.with_columns(\n",
    "        (pl.col(\"Type\") == weather_type).cast(pl.Int8).alias(weather_type.lower())\n",
    "    )\n",
    "\n"
   ]
  },
  {
   "cell_type": "code",
   "execution_count": 17,
   "id": "4dd5039d",
   "metadata": {},
   "outputs": [],
   "source": [
    "#Extract relevant time components from the StartTime(UTC) column:\n",
    "df_weather = df_weather.with_columns(\n",
    "    (\n",
    "        pl.col(\"StartTime(UTC)\").dt.year().alias(\"year\"),\n",
    "        pl.col(\"StartTime(UTC)\").dt.month().alias(\"month\"),\n",
    "        pl.col(\"StartTime(UTC)\").dt.day().alias(\"day\"),\n",
    "        pl.col(\"StartTime(UTC)\").dt.hour().alias(\"hour\"),\n",
    "        pl.col(\"StartTime(UTC)\").dt.weekday().alias(\"weekday\"),\n",
    "    )\n",
    ")\n"
   ]
  },
  {
   "cell_type": "code",
   "execution_count": 18,
   "id": "58d0b94d",
   "metadata": {},
   "outputs": [],
   "source": [
    "#Calculate the duration of each weather event:\n",
    "df_weather = df_weather.with_columns(\n",
    "    (pl.col(\"EndTime(UTC)\") - pl.col(\"StartTime(UTC)\")).dt.total_seconds().alias(\"duration_seconds\")\n",
    ")\n"
   ]
  },
  {
   "cell_type": "code",
   "execution_count": 19,
   "id": "67d6b266",
   "metadata": {},
   "outputs": [],
   "source": [
    "#Assign numerical values to each severity level (e.g., \"Light\"=1, \"Moderate\"=2, \"Heavy\"=3, \"Severe\"=4).\n",
    "severity_mapping = {\"Light\": 1, \"Moderate\": 2, \"Heavy\": 3, \"Severe\": 4}\n",
    "df_weather = df_weather.with_columns(\n",
    "    pl.col(\"Severity\").replace(severity_mapping).alias(\"severity_encoded\")\n",
    ")\n",
    "\n"
   ]
  },
  {
   "cell_type": "code",
   "execution_count": 20,
   "id": "d5ec93fe",
   "metadata": {},
   "outputs": [],
   "source": [
    "#Dropping Unnecessary Columns:\n",
    "df_weather = df_weather.drop([\"Type\", \"Severity\", \"EventId\"])\n"
   ]
  },
  {
   "cell_type": "code",
   "execution_count": 21,
   "id": "2b42920a",
   "metadata": {},
   "outputs": [
    {
     "data": {
      "text/html": [
       "<div><style>\n",
       ".dataframe > thead > tr,\n",
       ".dataframe > tbody > tr {\n",
       "  text-align: right;\n",
       "  white-space: pre-wrap;\n",
       "}\n",
       "</style>\n",
       "<small>shape: (5, 22)</small><table border=\"1\" class=\"dataframe\"><thead><tr><th>StartTime(UTC)</th><th>EndTime(UTC)</th><th>Precipitation(in)</th><th>TimeZone</th><th>AirportCode</th><th>LocationLat</th><th>LocationLng</th><th>City</th><th>County</th><th>State</th><th>ZipCode</th><th>rain</th><th>cold</th><th>snow</th><th>fog</th><th>year</th><th>month</th><th>day</th><th>hour</th><th>weekday</th><th>duration_seconds</th><th>severity_encoded</th></tr><tr><td>datetime[μs]</td><td>datetime[μs]</td><td>f64</td><td>str</td><td>str</td><td>f64</td><td>f64</td><td>str</td><td>str</td><td>str</td><td>i64</td><td>i8</td><td>i8</td><td>i8</td><td>i8</td><td>i32</td><td>i8</td><td>i8</td><td>i8</td><td>i8</td><td>i64</td><td>str</td></tr></thead><tbody><tr><td>2020-07-21 21:31:00</td><td>2020-07-21 21:40:00</td><td>0.0</td><td>&quot;US/Mountain&quot;</td><td>&quot;KEFC&quot;</td><td>44.7342</td><td>-103.862</td><td>&quot;Belle Fourche&quot;</td><td>&quot;Butte&quot;</td><td>&quot;SD&quot;</td><td>57717</td><td>1</td><td>0</td><td>0</td><td>0</td><td>2020</td><td>7</td><td>21</td><td>21</td><td>2</td><td>540</td><td>&quot;1&quot;</td></tr><tr><td>2019-05-02 22:15:00</td><td>2019-05-02 22:35:00</td><td>0.0</td><td>&quot;US/Eastern&quot;</td><td>&quot;KCVX&quot;</td><td>45.3047</td><td>-85.2747</td><td>&quot;Charlevoix&quot;</td><td>&quot;Charlevoix&quot;</td><td>&quot;MI&quot;</td><td>49720</td><td>1</td><td>0</td><td>0</td><td>0</td><td>2019</td><td>5</td><td>2</td><td>22</td><td>4</td><td>1200</td><td>&quot;1&quot;</td></tr><tr><td>2020-01-17 05:53:00</td><td>2020-01-17 06:53:00</td><td>0.0</td><td>&quot;US/Eastern&quot;</td><td>&quot;K48I&quot;</td><td>38.6869</td><td>-80.6517</td><td>&quot;Sutton&quot;</td><td>&quot;Braxton&quot;</td><td>&quot;WV&quot;</td><td>26601</td><td>0</td><td>0</td><td>1</td><td>0</td><td>2020</td><td>1</td><td>17</td><td>5</td><td>5</td><td>3600</td><td>&quot;1&quot;</td></tr><tr><td>2021-08-27 19:14:00</td><td>2021-08-27 19:52:00</td><td>0.0</td><td>&quot;US/Mountain&quot;</td><td>&quot;KGFA&quot;</td><td>47.5047</td><td>-111.1873</td><td>&quot;Malmstrom Afb&quot;</td><td>&quot;Cascade&quot;</td><td>&quot;MT&quot;</td><td>59402</td><td>1</td><td>0</td><td>0</td><td>0</td><td>2021</td><td>8</td><td>27</td><td>19</td><td>5</td><td>2280</td><td>&quot;1&quot;</td></tr><tr><td>2018-09-26 21:29:00</td><td>2018-09-26 22:53:00</td><td>0.06</td><td>&quot;US/Central&quot;</td><td>&quot;KSGR&quot;</td><td>29.6223</td><td>-95.6565</td><td>&quot;Sugar Land&quot;</td><td>&quot;Fort Bend&quot;</td><td>&quot;TX&quot;</td><td>77498</td><td>1</td><td>0</td><td>0</td><td>0</td><td>2018</td><td>9</td><td>26</td><td>21</td><td>3</td><td>5040</td><td>&quot;1&quot;</td></tr></tbody></table></div>"
      ],
      "text/plain": [
       "shape: (5, 22)\n",
       "┌────────────┬────────────┬────────────┬────────────┬───┬──────┬─────────┬────────────┬────────────┐\n",
       "│ StartTime( ┆ EndTime(UT ┆ Precipitat ┆ TimeZone   ┆ … ┆ hour ┆ weekday ┆ duration_s ┆ severity_e │\n",
       "│ UTC)       ┆ C)         ┆ ion(in)    ┆ ---        ┆   ┆ ---  ┆ ---     ┆ econds     ┆ ncoded     │\n",
       "│ ---        ┆ ---        ┆ ---        ┆ str        ┆   ┆ i8   ┆ i8      ┆ ---        ┆ ---        │\n",
       "│ datetime[μ ┆ datetime[μ ┆ f64        ┆            ┆   ┆      ┆         ┆ i64        ┆ str        │\n",
       "│ s]         ┆ s]         ┆            ┆            ┆   ┆      ┆         ┆            ┆            │\n",
       "╞════════════╪════════════╪════════════╪════════════╪═══╪══════╪═════════╪════════════╪════════════╡\n",
       "│ 2020-07-21 ┆ 2020-07-21 ┆ 0.0        ┆ US/Mountai ┆ … ┆ 21   ┆ 2       ┆ 540        ┆ 1          │\n",
       "│ 21:31:00   ┆ 21:40:00   ┆            ┆ n          ┆   ┆      ┆         ┆            ┆            │\n",
       "│ 2019-05-02 ┆ 2019-05-02 ┆ 0.0        ┆ US/Eastern ┆ … ┆ 22   ┆ 4       ┆ 1200       ┆ 1          │\n",
       "│ 22:15:00   ┆ 22:35:00   ┆            ┆            ┆   ┆      ┆         ┆            ┆            │\n",
       "│ 2020-01-17 ┆ 2020-01-17 ┆ 0.0        ┆ US/Eastern ┆ … ┆ 5    ┆ 5       ┆ 3600       ┆ 1          │\n",
       "│ 05:53:00   ┆ 06:53:00   ┆            ┆            ┆   ┆      ┆         ┆            ┆            │\n",
       "│ 2021-08-27 ┆ 2021-08-27 ┆ 0.0        ┆ US/Mountai ┆ … ┆ 19   ┆ 5       ┆ 2280       ┆ 1          │\n",
       "│ 19:14:00   ┆ 19:52:00   ┆            ┆ n          ┆   ┆      ┆         ┆            ┆            │\n",
       "│ 2018-09-26 ┆ 2018-09-26 ┆ 0.06       ┆ US/Central ┆ … ┆ 21   ┆ 3       ┆ 5040       ┆ 1          │\n",
       "│ 21:29:00   ┆ 22:53:00   ┆            ┆            ┆   ┆      ┆         ┆            ┆            │\n",
       "└────────────┴────────────┴────────────┴────────────┴───┴──────┴─────────┴────────────┴────────────┘"
      ]
     },
     "execution_count": 21,
     "metadata": {},
     "output_type": "execute_result"
    }
   ],
   "source": [
    "df_weather.sample(5)"
   ]
  },
  {
   "cell_type": "code",
   "execution_count": 22,
   "id": "408f383e",
   "metadata": {},
   "outputs": [],
   "source": [
    "df_weather_original = df_weather.clone()  # Create a copy\n",
    "\n",
    "# Drop columns from the original\n",
    "df_weather = df_weather.drop([\"StartTime(UTC)\", \"EndTime(UTC)\", \"AirportCode\", \"LocationLat\", \"LocationLng\"])\n"
   ]
  },
  {
   "cell_type": "code",
   "execution_count": 23,
   "id": "e0d211bc",
   "metadata": {},
   "outputs": [
    {
     "data": {
      "text/html": [
       "<div><style>\n",
       ".dataframe > thead > tr,\n",
       ".dataframe > tbody > tr {\n",
       "  text-align: right;\n",
       "  white-space: pre-wrap;\n",
       "}\n",
       "</style>\n",
       "<small>shape: (4, 5)</small><table border=\"1\" class=\"dataframe\"><thead><tr><th>fips_code</th><th>county</th><th>state</th><th>customers_out</th><th>run_start_time</th></tr><tr><td>i64</td><td>str</td><td>str</td><td>i64</td><td>datetime[μs]</td></tr></thead><tbody><tr><td>21097</td><td>&quot;Harrison&quot;</td><td>&quot;Kentucky&quot;</td><td>1</td><td>2016-07-28 20:45:00</td></tr><tr><td>54039</td><td>&quot;Kanawha&quot;</td><td>&quot;West Virginia&quot;</td><td>1</td><td>2016-09-12 09:15:00</td></tr><tr><td>12039</td><td>&quot;Gadsden&quot;</td><td>&quot;Florida&quot;</td><td>4</td><td>2016-05-03 17:00:00</td></tr><tr><td>36105</td><td>&quot;Sullivan&quot;</td><td>&quot;New York&quot;</td><td>15</td><td>2016-07-26 19:15:00</td></tr></tbody></table></div>"
      ],
      "text/plain": [
       "shape: (4, 5)\n",
       "┌───────────┬──────────┬───────────────┬───────────────┬─────────────────────┐\n",
       "│ fips_code ┆ county   ┆ state         ┆ customers_out ┆ run_start_time      │\n",
       "│ ---       ┆ ---      ┆ ---           ┆ ---           ┆ ---                 │\n",
       "│ i64       ┆ str      ┆ str           ┆ i64           ┆ datetime[μs]        │\n",
       "╞═══════════╪══════════╪═══════════════╪═══════════════╪═════════════════════╡\n",
       "│ 21097     ┆ Harrison ┆ Kentucky      ┆ 1             ┆ 2016-07-28 20:45:00 │\n",
       "│ 54039     ┆ Kanawha  ┆ West Virginia ┆ 1             ┆ 2016-09-12 09:15:00 │\n",
       "│ 12039     ┆ Gadsden  ┆ Florida       ┆ 4             ┆ 2016-05-03 17:00:00 │\n",
       "│ 36105     ┆ Sullivan ┆ New York      ┆ 15            ┆ 2016-07-26 19:15:00 │\n",
       "└───────────┴──────────┴───────────────┴───────────────┴─────────────────────┘"
      ]
     },
     "execution_count": 23,
     "metadata": {},
     "output_type": "execute_result"
    }
   ],
   "source": [
    "df_outages.sample(4)"
   ]
  },
  {
   "cell_type": "code",
   "execution_count": 24,
   "id": "04265752",
   "metadata": {},
   "outputs": [
    {
     "data": {
      "text/html": [
       "<div><style>\n",
       ".dataframe > thead > tr,\n",
       ".dataframe > tbody > tr {\n",
       "  text-align: right;\n",
       "  white-space: pre-wrap;\n",
       "}\n",
       "</style>\n",
       "<small>shape: (4, 17)</small><table border=\"1\" class=\"dataframe\"><thead><tr><th>Precipitation(in)</th><th>TimeZone</th><th>City</th><th>County</th><th>State</th><th>ZipCode</th><th>rain</th><th>cold</th><th>snow</th><th>fog</th><th>year</th><th>month</th><th>day</th><th>hour</th><th>weekday</th><th>duration_seconds</th><th>severity_encoded</th></tr><tr><td>f64</td><td>str</td><td>str</td><td>str</td><td>str</td><td>i64</td><td>i8</td><td>i8</td><td>i8</td><td>i8</td><td>i32</td><td>i8</td><td>i8</td><td>i8</td><td>i8</td><td>i64</td><td>str</td></tr></thead><tbody><tr><td>0.0</td><td>&quot;US/Pacific&quot;</td><td>&quot;Costa Mesa&quot;</td><td>&quot;Orange&quot;</td><td>&quot;CA&quot;</td><td>92626</td><td>0</td><td>0</td><td>0</td><td>1</td><td>2020</td><td>2</td><td>20</td><td>17</td><td>4</td><td>3600</td><td>&quot;2&quot;</td></tr><tr><td>0.09</td><td>&quot;US/Pacific&quot;</td><td>&quot;Deer Park&quot;</td><td>&quot;Spokane&quot;</td><td>&quot;WA&quot;</td><td>99006</td><td>0</td><td>0</td><td>1</td><td>0</td><td>2021</td><td>12</td><td>4</td><td>11</td><td>6</td><td>6120</td><td>&quot;1&quot;</td></tr><tr><td>0.0</td><td>&quot;US/Central&quot;</td><td>&quot;Weslaco&quot;</td><td>&quot;Hidalgo&quot;</td><td>&quot;TX&quot;</td><td>78599</td><td>0</td><td>0</td><td>0</td><td>1</td><td>2017</td><td>12</td><td>28</td><td>16</td><td>4</td><td>3600</td><td>&quot;4&quot;</td></tr><tr><td>0.46</td><td>&quot;US/Central&quot;</td><td>&quot;Pittsburg&quot;</td><td>&quot;Crawford&quot;</td><td>&quot;KS&quot;</td><td>66762</td><td>1</td><td>0</td><td>0</td><td>0</td><td>2018</td><td>10</td><td>7</td><td>7</td><td>7</td><td>2400</td><td>&quot;2&quot;</td></tr></tbody></table></div>"
      ],
      "text/plain": [
       "shape: (4, 17)\n",
       "┌─────────────┬────────────┬────────────┬──────────┬───┬──────┬─────────┬─────────────┬────────────┐\n",
       "│ Precipitati ┆ TimeZone   ┆ City       ┆ County   ┆ … ┆ hour ┆ weekday ┆ duration_se ┆ severity_e │\n",
       "│ on(in)      ┆ ---        ┆ ---        ┆ ---      ┆   ┆ ---  ┆ ---     ┆ conds       ┆ ncoded     │\n",
       "│ ---         ┆ str        ┆ str        ┆ str      ┆   ┆ i8   ┆ i8      ┆ ---         ┆ ---        │\n",
       "│ f64         ┆            ┆            ┆          ┆   ┆      ┆         ┆ i64         ┆ str        │\n",
       "╞═════════════╪════════════╪════════════╪══════════╪═══╪══════╪═════════╪═════════════╪════════════╡\n",
       "│ 0.0         ┆ US/Pacific ┆ Costa Mesa ┆ Orange   ┆ … ┆ 17   ┆ 4       ┆ 3600        ┆ 2          │\n",
       "│ 0.09        ┆ US/Pacific ┆ Deer Park  ┆ Spokane  ┆ … ┆ 11   ┆ 6       ┆ 6120        ┆ 1          │\n",
       "│ 0.0         ┆ US/Central ┆ Weslaco    ┆ Hidalgo  ┆ … ┆ 16   ┆ 4       ┆ 3600        ┆ 4          │\n",
       "│ 0.46        ┆ US/Central ┆ Pittsburg  ┆ Crawford ┆ … ┆ 7    ┆ 7       ┆ 2400        ┆ 2          │\n",
       "└─────────────┴────────────┴────────────┴──────────┴───┴──────┴─────────┴─────────────┴────────────┘"
      ]
     },
     "execution_count": 24,
     "metadata": {},
     "output_type": "execute_result"
    }
   ],
   "source": [
    "df_weather.sample(4)"
   ]
  },
  {
   "cell_type": "code",
   "execution_count": 25,
   "id": "d99beea7",
   "metadata": {},
   "outputs": [],
   "source": [
    "df_weather_agg_2016 = df_weather.filter(pl.col(\"year\") == 2016)\n"
   ]
  },
  {
   "cell_type": "code",
   "execution_count": 26,
   "id": "59bed250",
   "metadata": {},
   "outputs": [
    {
     "data": {
      "text/html": [
       "<div><style>\n",
       ".dataframe > thead > tr,\n",
       ".dataframe > tbody > tr {\n",
       "  text-align: right;\n",
       "  white-space: pre-wrap;\n",
       "}\n",
       "</style>\n",
       "<small>shape: (4, 17)</small><table border=\"1\" class=\"dataframe\"><thead><tr><th>Precipitation(in)</th><th>TimeZone</th><th>City</th><th>County</th><th>State</th><th>ZipCode</th><th>rain</th><th>cold</th><th>snow</th><th>fog</th><th>year</th><th>month</th><th>day</th><th>hour</th><th>weekday</th><th>duration_seconds</th><th>severity_encoded</th></tr><tr><td>f64</td><td>str</td><td>str</td><td>str</td><td>str</td><td>i64</td><td>i8</td><td>i8</td><td>i8</td><td>i8</td><td>i32</td><td>i8</td><td>i8</td><td>i8</td><td>i8</td><td>i64</td><td>str</td></tr></thead><tbody><tr><td>0.02</td><td>&quot;US/Central&quot;</td><td>&quot;Rochelle&quot;</td><td>&quot;Ogle&quot;</td><td>&quot;IL&quot;</td><td>61068</td><td>1</td><td>0</td><td>0</td><td>0</td><td>2016</td><td>10</td><td>26</td><td>19</td><td>3</td><td>1200</td><td>&quot;1&quot;</td></tr><tr><td>0.0</td><td>&quot;US/Mountain&quot;</td><td>&quot;Aspen&quot;</td><td>&quot;Pitkin&quot;</td><td>&quot;CO&quot;</td><td>81611</td><td>0</td><td>0</td><td>1</td><td>0</td><td>2016</td><td>3</td><td>26</td><td>15</td><td>6</td><td>7740</td><td>&quot;1&quot;</td></tr><tr><td>0.0</td><td>&quot;US/Central&quot;</td><td>&quot;Brookhaven&quot;</td><td>&quot;Lincoln&quot;</td><td>&quot;MS&quot;</td><td>39601</td><td>0</td><td>1</td><td>0</td><td>0</td><td>2016</td><td>12</td><td>29</td><td>8</td><td>4</td><td>3600</td><td>&quot;4&quot;</td></tr><tr><td>0.33</td><td>&quot;US/Central&quot;</td><td>&quot;Huntsville&quot;</td><td>&quot;Walker&quot;</td><td>&quot;TX&quot;</td><td>77320</td><td>1</td><td>0</td><td>0</td><td>0</td><td>2016</td><td>8</td><td>21</td><td>13</td><td>7</td><td>3000</td><td>&quot;2&quot;</td></tr></tbody></table></div>"
      ],
      "text/plain": [
       "shape: (4, 17)\n",
       "┌─────────────┬─────────────┬────────────┬─────────┬───┬──────┬─────────┬─────────────┬────────────┐\n",
       "│ Precipitati ┆ TimeZone    ┆ City       ┆ County  ┆ … ┆ hour ┆ weekday ┆ duration_se ┆ severity_e │\n",
       "│ on(in)      ┆ ---         ┆ ---        ┆ ---     ┆   ┆ ---  ┆ ---     ┆ conds       ┆ ncoded     │\n",
       "│ ---         ┆ str         ┆ str        ┆ str     ┆   ┆ i8   ┆ i8      ┆ ---         ┆ ---        │\n",
       "│ f64         ┆             ┆            ┆         ┆   ┆      ┆         ┆ i64         ┆ str        │\n",
       "╞═════════════╪═════════════╪════════════╪═════════╪═══╪══════╪═════════╪═════════════╪════════════╡\n",
       "│ 0.02        ┆ US/Central  ┆ Rochelle   ┆ Ogle    ┆ … ┆ 19   ┆ 3       ┆ 1200        ┆ 1          │\n",
       "│ 0.0         ┆ US/Mountain ┆ Aspen      ┆ Pitkin  ┆ … ┆ 15   ┆ 6       ┆ 7740        ┆ 1          │\n",
       "│ 0.0         ┆ US/Central  ┆ Brookhaven ┆ Lincoln ┆ … ┆ 8    ┆ 4       ┆ 3600        ┆ 4          │\n",
       "│ 0.33        ┆ US/Central  ┆ Huntsville ┆ Walker  ┆ … ┆ 13   ┆ 7       ┆ 3000        ┆ 2          │\n",
       "└─────────────┴─────────────┴────────────┴─────────┴───┴──────┴─────────┴─────────────┴────────────┘"
      ]
     },
     "execution_count": 26,
     "metadata": {},
     "output_type": "execute_result"
    }
   ],
   "source": [
    "df_weather_agg_2016.sample(4)"
   ]
  },
  {
   "cell_type": "code",
   "execution_count": 27,
   "id": "5ec764da",
   "metadata": {},
   "outputs": [
    {
     "data": {
      "text/html": [
       "<div><style>\n",
       ".dataframe > thead > tr,\n",
       ".dataframe > tbody > tr {\n",
       "  text-align: right;\n",
       "  white-space: pre-wrap;\n",
       "}\n",
       "</style>\n",
       "<small>shape: (4, 5)</small><table border=\"1\" class=\"dataframe\"><thead><tr><th>fips_code</th><th>county</th><th>state</th><th>customers_out</th><th>run_start_time</th></tr><tr><td>i64</td><td>str</td><td>str</td><td>i64</td><td>datetime[μs]</td></tr></thead><tbody><tr><td>54021</td><td>&quot;Gilmer&quot;</td><td>&quot;West Virginia&quot;</td><td>150</td><td>2016-06-23 18:45:00</td></tr><tr><td>12127</td><td>&quot;Volusia&quot;</td><td>&quot;Florida&quot;</td><td>123</td><td>2016-10-06 00:45:00</td></tr><tr><td>18021</td><td>&quot;Clay&quot;</td><td>&quot;Indiana&quot;</td><td>173</td><td>2016-07-06 17:00:00</td></tr><tr><td>54041</td><td>&quot;Lewis&quot;</td><td>&quot;West Virginia&quot;</td><td>184</td><td>2016-01-23 02:15:00</td></tr></tbody></table></div>"
      ],
      "text/plain": [
       "shape: (4, 5)\n",
       "┌───────────┬─────────┬───────────────┬───────────────┬─────────────────────┐\n",
       "│ fips_code ┆ county  ┆ state         ┆ customers_out ┆ run_start_time      │\n",
       "│ ---       ┆ ---     ┆ ---           ┆ ---           ┆ ---                 │\n",
       "│ i64       ┆ str     ┆ str           ┆ i64           ┆ datetime[μs]        │\n",
       "╞═══════════╪═════════╪═══════════════╪═══════════════╪═════════════════════╡\n",
       "│ 54021     ┆ Gilmer  ┆ West Virginia ┆ 150           ┆ 2016-06-23 18:45:00 │\n",
       "│ 12127     ┆ Volusia ┆ Florida       ┆ 123           ┆ 2016-10-06 00:45:00 │\n",
       "│ 18021     ┆ Clay    ┆ Indiana       ┆ 173           ┆ 2016-07-06 17:00:00 │\n",
       "│ 54041     ┆ Lewis   ┆ West Virginia ┆ 184           ┆ 2016-01-23 02:15:00 │\n",
       "└───────────┴─────────┴───────────────┴───────────────┴─────────────────────┘"
      ]
     },
     "execution_count": 27,
     "metadata": {},
     "output_type": "execute_result"
    }
   ],
   "source": [
    "df_outages_filtered.sample(4)"
   ]
  },
  {
   "cell_type": "code",
   "execution_count": 28,
   "id": "cadb12c8",
   "metadata": {},
   "outputs": [],
   "source": [
    "# Extract date components from run_start_time in df_outages_filtered\n",
    "df_outages_filtered = df_outages_filtered.with_columns(\n",
    "    (\n",
    "        pl.col(\"run_start_time\").dt.year().alias(\"year\"),\n",
    "        pl.col(\"run_start_time\").dt.month().alias(\"month\"),\n",
    "        pl.col(\"run_start_time\").dt.day().alias(\"day\"),\n",
    "        pl.col(\"run_start_time\").dt.hour().alias(\"hour\"),\n",
    "        pl.col(\"run_start_time\").dt.weekday().alias(\"weekday\"),\n",
    "    )\n",
    ")\n"
   ]
  },
  {
   "cell_type": "code",
   "execution_count": 29,
   "id": "a0e666d1",
   "metadata": {
    "scrolled": true
   },
   "outputs": [
    {
     "data": {
      "text/html": [
       "<div><style>\n",
       ".dataframe > thead > tr,\n",
       ".dataframe > tbody > tr {\n",
       "  text-align: right;\n",
       "  white-space: pre-wrap;\n",
       "}\n",
       "</style>\n",
       "<small>shape: (4, 10)</small><table border=\"1\" class=\"dataframe\"><thead><tr><th>fips_code</th><th>county</th><th>state</th><th>customers_out</th><th>run_start_time</th><th>year</th><th>month</th><th>day</th><th>hour</th><th>weekday</th></tr><tr><td>i64</td><td>str</td><td>str</td><td>i64</td><td>datetime[μs]</td><td>i32</td><td>i8</td><td>i8</td><td>i8</td><td>i8</td></tr></thead><tbody><tr><td>28149</td><td>&quot;Warren&quot;</td><td>&quot;Mississippi&quot;</td><td>130</td><td>2016-06-18 04:30:00</td><td>2016</td><td>6</td><td>18</td><td>4</td><td>6</td></tr><tr><td>45007</td><td>&quot;Anderson&quot;</td><td>&quot;South Carolina&quot;</td><td>176</td><td>2016-10-15 23:30:00</td><td>2016</td><td>10</td><td>15</td><td>23</td><td>6</td></tr><tr><td>32003</td><td>&quot;Clark&quot;</td><td>&quot;Nevada&quot;</td><td>190</td><td>2016-09-07 11:30:00</td><td>2016</td><td>9</td><td>7</td><td>11</td><td>3</td></tr><tr><td>18093</td><td>&quot;Lawrence&quot;</td><td>&quot;Indiana&quot;</td><td>138</td><td>2016-01-16 15:45:00</td><td>2016</td><td>1</td><td>16</td><td>15</td><td>6</td></tr></tbody></table></div>"
      ],
      "text/plain": [
       "shape: (4, 10)\n",
       "┌───────────┬──────────┬────────────────┬───────────────┬───┬───────┬─────┬──────┬─────────┐\n",
       "│ fips_code ┆ county   ┆ state          ┆ customers_out ┆ … ┆ month ┆ day ┆ hour ┆ weekday │\n",
       "│ ---       ┆ ---      ┆ ---            ┆ ---           ┆   ┆ ---   ┆ --- ┆ ---  ┆ ---     │\n",
       "│ i64       ┆ str      ┆ str            ┆ i64           ┆   ┆ i8    ┆ i8  ┆ i8   ┆ i8      │\n",
       "╞═══════════╪══════════╪════════════════╪═══════════════╪═══╪═══════╪═════╪══════╪═════════╡\n",
       "│ 28149     ┆ Warren   ┆ Mississippi    ┆ 130           ┆ … ┆ 6     ┆ 18  ┆ 4    ┆ 6       │\n",
       "│ 45007     ┆ Anderson ┆ South Carolina ┆ 176           ┆ … ┆ 10    ┆ 15  ┆ 23   ┆ 6       │\n",
       "│ 32003     ┆ Clark    ┆ Nevada         ┆ 190           ┆ … ┆ 9     ┆ 7   ┆ 11   ┆ 3       │\n",
       "│ 18093     ┆ Lawrence ┆ Indiana        ┆ 138           ┆ … ┆ 1     ┆ 16  ┆ 15   ┆ 6       │\n",
       "└───────────┴──────────┴────────────────┴───────────────┴───┴───────┴─────┴──────┴─────────┘"
      ]
     },
     "execution_count": 29,
     "metadata": {},
     "output_type": "execute_result"
    }
   ],
   "source": [
    "df_outages_filtered.sample(4)"
   ]
  },
  {
   "cell_type": "code",
   "execution_count": 30,
   "id": "f358c993",
   "metadata": {},
   "outputs": [],
   "source": [
    "df_outages_filtered_original= df_outages_filtered.clone()\n",
    "\n",
    "# Drop columns from the original\n",
    "df_outages_filtered = df_outages_filtered.drop([\"run_start_time\"])"
   ]
  },
  {
   "cell_type": "code",
   "execution_count": 31,
   "id": "89090e7f",
   "metadata": {
    "scrolled": true
   },
   "outputs": [
    {
     "data": {
      "text/html": [
       "<div><style>\n",
       ".dataframe > thead > tr,\n",
       ".dataframe > tbody > tr {\n",
       "  text-align: right;\n",
       "  white-space: pre-wrap;\n",
       "}\n",
       "</style>\n",
       "<small>shape: (4, 9)</small><table border=\"1\" class=\"dataframe\"><thead><tr><th>fips_code</th><th>county</th><th>state</th><th>customers_out</th><th>year</th><th>month</th><th>day</th><th>hour</th><th>weekday</th></tr><tr><td>i64</td><td>str</td><td>str</td><td>i64</td><td>i32</td><td>i8</td><td>i8</td><td>i8</td><td>i8</td></tr></thead><tbody><tr><td>54083</td><td>&quot;Randolph&quot;</td><td>&quot;West Virginia&quot;</td><td>180</td><td>2016</td><td>6</td><td>5</td><td>14</td><td>7</td></tr><tr><td>54077</td><td>&quot;Preston&quot;</td><td>&quot;West Virginia&quot;</td><td>184</td><td>2016</td><td>4</td><td>3</td><td>20</td><td>7</td></tr><tr><td>36047</td><td>&quot;Kings&quot;</td><td>&quot;New York&quot;</td><td>141</td><td>2016</td><td>9</td><td>11</td><td>1</td><td>7</td></tr><tr><td>37167</td><td>&quot;Stanly&quot;</td><td>&quot;North Carolina&quot;</td><td>171</td><td>2016</td><td>7</td><td>17</td><td>2</td><td>7</td></tr></tbody></table></div>"
      ],
      "text/plain": [
       "shape: (4, 9)\n",
       "┌───────────┬──────────┬────────────────┬───────────────┬───┬───────┬─────┬──────┬─────────┐\n",
       "│ fips_code ┆ county   ┆ state          ┆ customers_out ┆ … ┆ month ┆ day ┆ hour ┆ weekday │\n",
       "│ ---       ┆ ---      ┆ ---            ┆ ---           ┆   ┆ ---   ┆ --- ┆ ---  ┆ ---     │\n",
       "│ i64       ┆ str      ┆ str            ┆ i64           ┆   ┆ i8    ┆ i8  ┆ i8   ┆ i8      │\n",
       "╞═══════════╪══════════╪════════════════╪═══════════════╪═══╪═══════╪═════╪══════╪═════════╡\n",
       "│ 54083     ┆ Randolph ┆ West Virginia  ┆ 180           ┆ … ┆ 6     ┆ 5   ┆ 14   ┆ 7       │\n",
       "│ 54077     ┆ Preston  ┆ West Virginia  ┆ 184           ┆ … ┆ 4     ┆ 3   ┆ 20   ┆ 7       │\n",
       "│ 36047     ┆ Kings    ┆ New York       ┆ 141           ┆ … ┆ 9     ┆ 11  ┆ 1    ┆ 7       │\n",
       "│ 37167     ┆ Stanly   ┆ North Carolina ┆ 171           ┆ … ┆ 7     ┆ 17  ┆ 2    ┆ 7       │\n",
       "└───────────┴──────────┴────────────────┴───────────────┴───┴───────┴─────┴──────┴─────────┘"
      ]
     },
     "execution_count": 31,
     "metadata": {},
     "output_type": "execute_result"
    }
   ],
   "source": [
    "df_outages_filtered.sample(4)"
   ]
  },
  {
   "cell_type": "code",
   "execution_count": 32,
   "id": "6626193d",
   "metadata": {},
   "outputs": [],
   "source": [
    "df_outages_filtered=df_outages_filtered.rename({'state':'State'})\n",
    "df_outages_filtered= df_outages_filtered.rename({'county':'County'})"
   ]
  },
  {
   "cell_type": "code",
   "execution_count": 33,
   "id": "0661962b",
   "metadata": {},
   "outputs": [
    {
     "data": {
      "text/html": [
       "<div><style>\n",
       ".dataframe > thead > tr,\n",
       ".dataframe > tbody > tr {\n",
       "  text-align: right;\n",
       "  white-space: pre-wrap;\n",
       "}\n",
       "</style>\n",
       "<small>shape: (4, 2)</small><table border=\"1\" class=\"dataframe\"><thead><tr><th>State</th><th>State_code</th></tr><tr><td>str</td><td>str</td></tr></thead><tbody><tr><td>&quot;California&quot;</td><td>&quot;CA&quot;</td></tr><tr><td>&quot;Vermont&quot;</td><td>&quot;VT&quot;</td></tr><tr><td>&quot;Hawaii&quot;</td><td>&quot;HI&quot;</td></tr><tr><td>&quot;Indiana&quot;</td><td>&quot;IN&quot;</td></tr></tbody></table></div>"
      ],
      "text/plain": [
       "shape: (4, 2)\n",
       "┌────────────┬────────────┐\n",
       "│ State      ┆ State_code │\n",
       "│ ---        ┆ ---        │\n",
       "│ str        ┆ str        │\n",
       "╞════════════╪════════════╡\n",
       "│ California ┆ CA         │\n",
       "│ Vermont    ┆ VT         │\n",
       "│ Hawaii     ┆ HI         │\n",
       "│ Indiana    ┆ IN         │\n",
       "└────────────┴────────────┘"
      ]
     },
     "execution_count": 33,
     "metadata": {},
     "output_type": "execute_result"
    }
   ],
   "source": [
    "data = pl.read_csv(\"datasets/data.csv\")\n",
    "data.sample(4)"
   ]
  },
  {
   "cell_type": "code",
   "execution_count": 34,
   "id": "48b3f1cb",
   "metadata": {},
   "outputs": [],
   "source": [
    "df_outages_update = df_outages_filtered.join(data, on=\"State\", how=\"left\",coalesce=True)"
   ]
  },
  {
   "cell_type": "code",
   "execution_count": 35,
   "id": "7de9a73c",
   "metadata": {},
   "outputs": [
    {
     "data": {
      "text/html": [
       "<div><style>\n",
       ".dataframe > thead > tr,\n",
       ".dataframe > tbody > tr {\n",
       "  text-align: right;\n",
       "  white-space: pre-wrap;\n",
       "}\n",
       "</style>\n",
       "<small>shape: (5, 10)</small><table border=\"1\" class=\"dataframe\"><thead><tr><th>fips_code</th><th>County</th><th>State</th><th>customers_out</th><th>year</th><th>month</th><th>day</th><th>hour</th><th>weekday</th><th>State_code</th></tr><tr><td>i64</td><td>str</td><td>str</td><td>i64</td><td>i32</td><td>i8</td><td>i8</td><td>i8</td><td>i8</td><td>str</td></tr></thead><tbody><tr><td>12009</td><td>&quot;Brevard&quot;</td><td>&quot;Florida&quot;</td><td>128</td><td>2016</td><td>1</td><td>1</td><td>0</td><td>5</td><td>&quot;FL&quot;</td></tr><tr><td>12031</td><td>&quot;Duval&quot;</td><td>&quot;Florida&quot;</td><td>149</td><td>2016</td><td>1</td><td>1</td><td>0</td><td>5</td><td>&quot;FL&quot;</td></tr><tr><td>12086</td><td>&quot;Miami-Dade&quot;</td><td>&quot;Florida&quot;</td><td>132</td><td>2016</td><td>1</td><td>1</td><td>0</td><td>5</td><td>&quot;FL&quot;</td></tr><tr><td>13121</td><td>&quot;Fulton&quot;</td><td>&quot;Georgia&quot;</td><td>127</td><td>2016</td><td>1</td><td>1</td><td>0</td><td>5</td><td>&quot;GA&quot;</td></tr><tr><td>40011</td><td>&quot;Blaine&quot;</td><td>&quot;Oklahoma&quot;</td><td>174</td><td>2016</td><td>1</td><td>1</td><td>0</td><td>5</td><td>&quot;OK&quot;</td></tr></tbody></table></div>"
      ],
      "text/plain": [
       "shape: (5, 10)\n",
       "┌───────────┬────────────┬──────────┬───────────────┬───┬─────┬──────┬─────────┬────────────┐\n",
       "│ fips_code ┆ County     ┆ State    ┆ customers_out ┆ … ┆ day ┆ hour ┆ weekday ┆ State_code │\n",
       "│ ---       ┆ ---        ┆ ---      ┆ ---           ┆   ┆ --- ┆ ---  ┆ ---     ┆ ---        │\n",
       "│ i64       ┆ str        ┆ str      ┆ i64           ┆   ┆ i8  ┆ i8   ┆ i8      ┆ str        │\n",
       "╞═══════════╪════════════╪══════════╪═══════════════╪═══╪═════╪══════╪═════════╪════════════╡\n",
       "│ 12009     ┆ Brevard    ┆ Florida  ┆ 128           ┆ … ┆ 1   ┆ 0    ┆ 5       ┆ FL         │\n",
       "│ 12031     ┆ Duval      ┆ Florida  ┆ 149           ┆ … ┆ 1   ┆ 0    ┆ 5       ┆ FL         │\n",
       "│ 12086     ┆ Miami-Dade ┆ Florida  ┆ 132           ┆ … ┆ 1   ┆ 0    ┆ 5       ┆ FL         │\n",
       "│ 13121     ┆ Fulton     ┆ Georgia  ┆ 127           ┆ … ┆ 1   ┆ 0    ┆ 5       ┆ GA         │\n",
       "│ 40011     ┆ Blaine     ┆ Oklahoma ┆ 174           ┆ … ┆ 1   ┆ 0    ┆ 5       ┆ OK         │\n",
       "└───────────┴────────────┴──────────┴───────────────┴───┴─────┴──────┴─────────┴────────────┘"
      ]
     },
     "execution_count": 35,
     "metadata": {},
     "output_type": "execute_result"
    }
   ],
   "source": [
    "df_outages_update.head()"
   ]
  },
  {
   "cell_type": "code",
   "execution_count": 36,
   "id": "e70bbb73",
   "metadata": {},
   "outputs": [
    {
     "data": {
      "text/html": [
       "<div><style>\n",
       ".dataframe > thead > tr,\n",
       ".dataframe > tbody > tr {\n",
       "  text-align: right;\n",
       "  white-space: pre-wrap;\n",
       "}\n",
       "</style>\n",
       "<small>shape: (5, 17)</small><table border=\"1\" class=\"dataframe\"><thead><tr><th>Precipitation(in)</th><th>TimeZone</th><th>City</th><th>County</th><th>State</th><th>ZipCode</th><th>rain</th><th>cold</th><th>snow</th><th>fog</th><th>year</th><th>month</th><th>day</th><th>hour</th><th>weekday</th><th>duration_seconds</th><th>severity_encoded</th></tr><tr><td>f64</td><td>str</td><td>str</td><td>str</td><td>str</td><td>i64</td><td>i8</td><td>i8</td><td>i8</td><td>i8</td><td>i32</td><td>i8</td><td>i8</td><td>i8</td><td>i8</td><td>i64</td><td>str</td></tr></thead><tbody><tr><td>0.41</td><td>&quot;US/Eastern&quot;</td><td>&quot;Alma&quot;</td><td>&quot;Bacon&quot;</td><td>&quot;GA&quot;</td><td>31510</td><td>1</td><td>0</td><td>0</td><td>0</td><td>2016</td><td>1</td><td>1</td><td>5</td><td>5</td><td>8520</td><td>&quot;1&quot;</td></tr><tr><td>0.0</td><td>&quot;US/Eastern&quot;</td><td>&quot;Accident&quot;</td><td>&quot;Garrett&quot;</td><td>&quot;MD&quot;</td><td>21520</td><td>0</td><td>0</td><td>0</td><td>1</td><td>2016</td><td>1</td><td>1</td><td>5</td><td>5</td><td>3600</td><td>&quot;4&quot;</td></tr><tr><td>0.0</td><td>&quot;US/Eastern&quot;</td><td>&quot;Orlando&quot;</td><td>&quot;Orange&quot;</td><td>&quot;FL&quot;</td><td>32827</td><td>0</td><td>0</td><td>0</td><td>1</td><td>2016</td><td>1</td><td>1</td><td>5</td><td>5</td><td>17580</td><td>&quot;4&quot;</td></tr><tr><td>0.06</td><td>&quot;US/Eastern&quot;</td><td>&quot;Calumet&quot;</td><td>&quot;Houghton&quot;</td><td>&quot;MI&quot;</td><td>49913</td><td>0</td><td>0</td><td>1</td><td>0</td><td>2016</td><td>1</td><td>1</td><td>5</td><td>5</td><td>24720</td><td>&quot;1&quot;</td></tr><tr><td>0.45</td><td>&quot;US/Eastern&quot;</td><td>&quot;North Myrtle Beach&quot;</td><td>&quot;Horry&quot;</td><td>&quot;SC&quot;</td><td>29582</td><td>1</td><td>0</td><td>0</td><td>0</td><td>2016</td><td>1</td><td>1</td><td>5</td><td>5</td><td>25860</td><td>&quot;1&quot;</td></tr></tbody></table></div>"
      ],
      "text/plain": [
       "shape: (5, 17)\n",
       "┌─────────────┬────────────┬─────────────┬──────────┬───┬──────┬─────────┬────────────┬────────────┐\n",
       "│ Precipitati ┆ TimeZone   ┆ City        ┆ County   ┆ … ┆ hour ┆ weekday ┆ duration_s ┆ severity_e │\n",
       "│ on(in)      ┆ ---        ┆ ---         ┆ ---      ┆   ┆ ---  ┆ ---     ┆ econds     ┆ ncoded     │\n",
       "│ ---         ┆ str        ┆ str         ┆ str      ┆   ┆ i8   ┆ i8      ┆ ---        ┆ ---        │\n",
       "│ f64         ┆            ┆             ┆          ┆   ┆      ┆         ┆ i64        ┆ str        │\n",
       "╞═════════════╪════════════╪═════════════╪══════════╪═══╪══════╪═════════╪════════════╪════════════╡\n",
       "│ 0.41        ┆ US/Eastern ┆ Alma        ┆ Bacon    ┆ … ┆ 5    ┆ 5       ┆ 8520       ┆ 1          │\n",
       "│ 0.0         ┆ US/Eastern ┆ Accident    ┆ Garrett  ┆ … ┆ 5    ┆ 5       ┆ 3600       ┆ 4          │\n",
       "│ 0.0         ┆ US/Eastern ┆ Orlando     ┆ Orange   ┆ … ┆ 5    ┆ 5       ┆ 17580      ┆ 4          │\n",
       "│ 0.06        ┆ US/Eastern ┆ Calumet     ┆ Houghton ┆ … ┆ 5    ┆ 5       ┆ 24720      ┆ 1          │\n",
       "│ 0.45        ┆ US/Eastern ┆ North       ┆ Horry    ┆ … ┆ 5    ┆ 5       ┆ 25860      ┆ 1          │\n",
       "│             ┆            ┆ Myrtle      ┆          ┆   ┆      ┆         ┆            ┆            │\n",
       "│             ┆            ┆ Beach       ┆          ┆   ┆      ┆         ┆            ┆            │\n",
       "└─────────────┴────────────┴─────────────┴──────────┴───┴──────┴─────────┴────────────┴────────────┘"
      ]
     },
     "execution_count": 36,
     "metadata": {},
     "output_type": "execute_result"
    }
   ],
   "source": [
    "df_weather_agg_2016.head()"
   ]
  },
  {
   "cell_type": "code",
   "execution_count": 37,
   "id": "a14316e9",
   "metadata": {},
   "outputs": [],
   "source": [
    "df_weather_agg_2016 = df_weather_agg_2016.rename({'State':'State_code'})"
   ]
  },
  {
   "cell_type": "code",
   "execution_count": 38,
   "id": "7a624741",
   "metadata": {},
   "outputs": [
    {
     "data": {
      "text/html": [
       "<div><style>\n",
       ".dataframe > thead > tr,\n",
       ".dataframe > tbody > tr {\n",
       "  text-align: right;\n",
       "  white-space: pre-wrap;\n",
       "}\n",
       "</style>\n",
       "<small>shape: (5, 17)</small><table border=\"1\" class=\"dataframe\"><thead><tr><th>Precipitation(in)</th><th>TimeZone</th><th>City</th><th>County</th><th>State_code</th><th>ZipCode</th><th>rain</th><th>cold</th><th>snow</th><th>fog</th><th>year</th><th>month</th><th>day</th><th>hour</th><th>weekday</th><th>duration_seconds</th><th>severity_encoded</th></tr><tr><td>f64</td><td>str</td><td>str</td><td>str</td><td>str</td><td>i64</td><td>i8</td><td>i8</td><td>i8</td><td>i8</td><td>i32</td><td>i8</td><td>i8</td><td>i8</td><td>i8</td><td>i64</td><td>str</td></tr></thead><tbody><tr><td>0.41</td><td>&quot;US/Eastern&quot;</td><td>&quot;Alma&quot;</td><td>&quot;Bacon&quot;</td><td>&quot;GA&quot;</td><td>31510</td><td>1</td><td>0</td><td>0</td><td>0</td><td>2016</td><td>1</td><td>1</td><td>5</td><td>5</td><td>8520</td><td>&quot;1&quot;</td></tr><tr><td>0.0</td><td>&quot;US/Eastern&quot;</td><td>&quot;Accident&quot;</td><td>&quot;Garrett&quot;</td><td>&quot;MD&quot;</td><td>21520</td><td>0</td><td>0</td><td>0</td><td>1</td><td>2016</td><td>1</td><td>1</td><td>5</td><td>5</td><td>3600</td><td>&quot;4&quot;</td></tr><tr><td>0.0</td><td>&quot;US/Eastern&quot;</td><td>&quot;Orlando&quot;</td><td>&quot;Orange&quot;</td><td>&quot;FL&quot;</td><td>32827</td><td>0</td><td>0</td><td>0</td><td>1</td><td>2016</td><td>1</td><td>1</td><td>5</td><td>5</td><td>17580</td><td>&quot;4&quot;</td></tr><tr><td>0.06</td><td>&quot;US/Eastern&quot;</td><td>&quot;Calumet&quot;</td><td>&quot;Houghton&quot;</td><td>&quot;MI&quot;</td><td>49913</td><td>0</td><td>0</td><td>1</td><td>0</td><td>2016</td><td>1</td><td>1</td><td>5</td><td>5</td><td>24720</td><td>&quot;1&quot;</td></tr><tr><td>0.45</td><td>&quot;US/Eastern&quot;</td><td>&quot;North Myrtle Beach&quot;</td><td>&quot;Horry&quot;</td><td>&quot;SC&quot;</td><td>29582</td><td>1</td><td>0</td><td>0</td><td>0</td><td>2016</td><td>1</td><td>1</td><td>5</td><td>5</td><td>25860</td><td>&quot;1&quot;</td></tr></tbody></table></div>"
      ],
      "text/plain": [
       "shape: (5, 17)\n",
       "┌─────────────┬────────────┬─────────────┬──────────┬───┬──────┬─────────┬────────────┬────────────┐\n",
       "│ Precipitati ┆ TimeZone   ┆ City        ┆ County   ┆ … ┆ hour ┆ weekday ┆ duration_s ┆ severity_e │\n",
       "│ on(in)      ┆ ---        ┆ ---         ┆ ---      ┆   ┆ ---  ┆ ---     ┆ econds     ┆ ncoded     │\n",
       "│ ---         ┆ str        ┆ str         ┆ str      ┆   ┆ i8   ┆ i8      ┆ ---        ┆ ---        │\n",
       "│ f64         ┆            ┆             ┆          ┆   ┆      ┆         ┆ i64        ┆ str        │\n",
       "╞═════════════╪════════════╪═════════════╪══════════╪═══╪══════╪═════════╪════════════╪════════════╡\n",
       "│ 0.41        ┆ US/Eastern ┆ Alma        ┆ Bacon    ┆ … ┆ 5    ┆ 5       ┆ 8520       ┆ 1          │\n",
       "│ 0.0         ┆ US/Eastern ┆ Accident    ┆ Garrett  ┆ … ┆ 5    ┆ 5       ┆ 3600       ┆ 4          │\n",
       "│ 0.0         ┆ US/Eastern ┆ Orlando     ┆ Orange   ┆ … ┆ 5    ┆ 5       ┆ 17580      ┆ 4          │\n",
       "│ 0.06        ┆ US/Eastern ┆ Calumet     ┆ Houghton ┆ … ┆ 5    ┆ 5       ┆ 24720      ┆ 1          │\n",
       "│ 0.45        ┆ US/Eastern ┆ North       ┆ Horry    ┆ … ┆ 5    ┆ 5       ┆ 25860      ┆ 1          │\n",
       "│             ┆            ┆ Myrtle      ┆          ┆   ┆      ┆         ┆            ┆            │\n",
       "│             ┆            ┆ Beach       ┆          ┆   ┆      ┆         ┆            ┆            │\n",
       "└─────────────┴────────────┴─────────────┴──────────┴───┴──────┴─────────┴────────────┴────────────┘"
      ]
     },
     "execution_count": 38,
     "metadata": {},
     "output_type": "execute_result"
    }
   ],
   "source": [
    "df_weather_agg_2016.head()"
   ]
  },
  {
   "cell_type": "code",
   "execution_count": 39,
   "id": "a1efab9d",
   "metadata": {},
   "outputs": [],
   "source": [
    "#joining 2 datasets\n",
    "merged_df = df_outages_update.join(df_weather_agg_2016, on=['State_code', 'year', 'month', 'day'], how='left', coalesce=True)\n",
    "\n",
    "# Optional: Drop redundant columns from the merged DataFrame (e.g., 'State', 'year', 'month', 'day') if you wish to keep only one copy of them.\n",
    "# merged_df = merged_df.drop(['State', 'year', 'month', 'day'])\n"
   ]
  },
  {
   "cell_type": "code",
   "execution_count": 40,
   "id": "abff8c99",
   "metadata": {},
   "outputs": [
    {
     "data": {
      "text/html": [
       "<div><style>\n",
       ".dataframe > thead > tr,\n",
       ".dataframe > tbody > tr {\n",
       "  text-align: right;\n",
       "  white-space: pre-wrap;\n",
       "}\n",
       "</style>\n",
       "<small>shape: (5, 23)</small><table border=\"1\" class=\"dataframe\"><thead><tr><th>fips_code</th><th>County</th><th>State</th><th>customers_out</th><th>year</th><th>month</th><th>day</th><th>hour</th><th>weekday</th><th>State_code</th><th>Precipitation(in)</th><th>TimeZone</th><th>City</th><th>County_right</th><th>ZipCode</th><th>rain</th><th>cold</th><th>snow</th><th>fog</th><th>hour_right</th><th>weekday_right</th><th>duration_seconds</th><th>severity_encoded</th></tr><tr><td>i64</td><td>str</td><td>str</td><td>i64</td><td>i32</td><td>i8</td><td>i8</td><td>i8</td><td>i8</td><td>str</td><td>f64</td><td>str</td><td>str</td><td>str</td><td>i64</td><td>i8</td><td>i8</td><td>i8</td><td>i8</td><td>i8</td><td>i8</td><td>i64</td><td>str</td></tr></thead><tbody><tr><td>12009</td><td>&quot;Brevard&quot;</td><td>&quot;Florida&quot;</td><td>128</td><td>2016</td><td>1</td><td>1</td><td>0</td><td>5</td><td>&quot;FL&quot;</td><td>0.0</td><td>&quot;US/Eastern&quot;</td><td>&quot;Orlando&quot;</td><td>&quot;Orange&quot;</td><td>32827</td><td>0</td><td>0</td><td>0</td><td>1</td><td>5</td><td>5</td><td>17580</td><td>&quot;4&quot;</td></tr><tr><td>12009</td><td>&quot;Brevard&quot;</td><td>&quot;Florida&quot;</td><td>128</td><td>2016</td><td>1</td><td>1</td><td>0</td><td>5</td><td>&quot;FL&quot;</td><td>0.0</td><td>&quot;US/Eastern&quot;</td><td>&quot;Orlando&quot;</td><td>&quot;Orange&quot;</td><td>32803</td><td>0</td><td>0</td><td>0</td><td>1</td><td>5</td><td>5</td><td>11880</td><td>&quot;4&quot;</td></tr><tr><td>12009</td><td>&quot;Brevard&quot;</td><td>&quot;Florida&quot;</td><td>128</td><td>2016</td><td>1</td><td>1</td><td>0</td><td>5</td><td>&quot;FL&quot;</td><td>0.0</td><td>&quot;US/Eastern&quot;</td><td>&quot;Jacksonville&quot;</td><td>&quot;Duval&quot;</td><td>32221</td><td>0</td><td>0</td><td>0</td><td>1</td><td>5</td><td>5</td><td>2400</td><td>&quot;4&quot;</td></tr><tr><td>12009</td><td>&quot;Brevard&quot;</td><td>&quot;Florida&quot;</td><td>128</td><td>2016</td><td>1</td><td>1</td><td>0</td><td>5</td><td>&quot;FL&quot;</td><td>0.0</td><td>&quot;US/Eastern&quot;</td><td>&quot;Inverness&quot;</td><td>&quot;Citrus&quot;</td><td>34450</td><td>0</td><td>0</td><td>0</td><td>1</td><td>5</td><td>5</td><td>12000</td><td>&quot;4&quot;</td></tr><tr><td>12009</td><td>&quot;Brevard&quot;</td><td>&quot;Florida&quot;</td><td>128</td><td>2016</td><td>1</td><td>1</td><td>0</td><td>5</td><td>&quot;FL&quot;</td><td>0.0</td><td>&quot;US/Eastern&quot;</td><td>&quot;Crystal River&quot;</td><td>&quot;Citrus&quot;</td><td>34429</td><td>0</td><td>0</td><td>0</td><td>1</td><td>5</td><td>5</td><td>2400</td><td>&quot;4&quot;</td></tr></tbody></table></div>"
      ],
      "text/plain": [
       "shape: (5, 23)\n",
       "┌───────────┬─────────┬─────────┬────────────┬───┬────────────┬────────────┬───────────┬───────────┐\n",
       "│ fips_code ┆ County  ┆ State   ┆ customers_ ┆ … ┆ hour_right ┆ weekday_ri ┆ duration_ ┆ severity_ │\n",
       "│ ---       ┆ ---     ┆ ---     ┆ out        ┆   ┆ ---        ┆ ght        ┆ seconds   ┆ encoded   │\n",
       "│ i64       ┆ str     ┆ str     ┆ ---        ┆   ┆ i8         ┆ ---        ┆ ---       ┆ ---       │\n",
       "│           ┆         ┆         ┆ i64        ┆   ┆            ┆ i8         ┆ i64       ┆ str       │\n",
       "╞═══════════╪═════════╪═════════╪════════════╪═══╪════════════╪════════════╪═══════════╪═══════════╡\n",
       "│ 12009     ┆ Brevard ┆ Florida ┆ 128        ┆ … ┆ 5          ┆ 5          ┆ 17580     ┆ 4         │\n",
       "│ 12009     ┆ Brevard ┆ Florida ┆ 128        ┆ … ┆ 5          ┆ 5          ┆ 11880     ┆ 4         │\n",
       "│ 12009     ┆ Brevard ┆ Florida ┆ 128        ┆ … ┆ 5          ┆ 5          ┆ 2400      ┆ 4         │\n",
       "│ 12009     ┆ Brevard ┆ Florida ┆ 128        ┆ … ┆ 5          ┆ 5          ┆ 12000     ┆ 4         │\n",
       "│ 12009     ┆ Brevard ┆ Florida ┆ 128        ┆ … ┆ 5          ┆ 5          ┆ 2400      ┆ 4         │\n",
       "└───────────┴─────────┴─────────┴────────────┴───┴────────────┴────────────┴───────────┴───────────┘"
      ]
     },
     "execution_count": 40,
     "metadata": {},
     "output_type": "execute_result"
    }
   ],
   "source": [
    "merged_df.head()"
   ]
  },
  {
   "cell_type": "code",
   "execution_count": 41,
   "id": "f520be64",
   "metadata": {},
   "outputs": [
    {
     "name": "stdout",
     "output_type": "stream",
     "text": [
      "shape: (40_077_179, 23)\n",
      "┌───────────┬──────────┬───────────┬───────────┬───┬───────────┬───────────┬───────────┬───────────┐\n",
      "│ fips_code ┆ County   ┆ State     ┆ customers ┆ … ┆ hour_righ ┆ weekday_r ┆ duration_ ┆ severity_ │\n",
      "│ ---       ┆ ---      ┆ ---       ┆ _out      ┆   ┆ t         ┆ ight      ┆ seconds   ┆ encoded   │\n",
      "│ i64       ┆ str      ┆ str       ┆ ---       ┆   ┆ ---       ┆ ---       ┆ ---       ┆ ---       │\n",
      "│           ┆          ┆           ┆ i64       ┆   ┆ i8        ┆ i8        ┆ i64       ┆ str       │\n",
      "╞═══════════╪══════════╪═══════════╪═══════════╪═══╪═══════════╪═══════════╪═══════════╪═══════════╡\n",
      "│ 12009     ┆ Brevard  ┆ Florida   ┆ 128       ┆ … ┆ 5         ┆ 5         ┆ 17580     ┆ 4         │\n",
      "│ 12009     ┆ Brevard  ┆ Florida   ┆ 128       ┆ … ┆ 5         ┆ 5         ┆ 11880     ┆ 4         │\n",
      "│ 12009     ┆ Brevard  ┆ Florida   ┆ 128       ┆ … ┆ 5         ┆ 5         ┆ 2400      ┆ 4         │\n",
      "│ 12009     ┆ Brevard  ┆ Florida   ┆ 128       ┆ … ┆ 5         ┆ 5         ┆ 12000     ┆ 4         │\n",
      "│ 12009     ┆ Brevard  ┆ Florida   ┆ 128       ┆ … ┆ 5         ┆ 5         ┆ 2400      ┆ 4         │\n",
      "│ …         ┆ …        ┆ …         ┆ …         ┆ … ┆ …         ┆ …         ┆ …         ┆ …         │\n",
      "│ 47163     ┆ Sullivan ┆ Tennessee ┆ 149       ┆ … ┆ 22        ┆ 6         ┆ 660       ┆ 1         │\n",
      "│ 47163     ┆ Sullivan ┆ Tennessee ┆ 149       ┆ … ┆ 22        ┆ 6         ┆ 20580     ┆ 1         │\n",
      "│ 47163     ┆ Sullivan ┆ Tennessee ┆ 149       ┆ … ┆ 22        ┆ 6         ┆ 1200      ┆ 1         │\n",
      "│ 47163     ┆ Sullivan ┆ Tennessee ┆ 149       ┆ … ┆ 23        ┆ 6         ┆ 14400     ┆ 1         │\n",
      "│ 47163     ┆ Sullivan ┆ Tennessee ┆ 149       ┆ … ┆ 23        ┆ 6         ┆ 3600      ┆ 1         │\n",
      "└───────────┴──────────┴───────────┴───────────┴───┴───────────┴───────────┴───────────┴───────────┘\n"
     ]
    }
   ],
   "source": [
    "# Fill missing values with 0 for binary weather features\n",
    "weather_columns = ['rain', 'cold', 'snow', 'fog']\n",
    "for column in weather_columns:\n",
    "    merged_df = merged_df.with_columns(pl.col(column).fill_null(0))\n",
    "\n",
    "# Fill missing avg_precipitation with the mean\n",
    "merged_df = merged_df.with_columns(\n",
    "    pl.col('Precipitation(in)').fill_null(pl.col('Precipitation(in)').mean())\n",
    ")\n",
    "\n",
    "# Fill missing max_severity with a default value, e.g., 0\n",
    "merged_df = merged_df.with_columns(\n",
    "    pl.col('severity_encoded').fill_null(0)\n",
    ")\n",
    "\n",
    "# Display the updated dataframe\n",
    "print(merged_df)\n"
   ]
  },
  {
   "cell_type": "code",
   "execution_count": null,
   "id": "43749fe4",
   "metadata": {},
   "outputs": [],
   "source": [
    "merged_df.drop_null()"
   ]
  },
  {
   "cell_type": "code",
   "execution_count": 42,
   "id": "d77f4803",
   "metadata": {},
   "outputs": [],
   "source": [
    "# Create lag features for 1 day and 2 days for rain\n",
    "for i in range(1, 3):  # Lags for 1 and 2 days\n",
    "    merged_df = merged_df.with_columns(pl.col(\"rain\").shift(i).alias(f\"rain_lag_{i}\"))\n",
    "    merged_df = merged_df.with_columns(pl.col(\"Precipitation(in)\").shift(i).alias(f\"Precipitation_lag_{i}\"))\n",
    "\n"
   ]
  },
  {
   "cell_type": "code",
   "execution_count": 43,
   "id": "ba752dde",
   "metadata": {},
   "outputs": [],
   "source": [
    "merged_df = merged_df.with_columns(\n",
    "    (\n",
    "        (pl.col(\"rain\") * pl.col(\"cold\")).alias(\"rain_and_cold\"),\n",
    "        (pl.col(\"snow\") * pl.col(\"fog\")).alias(\"snow_and_fog\"),\n",
    "    )\n",
    ")\n"
   ]
  },
  {
   "cell_type": "code",
   "execution_count": 44,
   "id": "9a0c03e6",
   "metadata": {},
   "outputs": [
    {
     "data": {
      "text/html": [
       "<div><style>\n",
       ".dataframe > thead > tr,\n",
       ".dataframe > tbody > tr {\n",
       "  text-align: right;\n",
       "  white-space: pre-wrap;\n",
       "}\n",
       "</style>\n",
       "<small>shape: (5, 29)</small><table border=\"1\" class=\"dataframe\"><thead><tr><th>fips_code</th><th>County</th><th>State</th><th>customers_out</th><th>year</th><th>month</th><th>day</th><th>hour</th><th>weekday</th><th>State_code</th><th>Precipitation(in)</th><th>TimeZone</th><th>City</th><th>County_right</th><th>ZipCode</th><th>rain</th><th>cold</th><th>snow</th><th>fog</th><th>hour_right</th><th>weekday_right</th><th>duration_seconds</th><th>severity_encoded</th><th>rain_lag_1</th><th>Precipitation_lag_1</th><th>rain_lag_2</th><th>Precipitation_lag_2</th><th>rain_and_cold</th><th>snow_and_fog</th></tr><tr><td>i64</td><td>str</td><td>str</td><td>i64</td><td>i32</td><td>i8</td><td>i8</td><td>i8</td><td>i8</td><td>str</td><td>f64</td><td>str</td><td>str</td><td>str</td><td>i64</td><td>i8</td><td>i8</td><td>i8</td><td>i8</td><td>i8</td><td>i8</td><td>i64</td><td>str</td><td>i8</td><td>f64</td><td>i8</td><td>f64</td><td>i8</td><td>i8</td></tr></thead><tbody><tr><td>12009</td><td>&quot;Brevard&quot;</td><td>&quot;Florida&quot;</td><td>128</td><td>2016</td><td>1</td><td>1</td><td>0</td><td>5</td><td>&quot;FL&quot;</td><td>0.0</td><td>&quot;US/Eastern&quot;</td><td>&quot;Orlando&quot;</td><td>&quot;Orange&quot;</td><td>32827</td><td>0</td><td>0</td><td>0</td><td>1</td><td>5</td><td>5</td><td>17580</td><td>&quot;4&quot;</td><td>null</td><td>null</td><td>null</td><td>null</td><td>0</td><td>0</td></tr><tr><td>12009</td><td>&quot;Brevard&quot;</td><td>&quot;Florida&quot;</td><td>128</td><td>2016</td><td>1</td><td>1</td><td>0</td><td>5</td><td>&quot;FL&quot;</td><td>0.0</td><td>&quot;US/Eastern&quot;</td><td>&quot;Orlando&quot;</td><td>&quot;Orange&quot;</td><td>32803</td><td>0</td><td>0</td><td>0</td><td>1</td><td>5</td><td>5</td><td>11880</td><td>&quot;4&quot;</td><td>0</td><td>0.0</td><td>null</td><td>null</td><td>0</td><td>0</td></tr><tr><td>12009</td><td>&quot;Brevard&quot;</td><td>&quot;Florida&quot;</td><td>128</td><td>2016</td><td>1</td><td>1</td><td>0</td><td>5</td><td>&quot;FL&quot;</td><td>0.0</td><td>&quot;US/Eastern&quot;</td><td>&quot;Jacksonville&quot;</td><td>&quot;Duval&quot;</td><td>32221</td><td>0</td><td>0</td><td>0</td><td>1</td><td>5</td><td>5</td><td>2400</td><td>&quot;4&quot;</td><td>0</td><td>0.0</td><td>0</td><td>0.0</td><td>0</td><td>0</td></tr><tr><td>12009</td><td>&quot;Brevard&quot;</td><td>&quot;Florida&quot;</td><td>128</td><td>2016</td><td>1</td><td>1</td><td>0</td><td>5</td><td>&quot;FL&quot;</td><td>0.0</td><td>&quot;US/Eastern&quot;</td><td>&quot;Inverness&quot;</td><td>&quot;Citrus&quot;</td><td>34450</td><td>0</td><td>0</td><td>0</td><td>1</td><td>5</td><td>5</td><td>12000</td><td>&quot;4&quot;</td><td>0</td><td>0.0</td><td>0</td><td>0.0</td><td>0</td><td>0</td></tr><tr><td>12009</td><td>&quot;Brevard&quot;</td><td>&quot;Florida&quot;</td><td>128</td><td>2016</td><td>1</td><td>1</td><td>0</td><td>5</td><td>&quot;FL&quot;</td><td>0.0</td><td>&quot;US/Eastern&quot;</td><td>&quot;Crystal River&quot;</td><td>&quot;Citrus&quot;</td><td>34429</td><td>0</td><td>0</td><td>0</td><td>1</td><td>5</td><td>5</td><td>2400</td><td>&quot;4&quot;</td><td>0</td><td>0.0</td><td>0</td><td>0.0</td><td>0</td><td>0</td></tr></tbody></table></div>"
      ],
      "text/plain": [
       "shape: (5, 29)\n",
       "┌───────────┬─────────┬─────────┬────────────┬───┬────────────┬────────────┬───────────┬───────────┐\n",
       "│ fips_code ┆ County  ┆ State   ┆ customers_ ┆ … ┆ rain_lag_2 ┆ Precipitat ┆ rain_and_ ┆ snow_and_ │\n",
       "│ ---       ┆ ---     ┆ ---     ┆ out        ┆   ┆ ---        ┆ ion_lag_2  ┆ cold      ┆ fog       │\n",
       "│ i64       ┆ str     ┆ str     ┆ ---        ┆   ┆ i8         ┆ ---        ┆ ---       ┆ ---       │\n",
       "│           ┆         ┆         ┆ i64        ┆   ┆            ┆ f64        ┆ i8        ┆ i8        │\n",
       "╞═══════════╪═════════╪═════════╪════════════╪═══╪════════════╪════════════╪═══════════╪═══════════╡\n",
       "│ 12009     ┆ Brevard ┆ Florida ┆ 128        ┆ … ┆ null       ┆ null       ┆ 0         ┆ 0         │\n",
       "│ 12009     ┆ Brevard ┆ Florida ┆ 128        ┆ … ┆ null       ┆ null       ┆ 0         ┆ 0         │\n",
       "│ 12009     ┆ Brevard ┆ Florida ┆ 128        ┆ … ┆ 0          ┆ 0.0        ┆ 0         ┆ 0         │\n",
       "│ 12009     ┆ Brevard ┆ Florida ┆ 128        ┆ … ┆ 0          ┆ 0.0        ┆ 0         ┆ 0         │\n",
       "│ 12009     ┆ Brevard ┆ Florida ┆ 128        ┆ … ┆ 0          ┆ 0.0        ┆ 0         ┆ 0         │\n",
       "└───────────┴─────────┴─────────┴────────────┴───┴────────────┴────────────┴───────────┴───────────┘"
      ]
     },
     "execution_count": 44,
     "metadata": {},
     "output_type": "execute_result"
    }
   ],
   "source": [
    "merged_df.head()"
   ]
  },
  {
   "cell_type": "code",
   "execution_count": 45,
   "id": "5a098f7a",
   "metadata": {},
   "outputs": [
    {
     "data": {
      "text/html": [
       "<div><style>\n",
       ".dataframe > thead > tr,\n",
       ".dataframe > tbody > tr {\n",
       "  text-align: right;\n",
       "  white-space: pre-wrap;\n",
       "}\n",
       "</style>\n",
       "<small>shape: (1, 29)</small><table border=\"1\" class=\"dataframe\"><thead><tr><th>fips_code</th><th>County</th><th>State</th><th>customers_out</th><th>year</th><th>month</th><th>day</th><th>hour</th><th>weekday</th><th>State_code</th><th>Precipitation(in)</th><th>TimeZone</th><th>City</th><th>County_right</th><th>ZipCode</th><th>rain</th><th>cold</th><th>snow</th><th>fog</th><th>hour_right</th><th>weekday_right</th><th>duration_seconds</th><th>severity_encoded</th><th>rain_lag_1</th><th>Precipitation_lag_1</th><th>rain_lag_2</th><th>Precipitation_lag_2</th><th>rain_and_cold</th><th>snow_and_fog</th></tr><tr><td>u32</td><td>u32</td><td>u32</td><td>u32</td><td>u32</td><td>u32</td><td>u32</td><td>u32</td><td>u32</td><td>u32</td><td>u32</td><td>u32</td><td>u32</td><td>u32</td><td>u32</td><td>u32</td><td>u32</td><td>u32</td><td>u32</td><td>u32</td><td>u32</td><td>u32</td><td>u32</td><td>u32</td><td>u32</td><td>u32</td><td>u32</td><td>u32</td><td>u32</td></tr></thead><tbody><tr><td>0</td><td>0</td><td>0</td><td>0</td><td>0</td><td>0</td><td>0</td><td>0</td><td>0</td><td>66985</td><td>0</td><td>72446</td><td>106992</td><td>72446</td><td>207523</td><td>0</td><td>0</td><td>0</td><td>0</td><td>72446</td><td>72446</td><td>72446</td><td>0</td><td>1</td><td>1</td><td>2</td><td>2</td><td>0</td><td>0</td></tr></tbody></table></div>"
      ],
      "text/plain": [
       "shape: (1, 29)\n",
       "┌───────────┬────────┬───────┬─────────────┬───┬────────────┬────────────┬────────────┬────────────┐\n",
       "│ fips_code ┆ County ┆ State ┆ customers_o ┆ … ┆ rain_lag_2 ┆ Precipitat ┆ rain_and_c ┆ snow_and_f │\n",
       "│ ---       ┆ ---    ┆ ---   ┆ ut          ┆   ┆ ---        ┆ ion_lag_2  ┆ old        ┆ og         │\n",
       "│ u32       ┆ u32    ┆ u32   ┆ ---         ┆   ┆ u32        ┆ ---        ┆ ---        ┆ ---        │\n",
       "│           ┆        ┆       ┆ u32         ┆   ┆            ┆ u32        ┆ u32        ┆ u32        │\n",
       "╞═══════════╪════════╪═══════╪═════════════╪═══╪════════════╪════════════╪════════════╪════════════╡\n",
       "│ 0         ┆ 0      ┆ 0     ┆ 0           ┆ … ┆ 2          ┆ 2          ┆ 0          ┆ 0          │\n",
       "└───────────┴────────┴───────┴─────────────┴───┴────────────┴────────────┴────────────┴────────────┘"
      ]
     },
     "execution_count": 45,
     "metadata": {},
     "output_type": "execute_result"
    }
   ],
   "source": [
    "# Fill missing values in lag features with 0 (assuming no weather event before)\n",
    "merged_df.null_count()"
   ]
  },
  {
   "cell_type": "code",
   "execution_count": null,
   "id": "44ae3c48",
   "metadata": {},
   "outputs": [],
   "source": [
    "# Drop all rows with null values\n",
    "cleaned_df = merged_df.drop_nulls()"
   ]
  },
  {
   "cell_type": "code",
   "execution_count": null,
   "id": "a8082527",
   "metadata": {},
   "outputs": [],
   "source": [
    "# Display the cleaned dataframe\n",
    "cleaned_df.head()\n",
    "\n",
    "# Save the cleaned dataframe to a CSV file for further analysis\n",
    "cleaned_df.write_csv(\"/mnt/data/cleaned_df.csv\")"
   ]
  }
 ],
 "metadata": {
  "kernelspec": {
   "display_name": "Python 3 (ipykernel)",
   "language": "python",
   "name": "python3"
  },
  "language_info": {
   "codemirror_mode": {
    "name": "ipython",
    "version": 3
   },
   "file_extension": ".py",
   "mimetype": "text/x-python",
   "name": "python",
   "nbconvert_exporter": "python",
   "pygments_lexer": "ipython3",
   "version": "3.10.6"
  }
 },
 "nbformat": 4,
 "nbformat_minor": 5
}
