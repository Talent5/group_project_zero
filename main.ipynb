{
 "cells": [
  {
   "cell_type": "code",
   "execution_count": 1,
   "id": "044dd01f-e9df-439f-ac16-53b94386b9ea",
   "metadata": {},
   "outputs": [],
   "source": [
    "import polars as pl"
   ]
  },
  {
   "cell_type": "code",
   "execution_count": 2,
   "id": "b6363789-c6d0-4780-8099-ed4982e0fac8",
   "metadata": {},
   "outputs": [
    {
     "data": {
      "text/plain": [
       "polars.config.Config"
      ]
     },
     "execution_count": 2,
     "metadata": {},
     "output_type": "execute_result"
    }
   ],
   "source": [
    "pl.Config.set_fmt_str_lengths(100)"
   ]
  },
  {
   "cell_type": "code",
   "execution_count": 3,
   "id": "d184c12e-3a6d-4d23-bf5f-9d362e4166e4",
   "metadata": {},
   "outputs": [],
   "source": [
    "df_outages = pl.read_csv(\"datasets/eaglei_outages_2016.csv\")"
   ]
  },
  {
   "cell_type": "code",
   "execution_count": 4,
   "id": "b005023d-ca64-4a6e-b9b2-2406f5bdbd1f",
   "metadata": {},
   "outputs": [],
   "source": [
    "df_weather = pl.read_csv(\"datasets/WeatherEvents_Jan2016-Dec2022.csv\")"
   ]
  },
  {
   "cell_type": "code",
   "execution_count": 5,
   "id": "174e2010-8503-4a93-bb66-a5d572b2ed36",
   "metadata": {},
   "outputs": [
    {
     "data": {
      "text/plain": [
       "((13306024, 5), (8627181, 14))"
      ]
     },
     "execution_count": 5,
     "metadata": {},
     "output_type": "execute_result"
    }
   ],
   "source": [
    "df_outages.shape, df_weather.shape"
   ]
  },
  {
   "cell_type": "code",
   "execution_count": 6,
   "id": "5aa7b98b-0672-4e42-ab82-adaefa93ad66",
   "metadata": {},
   "outputs": [
    {
     "data": {
      "text/html": [
       "<div><style>\n",
       ".dataframe > thead > tr,\n",
       ".dataframe > tbody > tr {\n",
       "  text-align: right;\n",
       "  white-space: pre-wrap;\n",
       "}\n",
       "</style>\n",
       "<small>shape: (3, 14)</small><table border=\"1\" class=\"dataframe\"><thead><tr><th>EventId</th><th>Type</th><th>Severity</th><th>StartTime(UTC)</th><th>EndTime(UTC)</th><th>Precipitation(in)</th><th>TimeZone</th><th>AirportCode</th><th>LocationLat</th><th>LocationLng</th><th>City</th><th>County</th><th>State</th><th>ZipCode</th></tr><tr><td>str</td><td>str</td><td>str</td><td>str</td><td>str</td><td>f64</td><td>str</td><td>str</td><td>f64</td><td>f64</td><td>str</td><td>str</td><td>str</td><td>i64</td></tr></thead><tbody><tr><td>&quot;W-7643364&quot;</td><td>&quot;Rain&quot;</td><td>&quot;Light&quot;</td><td>&quot;2018-06-20 10:35:00&quot;</td><td>&quot;2018-06-20 13:15:00&quot;</td><td>0.0</td><td>&quot;US/Central&quot;</td><td>&quot;KAVK&quot;</td><td>36.7732</td><td>-98.6699</td><td>&quot;Alva&quot;</td><td>&quot;Woods&quot;</td><td>&quot;OK&quot;</td><td>73717</td></tr><tr><td>&quot;W-4500715&quot;</td><td>&quot;Rain&quot;</td><td>&quot;Light&quot;</td><td>&quot;2017-11-22 00:15:00&quot;</td><td>&quot;2017-11-22 00:55:00&quot;</td><td>0.0</td><td>&quot;US/Eastern&quot;</td><td>&quot;KSMS&quot;</td><td>33.995</td><td>-80.3613</td><td>&quot;Sumter&quot;</td><td>&quot;Sumter&quot;</td><td>&quot;SC&quot;</td><td>29153</td></tr><tr><td>&quot;W-1004867&quot;</td><td>&quot;Rain&quot;</td><td>&quot;Light&quot;</td><td>&quot;2016-05-09 00:15:00&quot;</td><td>&quot;2016-05-09 01:55:00&quot;</td><td>0.16</td><td>&quot;US/Central&quot;</td><td>&quot;K0F2&quot;</td><td>33.6011</td><td>-97.7735</td><td>&quot;Bowie&quot;</td><td>&quot;Montague&quot;</td><td>&quot;TX&quot;</td><td>76230</td></tr></tbody></table></div>"
      ],
      "text/plain": [
       "shape: (3, 14)\n",
       "┌───────────┬──────┬──────────┬─────────────────────┬───┬────────┬──────────┬───────┬─────────┐\n",
       "│ EventId   ┆ Type ┆ Severity ┆ StartTime(UTC)      ┆ … ┆ City   ┆ County   ┆ State ┆ ZipCode │\n",
       "│ ---       ┆ ---  ┆ ---      ┆ ---                 ┆   ┆ ---    ┆ ---      ┆ ---   ┆ ---     │\n",
       "│ str       ┆ str  ┆ str      ┆ str                 ┆   ┆ str    ┆ str      ┆ str   ┆ i64     │\n",
       "╞═══════════╪══════╪══════════╪═════════════════════╪═══╪════════╪══════════╪═══════╪═════════╡\n",
       "│ W-7643364 ┆ Rain ┆ Light    ┆ 2018-06-20 10:35:00 ┆ … ┆ Alva   ┆ Woods    ┆ OK    ┆ 73717   │\n",
       "│ W-4500715 ┆ Rain ┆ Light    ┆ 2017-11-22 00:15:00 ┆ … ┆ Sumter ┆ Sumter   ┆ SC    ┆ 29153   │\n",
       "│ W-1004867 ┆ Rain ┆ Light    ┆ 2016-05-09 00:15:00 ┆ … ┆ Bowie  ┆ Montague ┆ TX    ┆ 76230   │\n",
       "└───────────┴──────┴──────────┴─────────────────────┴───┴────────┴──────────┴───────┴─────────┘"
      ]
     },
     "execution_count": 6,
     "metadata": {},
     "output_type": "execute_result"
    }
   ],
   "source": [
    "df_weather.sample(3)"
   ]
  },
  {
   "cell_type": "code",
   "execution_count": 7,
   "id": "bf37bede-0714-4824-9f7d-aa038105b266",
   "metadata": {},
   "outputs": [
    {
     "data": {
      "text/html": [
       "<div><style>\n",
       ".dataframe > thead > tr,\n",
       ".dataframe > tbody > tr {\n",
       "  text-align: right;\n",
       "  white-space: pre-wrap;\n",
       "}\n",
       "</style>\n",
       "<small>shape: (3, 5)</small><table border=\"1\" class=\"dataframe\"><thead><tr><th>fips_code</th><th>county</th><th>state</th><th>customers_out</th><th>run_start_time</th></tr><tr><td>i64</td><td>str</td><td>str</td><td>i64</td><td>str</td></tr></thead><tbody><tr><td>21061</td><td>&quot;Edmonson&quot;</td><td>&quot;Kentucky&quot;</td><td>2</td><td>&quot;2016-08-02 11:30:00&quot;</td></tr><tr><td>48245</td><td>&quot;Jefferson&quot;</td><td>&quot;Texas&quot;</td><td>2</td><td>&quot;2016-12-11 00:00:00&quot;</td></tr><tr><td>20099</td><td>&quot;Labette&quot;</td><td>&quot;Kansas&quot;</td><td>1</td><td>&quot;2016-10-20 14:15:00&quot;</td></tr></tbody></table></div>"
      ],
      "text/plain": [
       "shape: (3, 5)\n",
       "┌───────────┬───────────┬──────────┬───────────────┬─────────────────────┐\n",
       "│ fips_code ┆ county    ┆ state    ┆ customers_out ┆ run_start_time      │\n",
       "│ ---       ┆ ---       ┆ ---      ┆ ---           ┆ ---                 │\n",
       "│ i64       ┆ str       ┆ str      ┆ i64           ┆ str                 │\n",
       "╞═══════════╪═══════════╪══════════╪═══════════════╪═════════════════════╡\n",
       "│ 21061     ┆ Edmonson  ┆ Kentucky ┆ 2             ┆ 2016-08-02 11:30:00 │\n",
       "│ 48245     ┆ Jefferson ┆ Texas    ┆ 2             ┆ 2016-12-11 00:00:00 │\n",
       "│ 20099     ┆ Labette   ┆ Kansas   ┆ 1             ┆ 2016-10-20 14:15:00 │\n",
       "└───────────┴───────────┴──────────┴───────────────┴─────────────────────┘"
      ]
     },
     "execution_count": 7,
     "metadata": {},
     "output_type": "execute_result"
    }
   ],
   "source": [
    "df_outages.sample(3)"
   ]
  },
  {
   "cell_type": "markdown",
   "id": "20233e16",
   "metadata": {},
   "source": [
    "## Data Cleaning:"
   ]
  },
  {
   "cell_type": "code",
   "execution_count": 8,
   "id": "74126240",
   "metadata": {},
   "outputs": [
    {
     "name": "stdout",
     "output_type": "stream",
     "text": [
      "shape: (1, 5)\n",
      "┌───────────┬────────┬───────┬───────────────┬────────────────┐\n",
      "│ fips_code ┆ county ┆ state ┆ customers_out ┆ run_start_time │\n",
      "│ ---       ┆ ---    ┆ ---   ┆ ---           ┆ ---            │\n",
      "│ u32       ┆ u32    ┆ u32   ┆ u32           ┆ u32            │\n",
      "╞═══════════╪════════╪═══════╪═══════════════╪════════════════╡\n",
      "│ 0         ┆ 0      ┆ 0     ┆ 0             ┆ 0              │\n",
      "└───────────┴────────┴───────┴───────────────┴────────────────┘\n",
      "shape: (1, 14)\n",
      "┌─────────┬──────┬──────────┬────────────────┬───┬───────┬────────┬───────┬─────────┐\n",
      "│ EventId ┆ Type ┆ Severity ┆ StartTime(UTC) ┆ … ┆ City  ┆ County ┆ State ┆ ZipCode │\n",
      "│ ---     ┆ ---  ┆ ---      ┆ ---            ┆   ┆ ---   ┆ ---    ┆ ---   ┆ ---     │\n",
      "│ u32     ┆ u32  ┆ u32      ┆ u32            ┆   ┆ u32   ┆ u32    ┆ u32   ┆ u32     │\n",
      "╞═════════╪══════╪══════════╪════════════════╪═══╪═══════╪════════╪═══════╪═════════╡\n",
      "│ 0       ┆ 0    ┆ 0        ┆ 0              ┆ … ┆ 16912 ┆ 0      ┆ 0     ┆ 69199   │\n",
      "└─────────┴──────┴──────────┴────────────────┴───┴───────┴────────┴───────┴─────────┘\n"
     ]
    }
   ],
   "source": [
    "print(df_outages.null_count())\n",
    "print(df_weather.null_count())"
   ]
  },
  {
   "cell_type": "code",
   "execution_count": 9,
   "id": "5cff0c56",
   "metadata": {},
   "outputs": [],
   "source": [
    "df_outages = df_outages.with_columns(pl.col(\"run_start_time\").str.strptime(pl.Datetime, \"%Y-%m-%d %H:%M:%S\"))\n",
    "df_weather = df_weather.with_columns([\n",
    "    pl.col(\"StartTime(UTC)\").str.strptime(pl.Datetime, \"%Y-%m-%d %H:%M:%S\"),\n",
    "    pl.col(\"EndTime(UTC)\").str.strptime(pl.Datetime, \"%Y-%m-%d %H:%M:%S\")\n",
    "])"
   ]
  },
  {
   "cell_type": "code",
   "execution_count": 10,
   "id": "659fbb1d",
   "metadata": {},
   "outputs": [
    {
     "data": {
      "text/html": [
       "<div><style>\n",
       ".dataframe > thead > tr,\n",
       ".dataframe > tbody > tr {\n",
       "  text-align: right;\n",
       "  white-space: pre-wrap;\n",
       "}\n",
       "</style>\n",
       "<small>shape: (5, 14)</small><table border=\"1\" class=\"dataframe\"><thead><tr><th>EventId</th><th>Type</th><th>Severity</th><th>StartTime(UTC)</th><th>EndTime(UTC)</th><th>Precipitation(in)</th><th>TimeZone</th><th>AirportCode</th><th>LocationLat</th><th>LocationLng</th><th>City</th><th>County</th><th>State</th><th>ZipCode</th></tr><tr><td>str</td><td>str</td><td>str</td><td>datetime[μs]</td><td>datetime[μs]</td><td>f64</td><td>str</td><td>str</td><td>f64</td><td>f64</td><td>str</td><td>str</td><td>str</td><td>i64</td></tr></thead><tbody><tr><td>&quot;W-3609719&quot;</td><td>&quot;Rain&quot;</td><td>&quot;Moderate&quot;</td><td>2017-11-01 07:35:00</td><td>2017-11-01 08:15:00</td><td>0.44</td><td>&quot;US/Central&quot;</td><td>&quot;KSLR&quot;</td><td>33.1615</td><td>-95.6189</td><td>&quot;Sulphur Springs&quot;</td><td>&quot;Hopkins&quot;</td><td>&quot;TX&quot;</td><td>75482</td></tr><tr><td>&quot;W-6498454&quot;</td><td>&quot;Rain&quot;</td><td>&quot;Light&quot;</td><td>2018-02-11 14:55:00</td><td>2018-02-11 15:35:00</td><td>0.0</td><td>&quot;US/Eastern&quot;</td><td>&quot;KDNN&quot;</td><td>34.7217</td><td>-84.8689</td><td>&quot;Dalton&quot;</td><td>&quot;Whitfield&quot;</td><td>&quot;GA&quot;</td><td>30721</td></tr><tr><td>&quot;W-1965159&quot;</td><td>&quot;Fog&quot;</td><td>&quot;Severe&quot;</td><td>2017-08-12 07:34:00</td><td>2017-08-12 08:13:00</td><td>0.0</td><td>&quot;US/Central&quot;</td><td>&quot;KBBB&quot;</td><td>45.331</td><td>-95.6469</td><td>&quot;Benson&quot;</td><td>&quot;Swift&quot;</td><td>&quot;MN&quot;</td><td>56215</td></tr><tr><td>&quot;W-2465836&quot;</td><td>&quot;Rain&quot;</td><td>&quot;Light&quot;</td><td>2016-03-31 16:15:00</td><td>2016-03-31 17:53:00</td><td>0.11</td><td>&quot;US/Central&quot;</td><td>&quot;KOVS&quot;</td><td>43.1561</td><td>-90.6775</td><td>&quot;Boscobel&quot;</td><td>&quot;Grant&quot;</td><td>&quot;WI&quot;</td><td>53805</td></tr><tr><td>&quot;W-295048&quot;</td><td>&quot;Rain&quot;</td><td>&quot;Light&quot;</td><td>2021-04-27 07:56:00</td><td>2021-04-27 08:56:00</td><td>0.0</td><td>&quot;US/Mountain&quot;</td><td>&quot;KSGU&quot;</td><td>37.0906</td><td>-113.5931</td><td>&quot;Saint George&quot;</td><td>&quot;Washington&quot;</td><td>&quot;UT&quot;</td><td>84770</td></tr></tbody></table></div>"
      ],
      "text/plain": [
       "shape: (5, 14)\n",
       "┌───────────┬──────┬──────────┬────────────────┬───┬────────────────┬────────────┬───────┬─────────┐\n",
       "│ EventId   ┆ Type ┆ Severity ┆ StartTime(UTC) ┆ … ┆ City           ┆ County     ┆ State ┆ ZipCode │\n",
       "│ ---       ┆ ---  ┆ ---      ┆ ---            ┆   ┆ ---            ┆ ---        ┆ ---   ┆ ---     │\n",
       "│ str       ┆ str  ┆ str      ┆ datetime[μs]   ┆   ┆ str            ┆ str        ┆ str   ┆ i64     │\n",
       "╞═══════════╪══════╪══════════╪════════════════╪═══╪════════════════╪════════════╪═══════╪═════════╡\n",
       "│ W-3609719 ┆ Rain ┆ Moderate ┆ 2017-11-01     ┆ … ┆ Sulphur        ┆ Hopkins    ┆ TX    ┆ 75482   │\n",
       "│           ┆      ┆          ┆ 07:35:00       ┆   ┆ Springs        ┆            ┆       ┆         │\n",
       "│ W-6498454 ┆ Rain ┆ Light    ┆ 2018-02-11     ┆ … ┆ Dalton         ┆ Whitfield  ┆ GA    ┆ 30721   │\n",
       "│           ┆      ┆          ┆ 14:55:00       ┆   ┆                ┆            ┆       ┆         │\n",
       "│ W-1965159 ┆ Fog  ┆ Severe   ┆ 2017-08-12     ┆ … ┆ Benson         ┆ Swift      ┆ MN    ┆ 56215   │\n",
       "│           ┆      ┆          ┆ 07:34:00       ┆   ┆                ┆            ┆       ┆         │\n",
       "│ W-2465836 ┆ Rain ┆ Light    ┆ 2016-03-31     ┆ … ┆ Boscobel       ┆ Grant      ┆ WI    ┆ 53805   │\n",
       "│           ┆      ┆          ┆ 16:15:00       ┆   ┆                ┆            ┆       ┆         │\n",
       "│ W-295048  ┆ Rain ┆ Light    ┆ 2021-04-27     ┆ … ┆ Saint George   ┆ Washington ┆ UT    ┆ 84770   │\n",
       "│           ┆      ┆          ┆ 07:56:00       ┆   ┆                ┆            ┆       ┆         │\n",
       "└───────────┴──────┴──────────┴────────────────┴───┴────────────────┴────────────┴───────┴─────────┘"
      ]
     },
     "execution_count": 10,
     "metadata": {},
     "output_type": "execute_result"
    }
   ],
   "source": [
    "df_outages.head(5)\n",
    "df_weather.sample(5)"
   ]
  },
  {
   "cell_type": "code",
   "execution_count": 11,
   "id": "c4da40e8",
   "metadata": {},
   "outputs": [],
   "source": [
    "# Add a binary column 'power_outage' to indicate power outages\n",
    "df_outages = df_outages.with_columns((pl.col('customers_out') > 10).cast(pl.Int8).alias('power_outage'))\n"
   ]
  },
  {
   "cell_type": "code",
   "execution_count": 12,
   "id": "6485fe3f",
   "metadata": {},
   "outputs": [
    {
     "data": {
      "text/html": [
       "<div><style>\n",
       ".dataframe > thead > tr,\n",
       ".dataframe > tbody > tr {\n",
       "  text-align: right;\n",
       "  white-space: pre-wrap;\n",
       "}\n",
       "</style>\n",
       "<small>shape: (5, 6)</small><table border=\"1\" class=\"dataframe\"><thead><tr><th>fips_code</th><th>county</th><th>state</th><th>customers_out</th><th>run_start_time</th><th>power_outage</th></tr><tr><td>i64</td><td>str</td><td>str</td><td>i64</td><td>datetime[μs]</td><td>i8</td></tr></thead><tbody><tr><td>2122</td><td>&quot;Kenai Peninsula&quot;</td><td>&quot;Alaska&quot;</td><td>657</td><td>2016-01-01 00:00:00</td><td>1</td></tr><tr><td>5003</td><td>&quot;Ashley&quot;</td><td>&quot;Arkansas&quot;</td><td>7</td><td>2016-01-01 00:00:00</td><td>0</td></tr><tr><td>5029</td><td>&quot;Conway&quot;</td><td>&quot;Arkansas&quot;</td><td>2</td><td>2016-01-01 00:00:00</td><td>0</td></tr><tr><td>5069</td><td>&quot;Jefferson&quot;</td><td>&quot;Arkansas&quot;</td><td>41</td><td>2016-01-01 00:00:00</td><td>1</td></tr><tr><td>5081</td><td>&quot;Little River&quot;</td><td>&quot;Arkansas&quot;</td><td>61</td><td>2016-01-01 00:00:00</td><td>1</td></tr></tbody></table></div>"
      ],
      "text/plain": [
       "shape: (5, 6)\n",
       "┌───────────┬─────────────────┬──────────┬───────────────┬─────────────────────┬──────────────┐\n",
       "│ fips_code ┆ county          ┆ state    ┆ customers_out ┆ run_start_time      ┆ power_outage │\n",
       "│ ---       ┆ ---             ┆ ---      ┆ ---           ┆ ---                 ┆ ---          │\n",
       "│ i64       ┆ str             ┆ str      ┆ i64           ┆ datetime[μs]        ┆ i8           │\n",
       "╞═══════════╪═════════════════╪══════════╪═══════════════╪═════════════════════╪══════════════╡\n",
       "│ 2122      ┆ Kenai Peninsula ┆ Alaska   ┆ 657           ┆ 2016-01-01 00:00:00 ┆ 1            │\n",
       "│ 5003      ┆ Ashley          ┆ Arkansas ┆ 7             ┆ 2016-01-01 00:00:00 ┆ 0            │\n",
       "│ 5029      ┆ Conway          ┆ Arkansas ┆ 2             ┆ 2016-01-01 00:00:00 ┆ 0            │\n",
       "│ 5069      ┆ Jefferson       ┆ Arkansas ┆ 41            ┆ 2016-01-01 00:00:00 ┆ 1            │\n",
       "│ 5081      ┆ Little River    ┆ Arkansas ┆ 61            ┆ 2016-01-01 00:00:00 ┆ 1            │\n",
       "└───────────┴─────────────────┴──────────┴───────────────┴─────────────────────┴──────────────┘"
      ]
     },
     "execution_count": 12,
     "metadata": {},
     "output_type": "execute_result"
    }
   ],
   "source": [
    "df_outages.head()"
   ]
  },
  {
   "cell_type": "code",
   "execution_count": 13,
   "id": "5f3c19ec",
   "metadata": {},
   "outputs": [
    {
     "data": {
      "image/png": "[encoded data removed]",
      "text/plain": [
       "<Figure size 432x288 with 1 Axes>"
      ]
     },
     "metadata": {
      "needs_background": "light"
     },
     "output_type": "display_data"
    }
   ],
   "source": [
    "#Outlier Detection and Handling:\n",
    "# Example to plot a histogram for `Customers_Out`\n",
    "import matplotlib.pyplot as plt\n",
    "plt.hist(df_outages[\"power_outage\"].to_numpy(), bins=20)\n",
    "plt.xlabel('power_outage')\n",
    "plt.ylabel('Frequency')\n",
    "plt.title('Distribution of power')\n",
    "plt.show()"
   ]
  },
  {
   "cell_type": "code",
   "execution_count": 14,
   "id": "6840dff6",
   "metadata": {},
   "outputs": [],
   "source": [
    "\n",
    "df_outages_filtered = df_outages\n"
   ]
  },
  {
   "cell_type": "markdown",
   "id": "ecc07186",
   "metadata": {},
   "source": [
    "## Feature Engineering:"
   ]
  },
  {
   "cell_type": "code",
   "execution_count": 15,
   "id": "e717f3b6",
   "metadata": {},
   "outputs": [],
   "source": [
    "#One-Hot Encoding for Weather Types\n",
    "weather_types = [\"Rain\", \"Cold\", \"Snow\", \"Fog\"]\n",
    "for weather_type in weather_types:\n",
    "    df_weather = df_weather.with_columns(\n",
    "        (pl.col(\"Type\") == weather_type).cast(pl.Int8).alias(weather_type.lower())\n",
    "    )\n",
    "\n"
   ]
  },
  {
   "cell_type": "code",
   "execution_count": 16,
   "id": "4dd5039d",
   "metadata": {},
   "outputs": [],
   "source": [
    "#Extract relevant time components from the StartTime(UTC) column:\n",
    "df_weather = df_weather.with_columns(\n",
    "    (\n",
    "        pl.col(\"StartTime(UTC)\").dt.year().alias(\"year\"),\n",
    "        pl.col(\"StartTime(UTC)\").dt.month().alias(\"month\"),\n",
    "        pl.col(\"StartTime(UTC)\").dt.day().alias(\"day\"),\n",
    "        pl.col(\"StartTime(UTC)\").dt.hour().alias(\"hour\"),\n",
    "        pl.col(\"StartTime(UTC)\").dt.weekday().alias(\"weekday\"),\n",
    "    )\n",
    ")\n"
   ]
  },
  {
   "cell_type": "code",
   "execution_count": 17,
   "id": "58d0b94d",
   "metadata": {},
   "outputs": [],
   "source": [
    "#Calculate the duration of each weather event:\n",
    "df_weather = df_weather.with_columns(\n",
    "    (pl.col(\"EndTime(UTC)\") - pl.col(\"StartTime(UTC)\")).dt.total_seconds().alias(\"duration_seconds\")\n",
    ")\n"
   ]
  },
  {
   "cell_type": "code",
   "execution_count": 18,
   "id": "67d6b266",
   "metadata": {},
   "outputs": [],
   "source": [
    "#Assign numerical values to each severity level (e.g., \"Light\"=1, \"Moderate\"=2, \"Heavy\"=3, \"Severe\"=4).\n",
    "severity_mapping = {\"Light\": 1, \"Moderate\": 2, \"Heavy\": 3, \"Severe\": 4}\n",
    "df_weather = df_weather.with_columns(\n",
    "    pl.col(\"Severity\").replace(severity_mapping).alias(\"severity_encoded\")\n",
    ")\n",
    "\n"
   ]
  },
  {
   "cell_type": "code",
   "execution_count": 19,
   "id": "d5ec93fe",
   "metadata": {},
   "outputs": [],
   "source": [
    "#Dropping Unnecessary Columns:\n",
    "df_weather = df_weather.drop([\"Type\", \"Severity\", \"EventId\"])\n"
   ]
  },
  {
   "cell_type": "code",
   "execution_count": 20,
   "id": "2b42920a",
   "metadata": {},
   "outputs": [
    {
     "data": {
      "text/html": [
       "<div><style>\n",
       ".dataframe > thead > tr,\n",
       ".dataframe > tbody > tr {\n",
       "  text-align: right;\n",
       "  white-space: pre-wrap;\n",
       "}\n",
       "</style>\n",
       "<small>shape: (5, 22)</small><table border=\"1\" class=\"dataframe\"><thead><tr><th>StartTime(UTC)</th><th>EndTime(UTC)</th><th>Precipitation(in)</th><th>TimeZone</th><th>AirportCode</th><th>LocationLat</th><th>LocationLng</th><th>City</th><th>County</th><th>State</th><th>ZipCode</th><th>rain</th><th>cold</th><th>snow</th><th>fog</th><th>year</th><th>month</th><th>day</th><th>hour</th><th>weekday</th><th>duration_seconds</th><th>severity_encoded</th></tr><tr><td>datetime[μs]</td><td>datetime[μs]</td><td>f64</td><td>str</td><td>str</td><td>f64</td><td>f64</td><td>str</td><td>str</td><td>str</td><td>i64</td><td>i8</td><td>i8</td><td>i8</td><td>i8</td><td>i32</td><td>i8</td><td>i8</td><td>i8</td><td>i8</td><td>i64</td><td>str</td></tr></thead><tbody><tr><td>2019-10-15 14:53:00</td><td>2019-10-15 15:39:00</td><td>0.14</td><td>&quot;US/Eastern&quot;</td><td>&quot;KSAV&quot;</td><td>32.1314</td><td>-81.2023</td><td>&quot;Port Wentworth&quot;</td><td>&quot;Chatham&quot;</td><td>&quot;GA&quot;</td><td>31408</td><td>1</td><td>0</td><td>0</td><td>0</td><td>2019</td><td>10</td><td>15</td><td>14</td><td>2</td><td>2760</td><td>&quot;2&quot;</td></tr><tr><td>2016-05-13 09:35:00</td><td>2016-05-13 12:15:00</td><td>0.37</td><td>&quot;US/Eastern&quot;</td><td>&quot;KLWB&quot;</td><td>37.8583</td><td>-80.3995</td><td>&quot;Lewisburg&quot;</td><td>&quot;Greenbrier&quot;</td><td>&quot;WV&quot;</td><td>24901</td><td>1</td><td>0</td><td>0</td><td>0</td><td>2016</td><td>5</td><td>13</td><td>9</td><td>5</td><td>9600</td><td>&quot;1&quot;</td></tr><tr><td>2020-01-24 08:12:00</td><td>2020-01-24 08:17:00</td><td>0.06</td><td>&quot;US/Pacific&quot;</td><td>&quot;KSHN&quot;</td><td>47.2381</td><td>-123.1408</td><td>&quot;Shelton&quot;</td><td>&quot;Mason&quot;</td><td>&quot;WA&quot;</td><td>98584</td><td>1</td><td>0</td><td>0</td><td>0</td><td>2020</td><td>1</td><td>24</td><td>8</td><td>5</td><td>300</td><td>&quot;1&quot;</td></tr><tr><td>2018-12-01 15:35:00</td><td>2018-12-01 16:15:00</td><td>0.09</td><td>&quot;US/Central&quot;</td><td>&quot;KLCG&quot;</td><td>42.2419</td><td>-96.9814</td><td>&quot;Wayne&quot;</td><td>&quot;Wayne&quot;</td><td>&quot;NE&quot;</td><td>68787</td><td>0</td><td>0</td><td>1</td><td>0</td><td>2018</td><td>12</td><td>1</td><td>15</td><td>6</td><td>2400</td><td>&quot;2&quot;</td></tr><tr><td>2018-06-02 20:34:00</td><td>2018-06-02 20:54:00</td><td>0.0</td><td>&quot;US/Eastern&quot;</td><td>&quot;KWAL&quot;</td><td>37.9372</td><td>-75.4662</td><td>&quot;Wallops Island&quot;</td><td>&quot;Accomack&quot;</td><td>&quot;VA&quot;</td><td>23337</td><td>1</td><td>0</td><td>0</td><td>0</td><td>2018</td><td>6</td><td>2</td><td>20</td><td>6</td><td>1200</td><td>&quot;1&quot;</td></tr></tbody></table></div>"
      ],
      "text/plain": [
       "shape: (5, 22)\n",
       "┌────────────┬────────────┬────────────┬────────────┬───┬──────┬─────────┬────────────┬────────────┐\n",
       "│ StartTime( ┆ EndTime(UT ┆ Precipitat ┆ TimeZone   ┆ … ┆ hour ┆ weekday ┆ duration_s ┆ severity_e │\n",
       "│ UTC)       ┆ C)         ┆ ion(in)    ┆ ---        ┆   ┆ ---  ┆ ---     ┆ econds     ┆ ncoded     │\n",
       "│ ---        ┆ ---        ┆ ---        ┆ str        ┆   ┆ i8   ┆ i8      ┆ ---        ┆ ---        │\n",
       "│ datetime[μ ┆ datetime[μ ┆ f64        ┆            ┆   ┆      ┆         ┆ i64        ┆ str        │\n",
       "│ s]         ┆ s]         ┆            ┆            ┆   ┆      ┆         ┆            ┆            │\n",
       "╞════════════╪════════════╪════════════╪════════════╪═══╪══════╪═════════╪════════════╪════════════╡\n",
       "│ 2019-10-15 ┆ 2019-10-15 ┆ 0.14       ┆ US/Eastern ┆ … ┆ 14   ┆ 2       ┆ 2760       ┆ 2          │\n",
       "│ 14:53:00   ┆ 15:39:00   ┆            ┆            ┆   ┆      ┆         ┆            ┆            │\n",
       "│ 2016-05-13 ┆ 2016-05-13 ┆ 0.37       ┆ US/Eastern ┆ … ┆ 9    ┆ 5       ┆ 9600       ┆ 1          │\n",
       "│ 09:35:00   ┆ 12:15:00   ┆            ┆            ┆   ┆      ┆         ┆            ┆            │\n",
       "│ 2020-01-24 ┆ 2020-01-24 ┆ 0.06       ┆ US/Pacific ┆ … ┆ 8    ┆ 5       ┆ 300        ┆ 1          │\n",
       "│ 08:12:00   ┆ 08:17:00   ┆            ┆            ┆   ┆      ┆         ┆            ┆            │\n",
       "│ 2018-12-01 ┆ 2018-12-01 ┆ 0.09       ┆ US/Central ┆ … ┆ 15   ┆ 6       ┆ 2400       ┆ 2          │\n",
       "│ 15:35:00   ┆ 16:15:00   ┆            ┆            ┆   ┆      ┆         ┆            ┆            │\n",
       "│ 2018-06-02 ┆ 2018-06-02 ┆ 0.0        ┆ US/Eastern ┆ … ┆ 20   ┆ 6       ┆ 1200       ┆ 1          │\n",
       "│ 20:34:00   ┆ 20:54:00   ┆            ┆            ┆   ┆      ┆         ┆            ┆            │\n",
       "└────────────┴────────────┴────────────┴────────────┴───┴──────┴─────────┴────────────┴────────────┘"
      ]
     },
     "execution_count": 20,
     "metadata": {},
     "output_type": "execute_result"
    }
   ],
   "source": [
    "df_weather.sample(5)"
   ]
  },
  {
   "cell_type": "code",
   "execution_count": 21,
   "id": "408f383e",
   "metadata": {},
   "outputs": [],
   "source": [
    "df_weather_original = df_weather.clone()  # Create a copy\n",
    "\n",
    "# Drop columns from the original\n",
    "df_weather = df_weather.drop([\"StartTime(UTC)\", \"EndTime(UTC)\", \"AirportCode\", \"LocationLat\", \"LocationLng\", \"ZipCode\"])\n"
   ]
  },
  {
   "cell_type": "code",
   "execution_count": 22,
   "id": "e0d211bc",
   "metadata": {},
   "outputs": [
    {
     "data": {
      "text/html": [
       "<div><style>\n",
       ".dataframe > thead > tr,\n",
       ".dataframe > tbody > tr {\n",
       "  text-align: right;\n",
       "  white-space: pre-wrap;\n",
       "}\n",
       "</style>\n",
       "<small>shape: (4, 6)</small><table border=\"1\" class=\"dataframe\"><thead><tr><th>fips_code</th><th>county</th><th>state</th><th>customers_out</th><th>run_start_time</th><th>power_outage</th></tr><tr><td>i64</td><td>str</td><td>str</td><td>i64</td><td>datetime[μs]</td><td>i8</td></tr></thead><tbody><tr><td>21181</td><td>&quot;Nicholas&quot;</td><td>&quot;Kentucky&quot;</td><td>3</td><td>2016-05-12 09:30:00</td><td>0</td></tr><tr><td>48141</td><td>&quot;El Paso&quot;</td><td>&quot;Texas&quot;</td><td>18</td><td>2016-07-13 00:15:00</td><td>1</td></tr><tr><td>12086</td><td>&quot;Miami-Dade&quot;</td><td>&quot;Florida&quot;</td><td>10</td><td>2016-05-25 10:45:00</td><td>0</td></tr><tr><td>26041</td><td>&quot;Delta&quot;</td><td>&quot;Michigan&quot;</td><td>1</td><td>2016-06-11 08:45:00</td><td>0</td></tr></tbody></table></div>"
      ],
      "text/plain": [
       "shape: (4, 6)\n",
       "┌───────────┬────────────┬──────────┬───────────────┬─────────────────────┬──────────────┐\n",
       "│ fips_code ┆ county     ┆ state    ┆ customers_out ┆ run_start_time      ┆ power_outage │\n",
       "│ ---       ┆ ---        ┆ ---      ┆ ---           ┆ ---                 ┆ ---          │\n",
       "│ i64       ┆ str        ┆ str      ┆ i64           ┆ datetime[μs]        ┆ i8           │\n",
       "╞═══════════╪════════════╪══════════╪═══════════════╪═════════════════════╪══════════════╡\n",
       "│ 21181     ┆ Nicholas   ┆ Kentucky ┆ 3             ┆ 2016-05-12 09:30:00 ┆ 0            │\n",
       "│ 48141     ┆ El Paso    ┆ Texas    ┆ 18            ┆ 2016-07-13 00:15:00 ┆ 1            │\n",
       "│ 12086     ┆ Miami-Dade ┆ Florida  ┆ 10            ┆ 2016-05-25 10:45:00 ┆ 0            │\n",
       "│ 26041     ┆ Delta      ┆ Michigan ┆ 1             ┆ 2016-06-11 08:45:00 ┆ 0            │\n",
       "└───────────┴────────────┴──────────┴───────────────┴─────────────────────┴──────────────┘"
      ]
     },
     "execution_count": 22,
     "metadata": {},
     "output_type": "execute_result"
    }
   ],
   "source": [
    "df_outages.sample(4)"
   ]
  },
  {
   "cell_type": "code",
   "execution_count": 23,
   "id": "04265752",
   "metadata": {},
   "outputs": [
    {
     "data": {
      "text/html": [
       "<div><style>\n",
       ".dataframe > thead > tr,\n",
       ".dataframe > tbody > tr {\n",
       "  text-align: right;\n",
       "  white-space: pre-wrap;\n",
       "}\n",
       "</style>\n",
       "<small>shape: (4, 16)</small><table border=\"1\" class=\"dataframe\"><thead><tr><th>Precipitation(in)</th><th>TimeZone</th><th>City</th><th>County</th><th>State</th><th>rain</th><th>cold</th><th>snow</th><th>fog</th><th>year</th><th>month</th><th>day</th><th>hour</th><th>weekday</th><th>duration_seconds</th><th>severity_encoded</th></tr><tr><td>f64</td><td>str</td><td>str</td><td>str</td><td>str</td><td>i8</td><td>i8</td><td>i8</td><td>i8</td><td>i32</td><td>i8</td><td>i8</td><td>i8</td><td>i8</td><td>i64</td><td>str</td></tr></thead><tbody><tr><td>0.81</td><td>&quot;US/Central&quot;</td><td>&quot;Arlington&quot;</td><td>&quot;Tarrant&quot;</td><td>&quot;TX&quot;</td><td>1</td><td>0</td><td>0</td><td>0</td><td>2020</td><td>2</td><td>20</td><td>1</td><td>4</td><td>10800</td><td>&quot;2&quot;</td></tr><tr><td>0.0</td><td>&quot;US/Eastern&quot;</td><td>&quot;Port Clinton&quot;</td><td>&quot;Ottawa&quot;</td><td>&quot;OH&quot;</td><td>0</td><td>0</td><td>1</td><td>0</td><td>2016</td><td>1</td><td>10</td><td>21</td><td>7</td><td>7200</td><td>&quot;1&quot;</td></tr><tr><td>0.0</td><td>&quot;US/Eastern&quot;</td><td>&quot;Zephyrhills&quot;</td><td>&quot;Pasco&quot;</td><td>&quot;FL&quot;</td><td>0</td><td>0</td><td>0</td><td>1</td><td>2020</td><td>10</td><td>12</td><td>11</td><td>1</td><td>7200</td><td>&quot;4&quot;</td></tr><tr><td>0.0</td><td>&quot;US/Eastern&quot;</td><td>&quot;Blairsville&quot;</td><td>&quot;Union&quot;</td><td>&quot;GA&quot;</td><td>0</td><td>0</td><td>0</td><td>1</td><td>2022</td><td>11</td><td>3</td><td>8</td><td>4</td><td>6000</td><td>&quot;4&quot;</td></tr></tbody></table></div>"
      ],
      "text/plain": [
       "shape: (4, 16)\n",
       "┌─────────────┬────────────┬─────────────┬─────────┬───┬──────┬─────────┬─────────────┬────────────┐\n",
       "│ Precipitati ┆ TimeZone   ┆ City        ┆ County  ┆ … ┆ hour ┆ weekday ┆ duration_se ┆ severity_e │\n",
       "│ on(in)      ┆ ---        ┆ ---         ┆ ---     ┆   ┆ ---  ┆ ---     ┆ conds       ┆ ncoded     │\n",
       "│ ---         ┆ str        ┆ str         ┆ str     ┆   ┆ i8   ┆ i8      ┆ ---         ┆ ---        │\n",
       "│ f64         ┆            ┆             ┆         ┆   ┆      ┆         ┆ i64         ┆ str        │\n",
       "╞═════════════╪════════════╪═════════════╪═════════╪═══╪══════╪═════════╪═════════════╪════════════╡\n",
       "│ 0.81        ┆ US/Central ┆ Arlington   ┆ Tarrant ┆ … ┆ 1    ┆ 4       ┆ 10800       ┆ 2          │\n",
       "│ 0.0         ┆ US/Eastern ┆ Port        ┆ Ottawa  ┆ … ┆ 21   ┆ 7       ┆ 7200        ┆ 1          │\n",
       "│             ┆            ┆ Clinton     ┆         ┆   ┆      ┆         ┆             ┆            │\n",
       "│ 0.0         ┆ US/Eastern ┆ Zephyrhills ┆ Pasco   ┆ … ┆ 11   ┆ 1       ┆ 7200        ┆ 4          │\n",
       "│ 0.0         ┆ US/Eastern ┆ Blairsville ┆ Union   ┆ … ┆ 8    ┆ 4       ┆ 6000        ┆ 4          │\n",
       "└─────────────┴────────────┴─────────────┴─────────┴───┴──────┴─────────┴─────────────┴────────────┘"
      ]
     },
     "execution_count": 23,
     "metadata": {},
     "output_type": "execute_result"
    }
   ],
   "source": [
    "df_weather.sample(4)"
   ]
  },
  {
   "cell_type": "code",
   "execution_count": 24,
   "id": "d6320fad",
   "metadata": {},
   "outputs": [],
   "source": [
    "df_weather=df_weather.sort(['year','month','day','weekday','hour'])"
   ]
  },
  {
   "cell_type": "code",
   "execution_count": 25,
   "id": "d99beea7",
   "metadata": {},
   "outputs": [],
   "source": [
    "df_weather_agg_2016 = df_weather.filter(pl.col(\"year\") == 2016)\n"
   ]
  },
  {
   "cell_type": "code",
   "execution_count": 26,
   "id": "59bed250",
   "metadata": {},
   "outputs": [],
   "source": [
    "df_weather_agg_2016 = df_weather_agg_2016.sort(['year','month','day','weekday','hour'])"
   ]
  },
  {
   "cell_type": "code",
   "execution_count": 27,
   "id": "5ec764da",
   "metadata": {},
   "outputs": [
    {
     "data": {
      "text/html": [
       "<div><style>\n",
       ".dataframe > thead > tr,\n",
       ".dataframe > tbody > tr {\n",
       "  text-align: right;\n",
       "  white-space: pre-wrap;\n",
       "}\n",
       "</style>\n",
       "<small>shape: (4, 6)</small><table border=\"1\" class=\"dataframe\"><thead><tr><th>fips_code</th><th>county</th><th>state</th><th>customers_out</th><th>run_start_time</th><th>power_outage</th></tr><tr><td>i64</td><td>str</td><td>str</td><td>i64</td><td>datetime[μs]</td><td>i8</td></tr></thead><tbody><tr><td>54079</td><td>&quot;Putnam&quot;</td><td>&quot;West Virginia&quot;</td><td>1</td><td>2016-10-14 12:30:00</td><td>0</td></tr><tr><td>5001</td><td>&quot;Arkansas&quot;</td><td>&quot;Arkansas&quot;</td><td>2</td><td>2016-07-31 11:00:00</td><td>0</td></tr><tr><td>12099</td><td>&quot;Palm Beach&quot;</td><td>&quot;Florida&quot;</td><td>178</td><td>2016-09-28 18:45:00</td><td>1</td></tr><tr><td>45033</td><td>&quot;Dillon&quot;</td><td>&quot;South Carolina&quot;</td><td>7028</td><td>2016-10-12 03:30:00</td><td>1</td></tr></tbody></table></div>"
      ],
      "text/plain": [
       "shape: (4, 6)\n",
       "┌───────────┬────────────┬────────────────┬───────────────┬─────────────────────┬──────────────┐\n",
       "│ fips_code ┆ county     ┆ state          ┆ customers_out ┆ run_start_time      ┆ power_outage │\n",
       "│ ---       ┆ ---        ┆ ---            ┆ ---           ┆ ---                 ┆ ---          │\n",
       "│ i64       ┆ str        ┆ str            ┆ i64           ┆ datetime[μs]        ┆ i8           │\n",
       "╞═══════════╪════════════╪════════════════╪═══════════════╪═════════════════════╪══════════════╡\n",
       "│ 54079     ┆ Putnam     ┆ West Virginia  ┆ 1             ┆ 2016-10-14 12:30:00 ┆ 0            │\n",
       "│ 5001      ┆ Arkansas   ┆ Arkansas       ┆ 2             ┆ 2016-07-31 11:00:00 ┆ 0            │\n",
       "│ 12099     ┆ Palm Beach ┆ Florida        ┆ 178           ┆ 2016-09-28 18:45:00 ┆ 1            │\n",
       "│ 45033     ┆ Dillon     ┆ South Carolina ┆ 7028          ┆ 2016-10-12 03:30:00 ┆ 1            │\n",
       "└───────────┴────────────┴────────────────┴───────────────┴─────────────────────┴──────────────┘"
      ]
     },
     "execution_count": 27,
     "metadata": {},
     "output_type": "execute_result"
    }
   ],
   "source": [
    "df_outages_filtered.sample(4)"
   ]
  },
  {
   "cell_type": "code",
   "execution_count": 28,
   "id": "cadb12c8",
   "metadata": {},
   "outputs": [],
   "source": [
    "# Extract date components from run_start_time in df_outages_filtered\n",
    "df_outages_filtered = df_outages_filtered.with_columns(\n",
    "    (\n",
    "        pl.col(\"run_start_time\").dt.year().alias(\"year\"),\n",
    "        pl.col(\"run_start_time\").dt.month().alias(\"month\"),\n",
    "        pl.col(\"run_start_time\").dt.day().alias(\"day\"),\n",
    "        pl.col(\"run_start_time\").dt.hour().alias(\"hour\"),\n",
    "        pl.col(\"run_start_time\").dt.weekday().alias(\"weekday\"),\n",
    "    )\n",
    ")\n"
   ]
  },
  {
   "cell_type": "code",
   "execution_count": 29,
   "id": "a0e666d1",
   "metadata": {
    "scrolled": true
   },
   "outputs": [
    {
     "data": {
      "text/html": [
       "<div><style>\n",
       ".dataframe > thead > tr,\n",
       ".dataframe > tbody > tr {\n",
       "  text-align: right;\n",
       "  white-space: pre-wrap;\n",
       "}\n",
       "</style>\n",
       "<small>shape: (4, 11)</small><table border=\"1\" class=\"dataframe\"><thead><tr><th>fips_code</th><th>county</th><th>state</th><th>customers_out</th><th>run_start_time</th><th>power_outage</th><th>year</th><th>month</th><th>day</th><th>hour</th><th>weekday</th></tr><tr><td>i64</td><td>str</td><td>str</td><td>i64</td><td>datetime[μs]</td><td>i8</td><td>i32</td><td>i8</td><td>i8</td><td>i8</td><td>i8</td></tr></thead><tbody><tr><td>42043</td><td>&quot;Dauphin&quot;</td><td>&quot;Pennsylvania&quot;</td><td>5</td><td>2016-11-04 16:00:00</td><td>0</td><td>2016</td><td>11</td><td>4</td><td>16</td><td>5</td></tr><tr><td>28047</td><td>&quot;Harrison&quot;</td><td>&quot;Mississippi&quot;</td><td>1</td><td>2016-11-27 19:00:00</td><td>0</td><td>2016</td><td>11</td><td>27</td><td>19</td><td>7</td></tr><tr><td>34001</td><td>&quot;Atlantic&quot;</td><td>&quot;New Jersey&quot;</td><td>3</td><td>2016-06-03 16:15:00</td><td>0</td><td>2016</td><td>6</td><td>3</td><td>16</td><td>5</td></tr><tr><td>39049</td><td>&quot;Franklin&quot;</td><td>&quot;Ohio&quot;</td><td>2</td><td>2016-09-27 05:15:00</td><td>0</td><td>2016</td><td>9</td><td>27</td><td>5</td><td>2</td></tr></tbody></table></div>"
      ],
      "text/plain": [
       "shape: (4, 11)\n",
       "┌───────────┬──────────┬──────────────┬───────────────┬───┬───────┬─────┬──────┬─────────┐\n",
       "│ fips_code ┆ county   ┆ state        ┆ customers_out ┆ … ┆ month ┆ day ┆ hour ┆ weekday │\n",
       "│ ---       ┆ ---      ┆ ---          ┆ ---           ┆   ┆ ---   ┆ --- ┆ ---  ┆ ---     │\n",
       "│ i64       ┆ str      ┆ str          ┆ i64           ┆   ┆ i8    ┆ i8  ┆ i8   ┆ i8      │\n",
       "╞═══════════╪══════════╪══════════════╪═══════════════╪═══╪═══════╪═════╪══════╪═════════╡\n",
       "│ 42043     ┆ Dauphin  ┆ Pennsylvania ┆ 5             ┆ … ┆ 11    ┆ 4   ┆ 16   ┆ 5       │\n",
       "│ 28047     ┆ Harrison ┆ Mississippi  ┆ 1             ┆ … ┆ 11    ┆ 27  ┆ 19   ┆ 7       │\n",
       "│ 34001     ┆ Atlantic ┆ New Jersey   ┆ 3             ┆ … ┆ 6     ┆ 3   ┆ 16   ┆ 5       │\n",
       "│ 39049     ┆ Franklin ┆ Ohio         ┆ 2             ┆ … ┆ 9     ┆ 27  ┆ 5    ┆ 2       │\n",
       "└───────────┴──────────┴──────────────┴───────────────┴───┴───────┴─────┴──────┴─────────┘"
      ]
     },
     "execution_count": 29,
     "metadata": {},
     "output_type": "execute_result"
    }
   ],
   "source": [
    "df_outages_filtered.sample(4)"
   ]
  },
  {
   "cell_type": "code",
   "execution_count": 30,
   "id": "a9e4367f",
   "metadata": {},
   "outputs": [],
   "source": [
    "df_outages_filtered =df_outages_filtered.sort(['month','day','weekday','hour'])"
   ]
  },
  {
   "cell_type": "code",
   "execution_count": 31,
   "id": "f358c993",
   "metadata": {},
   "outputs": [],
   "source": [
    "df_outages_filtered_original= df_outages_filtered.clone()\n",
    "\n",
    "# Drop columns from the original\n",
    "df_outages_filtered = df_outages_filtered.drop([\"run_start_time\"])"
   ]
  },
  {
   "cell_type": "code",
   "execution_count": 32,
   "id": "89090e7f",
   "metadata": {
    "scrolled": true
   },
   "outputs": [
    {
     "data": {
      "text/html": [
       "<div><style>\n",
       ".dataframe > thead > tr,\n",
       ".dataframe > tbody > tr {\n",
       "  text-align: right;\n",
       "  white-space: pre-wrap;\n",
       "}\n",
       "</style>\n",
       "<small>shape: (4, 10)</small><table border=\"1\" class=\"dataframe\"><thead><tr><th>fips_code</th><th>county</th><th>state</th><th>customers_out</th><th>power_outage</th><th>year</th><th>month</th><th>day</th><th>hour</th><th>weekday</th></tr><tr><td>i64</td><td>str</td><td>str</td><td>i64</td><td>i8</td><td>i32</td><td>i8</td><td>i8</td><td>i8</td><td>i8</td></tr></thead><tbody><tr><td>42115</td><td>&quot;Susquehanna&quot;</td><td>&quot;Pennsylvania&quot;</td><td>1</td><td>0</td><td>2016</td><td>4</td><td>15</td><td>15</td><td>5</td></tr><tr><td>5029</td><td>&quot;Conway&quot;</td><td>&quot;Arkansas&quot;</td><td>1</td><td>0</td><td>2016</td><td>1</td><td>18</td><td>2</td><td>1</td></tr><tr><td>42107</td><td>&quot;Schuylkill&quot;</td><td>&quot;Pennsylvania&quot;</td><td>14</td><td>1</td><td>2016</td><td>7</td><td>31</td><td>13</td><td>7</td></tr><tr><td>29189</td><td>&quot;St. Louis&quot;</td><td>&quot;Missouri&quot;</td><td>74</td><td>1</td><td>2016</td><td>3</td><td>31</td><td>16</td><td>4</td></tr></tbody></table></div>"
      ],
      "text/plain": [
       "shape: (4, 10)\n",
       "┌───────────┬─────────────┬──────────────┬───────────────┬───┬───────┬─────┬──────┬─────────┐\n",
       "│ fips_code ┆ county      ┆ state        ┆ customers_out ┆ … ┆ month ┆ day ┆ hour ┆ weekday │\n",
       "│ ---       ┆ ---         ┆ ---          ┆ ---           ┆   ┆ ---   ┆ --- ┆ ---  ┆ ---     │\n",
       "│ i64       ┆ str         ┆ str          ┆ i64           ┆   ┆ i8    ┆ i8  ┆ i8   ┆ i8      │\n",
       "╞═══════════╪═════════════╪══════════════╪═══════════════╪═══╪═══════╪═════╪══════╪═════════╡\n",
       "│ 42115     ┆ Susquehanna ┆ Pennsylvania ┆ 1             ┆ … ┆ 4     ┆ 15  ┆ 15   ┆ 5       │\n",
       "│ 5029      ┆ Conway      ┆ Arkansas     ┆ 1             ┆ … ┆ 1     ┆ 18  ┆ 2    ┆ 1       │\n",
       "│ 42107     ┆ Schuylkill  ┆ Pennsylvania ┆ 14            ┆ … ┆ 7     ┆ 31  ┆ 13   ┆ 7       │\n",
       "│ 29189     ┆ St. Louis   ┆ Missouri     ┆ 74            ┆ … ┆ 3     ┆ 31  ┆ 16   ┆ 4       │\n",
       "└───────────┴─────────────┴──────────────┴───────────────┴───┴───────┴─────┴──────┴─────────┘"
      ]
     },
     "execution_count": 32,
     "metadata": {},
     "output_type": "execute_result"
    }
   ],
   "source": [
    "df_outages_filtered.sample(4)"
   ]
  },
  {
   "cell_type": "code",
   "execution_count": 33,
   "id": "6626193d",
   "metadata": {},
   "outputs": [],
   "source": [
    "df_outages_filtered=df_outages_filtered.rename({'state':'State'})\n",
    "df_outages_filtered= df_outages_filtered.rename({'county':'County'})"
   ]
  },
  {
   "cell_type": "code",
   "execution_count": 34,
   "id": "0661962b",
   "metadata": {},
   "outputs": [
    {
     "data": {
      "text/html": [
       "<div><style>\n",
       ".dataframe > thead > tr,\n",
       ".dataframe > tbody > tr {\n",
       "  text-align: right;\n",
       "  white-space: pre-wrap;\n",
       "}\n",
       "</style>\n",
       "<small>shape: (4, 2)</small><table border=\"1\" class=\"dataframe\"><thead><tr><th>State</th><th>State_code</th></tr><tr><td>str</td><td>str</td></tr></thead><tbody><tr><td>&quot;West Virginia&quot;</td><td>&quot;WV&quot;</td></tr><tr><td>&quot;Vermont&quot;</td><td>&quot;VT&quot;</td></tr><tr><td>&quot;Arkansas&quot;</td><td>&quot;AR&quot;</td></tr><tr><td>&quot;New Jersey&quot;</td><td>&quot;NJ&quot;</td></tr></tbody></table></div>"
      ],
      "text/plain": [
       "shape: (4, 2)\n",
       "┌───────────────┬────────────┐\n",
       "│ State         ┆ State_code │\n",
       "│ ---           ┆ ---        │\n",
       "│ str           ┆ str        │\n",
       "╞═══════════════╪════════════╡\n",
       "│ West Virginia ┆ WV         │\n",
       "│ Vermont       ┆ VT         │\n",
       "│ Arkansas      ┆ AR         │\n",
       "│ New Jersey    ┆ NJ         │\n",
       "└───────────────┴────────────┘"
      ]
     },
     "execution_count": 34,
     "metadata": {},
     "output_type": "execute_result"
    }
   ],
   "source": [
    "data = pl.read_csv(\"datasets/data.csv\")\n",
    "data.sample(4)"
   ]
  },
  {
   "cell_type": "code",
   "execution_count": 35,
   "id": "48b3f1cb",
   "metadata": {},
   "outputs": [],
   "source": [
    "df_outages_update = df_outages_filtered.join(data, on=\"State\", how=\"left\",coalesce=True)"
   ]
  },
  {
   "cell_type": "code",
   "execution_count": 36,
   "id": "7de9a73c",
   "metadata": {},
   "outputs": [
    {
     "data": {
      "text/html": [
       "<div><style>\n",
       ".dataframe > thead > tr,\n",
       ".dataframe > tbody > tr {\n",
       "  text-align: right;\n",
       "  white-space: pre-wrap;\n",
       "}\n",
       "</style>\n",
       "<small>shape: (5, 11)</small><table border=\"1\" class=\"dataframe\"><thead><tr><th>fips_code</th><th>County</th><th>State</th><th>customers_out</th><th>power_outage</th><th>year</th><th>month</th><th>day</th><th>hour</th><th>weekday</th><th>State_code</th></tr><tr><td>i64</td><td>str</td><td>str</td><td>i64</td><td>i8</td><td>i32</td><td>i8</td><td>i8</td><td>i8</td><td>i8</td><td>str</td></tr></thead><tbody><tr><td>2122</td><td>&quot;Kenai Peninsula&quot;</td><td>&quot;Alaska&quot;</td><td>657</td><td>1</td><td>2016</td><td>1</td><td>1</td><td>0</td><td>5</td><td>&quot;AK&quot;</td></tr><tr><td>5003</td><td>&quot;Ashley&quot;</td><td>&quot;Arkansas&quot;</td><td>7</td><td>0</td><td>2016</td><td>1</td><td>1</td><td>0</td><td>5</td><td>&quot;AR&quot;</td></tr><tr><td>5029</td><td>&quot;Conway&quot;</td><td>&quot;Arkansas&quot;</td><td>2</td><td>0</td><td>2016</td><td>1</td><td>1</td><td>0</td><td>5</td><td>&quot;AR&quot;</td></tr><tr><td>5069</td><td>&quot;Jefferson&quot;</td><td>&quot;Arkansas&quot;</td><td>41</td><td>1</td><td>2016</td><td>1</td><td>1</td><td>0</td><td>5</td><td>&quot;AR&quot;</td></tr><tr><td>5081</td><td>&quot;Little River&quot;</td><td>&quot;Arkansas&quot;</td><td>61</td><td>1</td><td>2016</td><td>1</td><td>1</td><td>0</td><td>5</td><td>&quot;AR&quot;</td></tr></tbody></table></div>"
      ],
      "text/plain": [
       "shape: (5, 11)\n",
       "┌───────────┬─────────────────┬──────────┬───────────────┬───┬─────┬──────┬─────────┬────────────┐\n",
       "│ fips_code ┆ County          ┆ State    ┆ customers_out ┆ … ┆ day ┆ hour ┆ weekday ┆ State_code │\n",
       "│ ---       ┆ ---             ┆ ---      ┆ ---           ┆   ┆ --- ┆ ---  ┆ ---     ┆ ---        │\n",
       "│ i64       ┆ str             ┆ str      ┆ i64           ┆   ┆ i8  ┆ i8   ┆ i8      ┆ str        │\n",
       "╞═══════════╪═════════════════╪══════════╪═══════════════╪═══╪═════╪══════╪═════════╪════════════╡\n",
       "│ 2122      ┆ Kenai Peninsula ┆ Alaska   ┆ 657           ┆ … ┆ 1   ┆ 0    ┆ 5       ┆ AK         │\n",
       "│ 5003      ┆ Ashley          ┆ Arkansas ┆ 7             ┆ … ┆ 1   ┆ 0    ┆ 5       ┆ AR         │\n",
       "│ 5029      ┆ Conway          ┆ Arkansas ┆ 2             ┆ … ┆ 1   ┆ 0    ┆ 5       ┆ AR         │\n",
       "│ 5069      ┆ Jefferson       ┆ Arkansas ┆ 41            ┆ … ┆ 1   ┆ 0    ┆ 5       ┆ AR         │\n",
       "│ 5081      ┆ Little River    ┆ Arkansas ┆ 61            ┆ … ┆ 1   ┆ 0    ┆ 5       ┆ AR         │\n",
       "└───────────┴─────────────────┴──────────┴───────────────┴───┴─────┴──────┴─────────┴────────────┘"
      ]
     },
     "execution_count": 36,
     "metadata": {},
     "output_type": "execute_result"
    }
   ],
   "source": [
    "df_outages_update.head()"
   ]
  },
  {
   "cell_type": "code",
   "execution_count": 37,
   "id": "e70bbb73",
   "metadata": {},
   "outputs": [
    {
     "data": {
      "text/html": [
       "<div><style>\n",
       ".dataframe > thead > tr,\n",
       ".dataframe > tbody > tr {\n",
       "  text-align: right;\n",
       "  white-space: pre-wrap;\n",
       "}\n",
       "</style>\n",
       "<small>shape: (5, 16)</small><table border=\"1\" class=\"dataframe\"><thead><tr><th>Precipitation(in)</th><th>TimeZone</th><th>City</th><th>County</th><th>State</th><th>rain</th><th>cold</th><th>snow</th><th>fog</th><th>year</th><th>month</th><th>day</th><th>hour</th><th>weekday</th><th>duration_seconds</th><th>severity_encoded</th></tr><tr><td>f64</td><td>str</td><td>str</td><td>str</td><td>str</td><td>i8</td><td>i8</td><td>i8</td><td>i8</td><td>i32</td><td>i8</td><td>i8</td><td>i8</td><td>i8</td><td>i64</td><td>str</td></tr></thead><tbody><tr><td>0.48</td><td>&quot;US/Eastern&quot;</td><td>&quot;Whiteville&quot;</td><td>&quot;Columbus&quot;</td><td>&quot;NC&quot;</td><td>1</td><td>0</td><td>0</td><td>0</td><td>2016</td><td>1</td><td>1</td><td>5</td><td>5</td><td>20400</td><td>&quot;1&quot;</td></tr><tr><td>0.05</td><td>&quot;US/Eastern&quot;</td><td>&quot;Beaufort&quot;</td><td>&quot;Beaufort&quot;</td><td>&quot;SC&quot;</td><td>1</td><td>0</td><td>0</td><td>0</td><td>2016</td><td>1</td><td>1</td><td>5</td><td>5</td><td>7860</td><td>&quot;1&quot;</td></tr><tr><td>0.01</td><td>&quot;US/Eastern&quot;</td><td>&quot;Moncks Corner&quot;</td><td>&quot;Berkeley&quot;</td><td>&quot;SC&quot;</td><td>1</td><td>0</td><td>0</td><td>0</td><td>2016</td><td>1</td><td>1</td><td>5</td><td>5</td><td>3600</td><td>&quot;1&quot;</td></tr><tr><td>0.0</td><td>&quot;US/Eastern&quot;</td><td>&quot;Charlevoix&quot;</td><td>&quot;Charlevoix&quot;</td><td>&quot;MI&quot;</td><td>0</td><td>0</td><td>1</td><td>0</td><td>2016</td><td>1</td><td>1</td><td>5</td><td>5</td><td>8460</td><td>&quot;1&quot;</td></tr><tr><td>0.0</td><td>&quot;US/Eastern&quot;</td><td>&quot;Andrews&quot;</td><td>&quot;Cherokee&quot;</td><td>&quot;NC&quot;</td><td>0</td><td>0</td><td>0</td><td>1</td><td>2016</td><td>1</td><td>1</td><td>5</td><td>5</td><td>1200</td><td>&quot;4&quot;</td></tr></tbody></table></div>"
      ],
      "text/plain": [
       "shape: (5, 16)\n",
       "┌────────────┬────────────┬────────────┬────────────┬───┬──────┬─────────┬────────────┬────────────┐\n",
       "│ Precipitat ┆ TimeZone   ┆ City       ┆ County     ┆ … ┆ hour ┆ weekday ┆ duration_s ┆ severity_e │\n",
       "│ ion(in)    ┆ ---        ┆ ---        ┆ ---        ┆   ┆ ---  ┆ ---     ┆ econds     ┆ ncoded     │\n",
       "│ ---        ┆ str        ┆ str        ┆ str        ┆   ┆ i8   ┆ i8      ┆ ---        ┆ ---        │\n",
       "│ f64        ┆            ┆            ┆            ┆   ┆      ┆         ┆ i64        ┆ str        │\n",
       "╞════════════╪════════════╪════════════╪════════════╪═══╪══════╪═════════╪════════════╪════════════╡\n",
       "│ 0.48       ┆ US/Eastern ┆ Whiteville ┆ Columbus   ┆ … ┆ 5    ┆ 5       ┆ 20400      ┆ 1          │\n",
       "│ 0.05       ┆ US/Eastern ┆ Beaufort   ┆ Beaufort   ┆ … ┆ 5    ┆ 5       ┆ 7860       ┆ 1          │\n",
       "│ 0.01       ┆ US/Eastern ┆ Moncks     ┆ Berkeley   ┆ … ┆ 5    ┆ 5       ┆ 3600       ┆ 1          │\n",
       "│            ┆            ┆ Corner     ┆            ┆   ┆      ┆         ┆            ┆            │\n",
       "│ 0.0        ┆ US/Eastern ┆ Charlevoix ┆ Charlevoix ┆ … ┆ 5    ┆ 5       ┆ 8460       ┆ 1          │\n",
       "│ 0.0        ┆ US/Eastern ┆ Andrews    ┆ Cherokee   ┆ … ┆ 5    ┆ 5       ┆ 1200       ┆ 4          │\n",
       "└────────────┴────────────┴────────────┴────────────┴───┴──────┴─────────┴────────────┴────────────┘"
      ]
     },
     "execution_count": 37,
     "metadata": {},
     "output_type": "execute_result"
    }
   ],
   "source": [
    "df_weather_agg_2016.head()"
   ]
  },
  {
   "cell_type": "code",
   "execution_count": 38,
   "id": "a14316e9",
   "metadata": {},
   "outputs": [],
   "source": [
    "df_weather_agg_2016 = df_weather_agg_2016.rename({'State':'State_code'})"
   ]
  },
  {
   "cell_type": "code",
   "execution_count": 39,
   "id": "7a624741",
   "metadata": {},
   "outputs": [
    {
     "data": {
      "text/html": [
       "<div><style>\n",
       ".dataframe > thead > tr,\n",
       ".dataframe > tbody > tr {\n",
       "  text-align: right;\n",
       "  white-space: pre-wrap;\n",
       "}\n",
       "</style>\n",
       "<small>shape: (5, 16)</small><table border=\"1\" class=\"dataframe\"><thead><tr><th>Precipitation(in)</th><th>TimeZone</th><th>City</th><th>County</th><th>State_code</th><th>rain</th><th>cold</th><th>snow</th><th>fog</th><th>year</th><th>month</th><th>day</th><th>hour</th><th>weekday</th><th>duration_seconds</th><th>severity_encoded</th></tr><tr><td>f64</td><td>str</td><td>str</td><td>str</td><td>str</td><td>i8</td><td>i8</td><td>i8</td><td>i8</td><td>i32</td><td>i8</td><td>i8</td><td>i8</td><td>i8</td><td>i64</td><td>str</td></tr></thead><tbody><tr><td>0.48</td><td>&quot;US/Eastern&quot;</td><td>&quot;Whiteville&quot;</td><td>&quot;Columbus&quot;</td><td>&quot;NC&quot;</td><td>1</td><td>0</td><td>0</td><td>0</td><td>2016</td><td>1</td><td>1</td><td>5</td><td>5</td><td>20400</td><td>&quot;1&quot;</td></tr><tr><td>0.05</td><td>&quot;US/Eastern&quot;</td><td>&quot;Beaufort&quot;</td><td>&quot;Beaufort&quot;</td><td>&quot;SC&quot;</td><td>1</td><td>0</td><td>0</td><td>0</td><td>2016</td><td>1</td><td>1</td><td>5</td><td>5</td><td>7860</td><td>&quot;1&quot;</td></tr><tr><td>0.01</td><td>&quot;US/Eastern&quot;</td><td>&quot;Moncks Corner&quot;</td><td>&quot;Berkeley&quot;</td><td>&quot;SC&quot;</td><td>1</td><td>0</td><td>0</td><td>0</td><td>2016</td><td>1</td><td>1</td><td>5</td><td>5</td><td>3600</td><td>&quot;1&quot;</td></tr><tr><td>0.0</td><td>&quot;US/Eastern&quot;</td><td>&quot;Charlevoix&quot;</td><td>&quot;Charlevoix&quot;</td><td>&quot;MI&quot;</td><td>0</td><td>0</td><td>1</td><td>0</td><td>2016</td><td>1</td><td>1</td><td>5</td><td>5</td><td>8460</td><td>&quot;1&quot;</td></tr><tr><td>0.0</td><td>&quot;US/Eastern&quot;</td><td>&quot;Andrews&quot;</td><td>&quot;Cherokee&quot;</td><td>&quot;NC&quot;</td><td>0</td><td>0</td><td>0</td><td>1</td><td>2016</td><td>1</td><td>1</td><td>5</td><td>5</td><td>1200</td><td>&quot;4&quot;</td></tr></tbody></table></div>"
      ],
      "text/plain": [
       "shape: (5, 16)\n",
       "┌────────────┬────────────┬────────────┬────────────┬───┬──────┬─────────┬────────────┬────────────┐\n",
       "│ Precipitat ┆ TimeZone   ┆ City       ┆ County     ┆ … ┆ hour ┆ weekday ┆ duration_s ┆ severity_e │\n",
       "│ ion(in)    ┆ ---        ┆ ---        ┆ ---        ┆   ┆ ---  ┆ ---     ┆ econds     ┆ ncoded     │\n",
       "│ ---        ┆ str        ┆ str        ┆ str        ┆   ┆ i8   ┆ i8      ┆ ---        ┆ ---        │\n",
       "│ f64        ┆            ┆            ┆            ┆   ┆      ┆         ┆ i64        ┆ str        │\n",
       "╞════════════╪════════════╪════════════╪════════════╪═══╪══════╪═════════╪════════════╪════════════╡\n",
       "│ 0.48       ┆ US/Eastern ┆ Whiteville ┆ Columbus   ┆ … ┆ 5    ┆ 5       ┆ 20400      ┆ 1          │\n",
       "│ 0.05       ┆ US/Eastern ┆ Beaufort   ┆ Beaufort   ┆ … ┆ 5    ┆ 5       ┆ 7860       ┆ 1          │\n",
       "│ 0.01       ┆ US/Eastern ┆ Moncks     ┆ Berkeley   ┆ … ┆ 5    ┆ 5       ┆ 3600       ┆ 1          │\n",
       "│            ┆            ┆ Corner     ┆            ┆   ┆      ┆         ┆            ┆            │\n",
       "│ 0.0        ┆ US/Eastern ┆ Charlevoix ┆ Charlevoix ┆ … ┆ 5    ┆ 5       ┆ 8460       ┆ 1          │\n",
       "│ 0.0        ┆ US/Eastern ┆ Andrews    ┆ Cherokee   ┆ … ┆ 5    ┆ 5       ┆ 1200       ┆ 4          │\n",
       "└────────────┴────────────┴────────────┴────────────┴───┴──────┴─────────┴────────────┴────────────┘"
      ]
     },
     "execution_count": 39,
     "metadata": {},
     "output_type": "execute_result"
    }
   ],
   "source": [
    "df_weather_agg_2016.head()"
   ]
  },
  {
   "cell_type": "code",
   "execution_count": 40,
   "id": "a8945b72",
   "metadata": {},
   "outputs": [],
   "source": [
    "df_weather_agg_2016.write_csv('datasets/weather.csv')"
   ]
  },
  {
   "cell_type": "code",
   "execution_count": 41,
   "id": "82ce02d1",
   "metadata": {},
   "outputs": [],
   "source": [
    "df_outages_update.write_csv('datasets/power.csv')"
   ]
  },
  {
   "cell_type": "code",
   "execution_count": 42,
   "id": "a1efab9d",
   "metadata": {},
   "outputs": [],
   "source": [
    "#joining 2 datasets\n",
    "merged_df = df_outages_update.join(df_weather_agg_2016, on=['State_code', 'County', 'year', 'month', 'day', 'hour'], how='left', coalesce=True)\n",
    "\n",
    "# Optional: Drop redundant columns from the merged DataFrame (e.g., 'State', 'year', 'month', 'day') if you wish to keep only one copy of them.\n",
    "merged_df = merged_df.drop(['State', 'year', 'month', 'day', 'fips_code'])\n"
   ]
  },
  {
   "cell_type": "code",
   "execution_count": 43,
   "id": "abff8c99",
   "metadata": {},
   "outputs": [],
   "source": [
    "merged_df=merged_df.drop_nulls()"
   ]
  },
  {
   "cell_type": "code",
   "execution_count": 44,
   "id": "f520be64",
   "metadata": {},
   "outputs": [
    {
     "data": {
      "text/html": [
       "<div><style>\n",
       ".dataframe > thead > tr,\n",
       ".dataframe > tbody > tr {\n",
       "  text-align: right;\n",
       "  white-space: pre-wrap;\n",
       "}\n",
       "</style>\n",
       "<small>shape: (20, 16)</small><table border=\"1\" class=\"dataframe\"><thead><tr><th>County</th><th>customers_out</th><th>power_outage</th><th>hour</th><th>weekday</th><th>State_code</th><th>Precipitation(in)</th><th>TimeZone</th><th>City</th><th>rain</th><th>cold</th><th>snow</th><th>fog</th><th>weekday_right</th><th>duration_seconds</th><th>severity_encoded</th></tr><tr><td>str</td><td>i64</td><td>i8</td><td>i8</td><td>i8</td><td>str</td><td>f64</td><td>str</td><td>str</td><td>i8</td><td>i8</td><td>i8</td><td>i8</td><td>i8</td><td>i64</td><td>str</td></tr></thead><tbody><tr><td>&quot;St. Johns&quot;</td><td>1</td><td>0</td><td>13</td><td>4</td><td>&quot;FL&quot;</td><td>0.0</td><td>&quot;US/Eastern&quot;</td><td>&quot;Saint Augustine&quot;</td><td>0</td><td>0</td><td>0</td><td>1</td><td>4</td><td>4260</td><td>&quot;2&quot;</td></tr><tr><td>&quot;Anne Arundel&quot;</td><td>317</td><td>1</td><td>13</td><td>4</td><td>&quot;MD&quot;</td><td>1.28</td><td>&quot;US/Eastern&quot;</td><td>&quot;Baltimore&quot;</td><td>1</td><td>0</td><td>0</td><td>0</td><td>4</td><td>1320</td><td>&quot;3&quot;</td></tr><tr><td>&quot;New Hanover&quot;</td><td>15</td><td>1</td><td>9</td><td>1</td><td>&quot;NC&quot;</td><td>0.03</td><td>&quot;US/Eastern&quot;</td><td>&quot;Wilmington&quot;</td><td>1</td><td>0</td><td>0</td><td>0</td><td>1</td><td>3840</td><td>&quot;1&quot;</td></tr><tr><td>&quot;Cheboygan&quot;</td><td>561</td><td>1</td><td>21</td><td>1</td><td>&quot;MI&quot;</td><td>0.0</td><td>&quot;US/Eastern&quot;</td><td>&quot;Cheboygan&quot;</td><td>0</td><td>0</td><td>0</td><td>1</td><td>1</td><td>1140</td><td>&quot;2&quot;</td></tr><tr><td>&quot;Manitowoc&quot;</td><td>1</td><td>0</td><td>17</td><td>2</td><td>&quot;WI&quot;</td><td>0.02</td><td>&quot;US/Central&quot;</td><td>&quot;Manitowoc&quot;</td><td>0</td><td>0</td><td>1</td><td>0</td><td>2</td><td>6360</td><td>&quot;1&quot;</td></tr><tr><td>&hellip;</td><td>&hellip;</td><td>&hellip;</td><td>&hellip;</td><td>&hellip;</td><td>&hellip;</td><td>&hellip;</td><td>&hellip;</td><td>&hellip;</td><td>&hellip;</td><td>&hellip;</td><td>&hellip;</td><td>&hellip;</td><td>&hellip;</td><td>&hellip;</td><td>&hellip;</td></tr><tr><td>&quot;Vernon&quot;</td><td>26</td><td>1</td><td>11</td><td>4</td><td>&quot;LA&quot;</td><td>0.0</td><td>&quot;US/Central&quot;</td><td>&quot;Fort Polk&quot;</td><td>1</td><td>0</td><td>0</td><td>0</td><td>4</td><td>1800</td><td>&quot;1&quot;</td></tr><tr><td>&quot;Travis&quot;</td><td>3</td><td>0</td><td>13</td><td>5</td><td>&quot;TX&quot;</td><td>0.0</td><td>&quot;US/Central&quot;</td><td>&quot;Austin&quot;</td><td>1</td><td>0</td><td>0</td><td>0</td><td>5</td><td>1260</td><td>&quot;1&quot;</td></tr><tr><td>&quot;Trumbull&quot;</td><td>4</td><td>0</td><td>12</td><td>4</td><td>&quot;OH&quot;</td><td>0.13</td><td>&quot;US/Eastern&quot;</td><td>&quot;Vienna&quot;</td><td>1</td><td>0</td><td>0</td><td>0</td><td>4</td><td>6060</td><td>&quot;1&quot;</td></tr><tr><td>&quot;Cobb&quot;</td><td>11</td><td>1</td><td>2</td><td>4</td><td>&quot;GA&quot;</td><td>0.0</td><td>&quot;US/Eastern&quot;</td><td>&quot;Kennesaw&quot;</td><td>0</td><td>1</td><td>0</td><td>0</td><td>4</td><td>3600</td><td>&quot;4&quot;</td></tr><tr><td>&quot;Portage&quot;</td><td>31</td><td>1</td><td>6</td><td>7</td><td>&quot;OH&quot;</td><td>0.0</td><td>&quot;US/Eastern&quot;</td><td>&quot;Ravenna&quot;</td><td>0</td><td>0</td><td>1</td><td>0</td><td>7</td><td>2400</td><td>&quot;1&quot;</td></tr></tbody></table></div>"
      ],
      "text/plain": [
       "shape: (20, 16)\n",
       "┌─────────────┬─────────────┬─────────────┬──────┬───┬─────┬─────────────┬────────────┬────────────┐\n",
       "│ County      ┆ customers_o ┆ power_outag ┆ hour ┆ … ┆ fog ┆ weekday_rig ┆ duration_s ┆ severity_e │\n",
       "│ ---         ┆ ut          ┆ e           ┆ ---  ┆   ┆ --- ┆ ht          ┆ econds     ┆ ncoded     │\n",
       "│ str         ┆ ---         ┆ ---         ┆ i8   ┆   ┆ i8  ┆ ---         ┆ ---        ┆ ---        │\n",
       "│             ┆ i64         ┆ i8          ┆      ┆   ┆     ┆ i8          ┆ i64        ┆ str        │\n",
       "╞═════════════╪═════════════╪═════════════╪══════╪═══╪═════╪═════════════╪════════════╪════════════╡\n",
       "│ St. Johns   ┆ 1           ┆ 0           ┆ 13   ┆ … ┆ 1   ┆ 4           ┆ 4260       ┆ 2          │\n",
       "│ Anne        ┆ 317         ┆ 1           ┆ 13   ┆ … ┆ 0   ┆ 4           ┆ 1320       ┆ 3          │\n",
       "│ Arundel     ┆             ┆             ┆      ┆   ┆     ┆             ┆            ┆            │\n",
       "│ New Hanover ┆ 15          ┆ 1           ┆ 9    ┆ … ┆ 0   ┆ 1           ┆ 3840       ┆ 1          │\n",
       "│ Cheboygan   ┆ 561         ┆ 1           ┆ 21   ┆ … ┆ 1   ┆ 1           ┆ 1140       ┆ 2          │\n",
       "│ Manitowoc   ┆ 1           ┆ 0           ┆ 17   ┆ … ┆ 0   ┆ 2           ┆ 6360       ┆ 1          │\n",
       "│ …           ┆ …           ┆ …           ┆ …    ┆ … ┆ …   ┆ …           ┆ …          ┆ …          │\n",
       "│ Vernon      ┆ 26          ┆ 1           ┆ 11   ┆ … ┆ 0   ┆ 4           ┆ 1800       ┆ 1          │\n",
       "│ Travis      ┆ 3           ┆ 0           ┆ 13   ┆ … ┆ 0   ┆ 5           ┆ 1260       ┆ 1          │\n",
       "│ Trumbull    ┆ 4           ┆ 0           ┆ 12   ┆ … ┆ 0   ┆ 4           ┆ 6060       ┆ 1          │\n",
       "│ Cobb        ┆ 11          ┆ 1           ┆ 2    ┆ … ┆ 0   ┆ 4           ┆ 3600       ┆ 4          │\n",
       "│ Portage     ┆ 31          ┆ 1           ┆ 6    ┆ … ┆ 0   ┆ 7           ┆ 2400       ┆ 1          │\n",
       "└─────────────┴─────────────┴─────────────┴──────┴───┴─────┴─────────────┴────────────┴────────────┘"
      ]
     },
     "execution_count": 44,
     "metadata": {},
     "output_type": "execute_result"
    }
   ],
   "source": [
    "# Fill missing values with 0 for binary weather features\n",
    "weather_columns = ['rain', 'cold', 'snow', 'fog']\n",
    "for column in weather_columns:\n",
    "    merged_df = merged_df.with_columns(pl.col(column).fill_null(0))\n",
    "\n",
    "# Fill missing avg_precipitation with the mean\n",
    "merged_df = merged_df.with_columns(\n",
    "    pl.col('Precipitation(in)').fill_null(pl.col('Precipitation(in)').mean())\n",
    ")\n",
    "\n",
    "# Fill missing max_severity with a default value, e.g., 0\n",
    "merged_df = merged_df.with_columns(\n",
    "    pl.col('severity_encoded').fill_null(0)\n",
    ")\n",
    "\n",
    "# Display the updated dataframe\n",
    "merged_df.sample(20)\n"
   ]
  },
  {
   "cell_type": "code",
   "execution_count": 45,
   "id": "559fd9d9",
   "metadata": {},
   "outputs": [],
   "source": [
    "merged_df.write_csv('datasets/2016_modeldata.csv')"
   ]
  },
  {
   "cell_type": "code",
   "execution_count": 46,
   "id": "d77f4803",
   "metadata": {},
   "outputs": [],
   "source": [
    "# Create lag features for 1 day and 2 days for rain\n",
    "for i in range(1, 3):  # Lags for 1 and 2 days\n",
    "    merged_df = merged_df.with_columns(pl.col(\"rain\").shift(i).alias(f\"rain_lag_{i}\"))\n",
    "    merged_df = merged_df.with_columns(pl.col(\"Precipitation(in)\").shift(i).alias(f\"Precipitation_lag_{i}\"))\n",
    "\n"
   ]
  },
  {
   "cell_type": "code",
   "execution_count": 47,
   "id": "ba752dde",
   "metadata": {},
   "outputs": [],
   "source": [
    "merged_df = merged_df.with_columns(\n",
    "    (\n",
    "        (pl.col(\"rain\") * pl.col(\"cold\")).alias(\"rain_and_cold\"),\n",
    "        (pl.col(\"snow\") * pl.col(\"fog\")).alias(\"snow_and_fog\"),\n",
    "    )\n",
    ")\n"
   ]
  },
  {
   "cell_type": "code",
   "execution_count": 48,
   "id": "9a0c03e6",
   "metadata": {},
   "outputs": [
    {
     "data": {
      "text/html": [
       "<div><style>\n",
       ".dataframe > thead > tr,\n",
       ".dataframe > tbody > tr {\n",
       "  text-align: right;\n",
       "  white-space: pre-wrap;\n",
       "}\n",
       "</style>\n",
       "<small>shape: (5, 22)</small><table border=\"1\" class=\"dataframe\"><thead><tr><th>County</th><th>customers_out</th><th>power_outage</th><th>hour</th><th>weekday</th><th>State_code</th><th>Precipitation(in)</th><th>TimeZone</th><th>City</th><th>rain</th><th>cold</th><th>snow</th><th>fog</th><th>weekday_right</th><th>duration_seconds</th><th>severity_encoded</th><th>rain_lag_1</th><th>Precipitation_lag_1</th><th>rain_lag_2</th><th>Precipitation_lag_2</th><th>rain_and_cold</th><th>snow_and_fog</th></tr><tr><td>str</td><td>i64</td><td>i8</td><td>i8</td><td>i8</td><td>str</td><td>f64</td><td>str</td><td>str</td><td>i8</td><td>i8</td><td>i8</td><td>i8</td><td>i8</td><td>i64</td><td>str</td><td>i8</td><td>f64</td><td>i8</td><td>f64</td><td>i8</td><td>i8</td></tr></thead><tbody><tr><td>&quot;Citrus&quot;</td><td>1</td><td>0</td><td>5</td><td>5</td><td>&quot;FL&quot;</td><td>0.0</td><td>&quot;US/Eastern&quot;</td><td>&quot;Inverness&quot;</td><td>0</td><td>0</td><td>0</td><td>1</td><td>5</td><td>12000</td><td>&quot;4&quot;</td><td>null</td><td>null</td><td>null</td><td>null</td><td>0</td><td>0</td></tr><tr><td>&quot;Citrus&quot;</td><td>1</td><td>0</td><td>5</td><td>5</td><td>&quot;FL&quot;</td><td>0.0</td><td>&quot;US/Eastern&quot;</td><td>&quot;Crystal River&quot;</td><td>0</td><td>0</td><td>0</td><td>1</td><td>5</td><td>2400</td><td>&quot;4&quot;</td><td>0</td><td>0.0</td><td>null</td><td>null</td><td>0</td><td>0</td></tr><tr><td>&quot;Collier&quot;</td><td>2</td><td>0</td><td>5</td><td>5</td><td>&quot;FL&quot;</td><td>0.0</td><td>&quot;US/Eastern&quot;</td><td>&quot;Naples&quot;</td><td>0</td><td>0</td><td>0</td><td>1</td><td>5</td><td>7200</td><td>&quot;4&quot;</td><td>0</td><td>0.0</td><td>0</td><td>0.0</td><td>0</td><td>0</td></tr><tr><td>&quot;Duval&quot;</td><td>270</td><td>1</td><td>5</td><td>5</td><td>&quot;FL&quot;</td><td>0.0</td><td>&quot;US/Eastern&quot;</td><td>&quot;Jacksonville&quot;</td><td>0</td><td>0</td><td>0</td><td>1</td><td>5</td><td>2400</td><td>&quot;4&quot;</td><td>0</td><td>0.0</td><td>0</td><td>0.0</td><td>0</td><td>0</td></tr><tr><td>&quot;Hernando&quot;</td><td>1</td><td>0</td><td>5</td><td>5</td><td>&quot;FL&quot;</td><td>0.0</td><td>&quot;US/Eastern&quot;</td><td>&quot;Brooksville&quot;</td><td>0</td><td>0</td><td>0</td><td>1</td><td>5</td><td>2520</td><td>&quot;4&quot;</td><td>0</td><td>0.0</td><td>0</td><td>0.0</td><td>0</td><td>0</td></tr></tbody></table></div>"
      ],
      "text/plain": [
       "shape: (5, 22)\n",
       "┌──────────┬────────────┬────────────┬──────┬───┬────────────┬────────────┬────────────┬───────────┐\n",
       "│ County   ┆ customers_ ┆ power_outa ┆ hour ┆ … ┆ rain_lag_2 ┆ Precipitat ┆ rain_and_c ┆ snow_and_ │\n",
       "│ ---      ┆ out        ┆ ge         ┆ ---  ┆   ┆ ---        ┆ ion_lag_2  ┆ old        ┆ fog       │\n",
       "│ str      ┆ ---        ┆ ---        ┆ i8   ┆   ┆ i8         ┆ ---        ┆ ---        ┆ ---       │\n",
       "│          ┆ i64        ┆ i8         ┆      ┆   ┆            ┆ f64        ┆ i8         ┆ i8        │\n",
       "╞══════════╪════════════╪════════════╪══════╪═══╪════════════╪════════════╪════════════╪═══════════╡\n",
       "│ Citrus   ┆ 1          ┆ 0          ┆ 5    ┆ … ┆ null       ┆ null       ┆ 0          ┆ 0         │\n",
       "│ Citrus   ┆ 1          ┆ 0          ┆ 5    ┆ … ┆ null       ┆ null       ┆ 0          ┆ 0         │\n",
       "│ Collier  ┆ 2          ┆ 0          ┆ 5    ┆ … ┆ 0          ┆ 0.0        ┆ 0          ┆ 0         │\n",
       "│ Duval    ┆ 270        ┆ 1          ┆ 5    ┆ … ┆ 0          ┆ 0.0        ┆ 0          ┆ 0         │\n",
       "│ Hernando ┆ 1          ┆ 0          ┆ 5    ┆ … ┆ 0          ┆ 0.0        ┆ 0          ┆ 0         │\n",
       "└──────────┴────────────┴────────────┴──────┴───┴────────────┴────────────┴────────────┴───────────┘"
      ]
     },
     "execution_count": 48,
     "metadata": {},
     "output_type": "execute_result"
    }
   ],
   "source": [
    "merged_df.head()"
   ]
  },
  {
   "cell_type": "code",
   "execution_count": 49,
   "id": "44ae3c48",
   "metadata": {},
   "outputs": [],
   "source": [
    "# Drop all rows with null values\n",
    "cleaned_df = merged_df.drop_nulls()"
   ]
  },
  {
   "cell_type": "code",
   "execution_count": 50,
   "id": "a8082527",
   "metadata": {},
   "outputs": [
    {
     "data": {
      "text/html": [
       "<div><style>\n",
       ".dataframe > thead > tr,\n",
       ".dataframe > tbody > tr {\n",
       "  text-align: right;\n",
       "  white-space: pre-wrap;\n",
       "}\n",
       "</style>\n",
       "<small>shape: (5, 22)</small><table border=\"1\" class=\"dataframe\"><thead><tr><th>County</th><th>customers_out</th><th>power_outage</th><th>hour</th><th>weekday</th><th>State_code</th><th>Precipitation(in)</th><th>TimeZone</th><th>City</th><th>rain</th><th>cold</th><th>snow</th><th>fog</th><th>weekday_right</th><th>duration_seconds</th><th>severity_encoded</th><th>rain_lag_1</th><th>Precipitation_lag_1</th><th>rain_lag_2</th><th>Precipitation_lag_2</th><th>rain_and_cold</th><th>snow_and_fog</th></tr><tr><td>str</td><td>i64</td><td>i8</td><td>i8</td><td>i8</td><td>str</td><td>f64</td><td>str</td><td>str</td><td>i8</td><td>i8</td><td>i8</td><td>i8</td><td>i8</td><td>i64</td><td>str</td><td>i8</td><td>f64</td><td>i8</td><td>f64</td><td>i8</td><td>i8</td></tr></thead><tbody><tr><td>&quot;Collier&quot;</td><td>2</td><td>0</td><td>5</td><td>5</td><td>&quot;FL&quot;</td><td>0.0</td><td>&quot;US/Eastern&quot;</td><td>&quot;Naples&quot;</td><td>0</td><td>0</td><td>0</td><td>1</td><td>5</td><td>7200</td><td>&quot;4&quot;</td><td>0</td><td>0.0</td><td>0</td><td>0.0</td><td>0</td><td>0</td></tr><tr><td>&quot;Duval&quot;</td><td>270</td><td>1</td><td>5</td><td>5</td><td>&quot;FL&quot;</td><td>0.0</td><td>&quot;US/Eastern&quot;</td><td>&quot;Jacksonville&quot;</td><td>0</td><td>0</td><td>0</td><td>1</td><td>5</td><td>2400</td><td>&quot;4&quot;</td><td>0</td><td>0.0</td><td>0</td><td>0.0</td><td>0</td><td>0</td></tr><tr><td>&quot;Hernando&quot;</td><td>1</td><td>0</td><td>5</td><td>5</td><td>&quot;FL&quot;</td><td>0.0</td><td>&quot;US/Eastern&quot;</td><td>&quot;Brooksville&quot;</td><td>0</td><td>0</td><td>0</td><td>1</td><td>5</td><td>2520</td><td>&quot;4&quot;</td><td>0</td><td>0.0</td><td>0</td><td>0.0</td><td>0</td><td>0</td></tr><tr><td>&quot;Leon&quot;</td><td>157</td><td>1</td><td>5</td><td>5</td><td>&quot;FL&quot;</td><td>0.04</td><td>&quot;US/Eastern&quot;</td><td>&quot;Tallahassee&quot;</td><td>1</td><td>0</td><td>0</td><td>0</td><td>5</td><td>780</td><td>&quot;1&quot;</td><td>0</td><td>0.0</td><td>0</td><td>0.0</td><td>0</td><td>0</td></tr><tr><td>&quot;Miami-Dade&quot;</td><td>51</td><td>1</td><td>5</td><td>5</td><td>&quot;FL&quot;</td><td>0.0</td><td>&quot;US/Eastern&quot;</td><td>&quot;Miami&quot;</td><td>0</td><td>0</td><td>0</td><td>1</td><td>5</td><td>9060</td><td>&quot;4&quot;</td><td>1</td><td>0.04</td><td>0</td><td>0.0</td><td>0</td><td>0</td></tr></tbody></table></div>"
      ],
      "text/plain": [
       "shape: (5, 22)\n",
       "┌────────────┬────────────┬────────────┬──────┬───┬────────────┬───────────┬───────────┬───────────┐\n",
       "│ County     ┆ customers_ ┆ power_outa ┆ hour ┆ … ┆ rain_lag_2 ┆ Precipita ┆ rain_and_ ┆ snow_and_ │\n",
       "│ ---        ┆ out        ┆ ge         ┆ ---  ┆   ┆ ---        ┆ tion_lag_ ┆ cold      ┆ fog       │\n",
       "│ str        ┆ ---        ┆ ---        ┆ i8   ┆   ┆ i8         ┆ 2         ┆ ---       ┆ ---       │\n",
       "│            ┆ i64        ┆ i8         ┆      ┆   ┆            ┆ ---       ┆ i8        ┆ i8        │\n",
       "│            ┆            ┆            ┆      ┆   ┆            ┆ f64       ┆           ┆           │\n",
       "╞════════════╪════════════╪════════════╪══════╪═══╪════════════╪═══════════╪═══════════╪═══════════╡\n",
       "│ Collier    ┆ 2          ┆ 0          ┆ 5    ┆ … ┆ 0          ┆ 0.0       ┆ 0         ┆ 0         │\n",
       "│ Duval      ┆ 270        ┆ 1          ┆ 5    ┆ … ┆ 0          ┆ 0.0       ┆ 0         ┆ 0         │\n",
       "│ Hernando   ┆ 1          ┆ 0          ┆ 5    ┆ … ┆ 0          ┆ 0.0       ┆ 0         ┆ 0         │\n",
       "│ Leon       ┆ 157        ┆ 1          ┆ 5    ┆ … ┆ 0          ┆ 0.0       ┆ 0         ┆ 0         │\n",
       "│ Miami-Dade ┆ 51         ┆ 1          ┆ 5    ┆ … ┆ 0          ┆ 0.0       ┆ 0         ┆ 0         │\n",
       "└────────────┴────────────┴────────────┴──────┴───┴────────────┴───────────┴───────────┴───────────┘"
      ]
     },
     "execution_count": 50,
     "metadata": {},
     "output_type": "execute_result"
    }
   ],
   "source": [
    "# Display the cleaned dataframe\n",
    "cleaned_df.head()\n",
    "\n"
   ]
  },
  {
   "cell_type": "code",
   "execution_count": 51,
   "id": "46a36944",
   "metadata": {},
   "outputs": [
    {
     "data": {
      "text/plain": [
       "(1083030, 22)"
      ]
     },
     "execution_count": 51,
     "metadata": {},
     "output_type": "execute_result"
    }
   ],
   "source": [
    "cleaned_df.shape"
   ]
  },
  {
   "cell_type": "markdown",
   "id": "f62bf59a",
   "metadata": {},
   "source": [
    "### Let's dive into the Exploratory Data Analysis (EDA) of your dataset. We'll start with understanding the distribution of key features, identifying correlations, and visualizing the data"
   ]
  },
  {
   "cell_type": "code",
   "execution_count": 52,
   "id": "8501c4b5",
   "metadata": {},
   "outputs": [
    {
     "name": "stdout",
     "output_type": "stream",
     "text": [
      "Distribution of power outages:\n",
      "shape: (2, 2)\n",
      "┌──────────────┬────────┐\n",
      "│ power_outage ┆ count  │\n",
      "│ ---          ┆ ---    │\n",
      "│ i8           ┆ u32    │\n",
      "╞══════════════╪════════╡\n",
      "│ 0            ┆ 455802 │\n",
      "│ 1            ┆ 627230 │\n",
      "└──────────────┴────────┘\n"
     ]
    }
   ],
   "source": [
    "# Count the occurrences of each class in the `power_outage` column\n",
    "outage_counts = merged_df[\"power_outage\"].value_counts()\n",
    "\n",
    "# Display the distribution\n",
    "print(\"Distribution of power outages:\")\n",
    "print(outage_counts)"
   ]
  },
  {
   "cell_type": "markdown",
   "id": "0227190f",
   "metadata": {},
   "source": [
    "## Analyzing Numerical Features:"
   ]
  },
  {
   "cell_type": "code",
   "execution_count": 53,
   "id": "86d46931",
   "metadata": {},
   "outputs": [
    {
     "data": {
      "image/png": "[encoded data removed]",
      "text/plain": [
       "<Figure size 432x288 with 1 Axes>"
      ]
     },
     "metadata": {
      "needs_background": "light"
     },
     "output_type": "display_data"
    }
   ],
   "source": [
    "import matplotlib.pyplot as plt\n",
    "\n",
    "# Histogram for customers_out\n",
    "plt.hist(merged_df[\"customers_out\"].to_list(), bins=20)\n",
    "plt.xlabel(\"Customers Out\")\n",
    "plt.ylabel(\"Frequency\")\n",
    "plt.title(\"Distribution of Customers Out\")\n",
    "plt.show()"
   ]
  },
  {
   "cell_type": "code",
   "execution_count": 54,
   "id": "c23ddce2",
   "metadata": {},
   "outputs": [
    {
     "data": {
      "image/png": "[encoded data removed]",
      "text/plain": [
       "<Figure size 720x432 with 1 Axes>"
      ]
     },
     "metadata": {
      "needs_background": "light"
     },
     "output_type": "display_data"
    }
   ],
   "source": [
    "import seaborn as sns\n",
    "# Distribution of 'duration_seconds'\n",
    "plt.figure(figsize=(10, 6))\n",
    "sns.histplot(cleaned_df['duration_seconds'], bins=30, kde=True)\n",
    "plt.title('Distribution of Duration (seconds)')\n",
    "plt.xlabel('Duration (seconds)')\n",
    "plt.ylabel('Frequency')\n",
    "plt.show()"
   ]
  },
  {
   "cell_type": "code",
   "execution_count": 55,
   "id": "ed03daaa",
   "metadata": {},
   "outputs": [
    {
     "data": {
      "image/png": "[encoded data removed]",
      "text/plain": [
       "<Figure size 432x288 with 1 Axes>"
      ]
     },
     "metadata": {
      "needs_background": "light"
     },
     "output_type": "display_data"
    },
    {
     "data": {
      "image/png": "[encoded data removed]",
      "text/plain": [
       "<Figure size 432x288 with 1 Axes>"
      ]
     },
     "metadata": {
      "needs_background": "light"
     },
     "output_type": "display_data"
    },
    {
     "data": {
      "image/png": "[encoded data removed]",
      "text/plain": [
       "<Figure size 432x288 with 1 Axes>"
      ]
     },
     "metadata": {
      "needs_background": "light"
     },
     "output_type": "display_data"
    },
    {
     "data": {
      "image/png": "[encoded data removed]",
      "text/plain": [
       "<Figure size 432x288 with 1 Axes>"
      ]
     },
     "metadata": {
      "needs_background": "light"
     },
     "output_type": "display_data"
    }
   ],
   "source": [
    "# Convert to pandas for visualization\n",
    "cleaned_df_pandas = cleaned_df.to_pandas()\n",
    "\n",
    "# List of weather types\n",
    "weather_types = [\"rain\", \"cold\", \"snow\", \"fog\"]\n",
    "\n",
    "# Generate box plots for each weather type\n",
    "for weather_type in weather_types:\n",
    "    sns.boxplot(x=cleaned_df_pandas[weather_type], y=cleaned_df_pandas[\"power_outage\"])\n",
    "    plt.xlabel(f\"{weather_type.capitalize()}\")\n",
    "    plt.ylabel(\"Power Outage\")\n",
    "    plt.title(f\"Outages by {weather_type.capitalize()}\")\n",
    "    plt.show()"
   ]
  },
  {
   "cell_type": "markdown",
   "id": "d121e2d3",
   "metadata": {},
   "source": [
    "## Correlation Matrix"
   ]
  },
  {
   "cell_type": "code",
   "execution_count": 57,
   "id": "ba3c1716",
   "metadata": {},
   "outputs": [
    {
     "name": "stdout",
     "output_type": "stream",
     "text": [
      "shape: (5, 2)\n",
      "┌─────────────────────┬────────────────────────────┐\n",
      "│ Feature             ┆ Point-Biserial Correlation │\n",
      "│ ---                 ┆ ---                        │\n",
      "│ str                 ┆ f64                        │\n",
      "╞═════════════════════╪════════════════════════════╡\n",
      "│ customers_out       ┆ 0.098926                   │\n",
      "│ Precipitation(in)   ┆ 0.013191                   │\n",
      "│ duration_seconds    ┆ -0.000914                  │\n",
      "│ Precipitation_lag_1 ┆ 0.011437                   │\n",
      "│ Precipitation_lag_2 ┆ 0.008271                   │\n",
      "└─────────────────────┴────────────────────────────┘\n"
     ]
    }
   ],
   "source": [
    "import polars as pl\n",
    "import numpy as np\n",
    "\n",
    "\n",
    "# Identify numerical columns\n",
    "numerical_columns = [col for col, dtype in cleaned_df.schema.items() if dtype in [pl.Float32, pl.Float64, pl.Int32, pl.Int64]]\n",
    "\n",
    "# Initialize a dictionary to store the point-biserial correlation coefficients\n",
    "point_biserial_corrs = {}\n",
    "\n",
    "# Iterate over each numerical feature\n",
    "for col in numerical_columns:\n",
    "    # Compute means for the groups where power_outage is 0 and 1\n",
    "    mean_0 = cleaned_df.filter(pl.col('power_outage') == 0)[col].mean()\n",
    "    mean_1 = cleaned_df.filter(pl.col('power_outage') == 1)[col].mean()\n",
    "    \n",
    "    # Compute the overall mean of the feature\n",
    "    mean_feature = cleaned_df[col].mean()\n",
    "    \n",
    "    # Compute the standard deviation of the feature\n",
    "    std_feature = cleaned_df[col].std()\n",
    "    \n",
    "    # Calculate the proportions of the groups\n",
    "    n_0 = cleaned_df.filter(pl.col('power_outage') == 0).height\n",
    "    n_1 = cleaned_df.filter(pl.col('power_outage') == 1).height\n",
    "    n = cleaned_df.height\n",
    "    p_0 = n_0 / n\n",
    "    p_1 = n_1 / n\n",
    "    \n",
    "    # Calculate the point-biserial correlation coefficient\n",
    "    r_pb = ((mean_1 - mean_0) / std_feature) * np.sqrt(p_0 * p_1)\n",
    "    \n",
    "    # Store the result\n",
    "    point_biserial_corrs[col] = r_pb\n",
    "\n",
    "# Convert the results to a DataFrame for easier viewing\n",
    "correlation_df = pl.DataFrame(\n",
    "    {\n",
    "        \"Feature\": list(point_biserial_corrs.keys()),\n",
    "        \"Point-Biserial Correlation\": list(point_biserial_corrs.values())\n",
    "    }\n",
    ")\n",
    "\n",
    "# Print the correlation DataFrame\n",
    "print(correlation_df)\n"
   ]
  },
  {
   "cell_type": "code",
   "execution_count": 58,
   "id": "a34c3896",
   "metadata": {},
   "outputs": [
    {
     "data": {
      "image/png": "[encoded data removed]",
      "text/plain": [
       "<Figure size 720x576 with 2 Axes>"
      ]
     },
     "metadata": {
      "needs_background": "light"
     },
     "output_type": "display_data"
    }
   ],
   "source": [
    "import seaborn as sns\n",
    "# List of weather types to include in the correlation matrix\n",
    "weather_types = [\"Precipitation(in)\", \"duration_seconds\", \"Precipitation_lag_1\", \"Precipitation_lag_2\", \"rain\", \"snow\", \"cold\", \"fog\"]\n",
    "\n",
    "# Include the target variable 'power_outage'\n",
    "columns_to_include = weather_types + [\"power_outage\"]\n",
    "\n",
    "# Select the relevant columns from the DataFrame\n",
    "selected_df = cleaned_df.select(columns_to_include)\n",
    "\n",
    "# Convert Polars DataFrame to Pandas DataFrame for compatibility with Seaborn\n",
    "pandas_df = selected_df.to_pandas()\n",
    "\n",
    "# Compute the correlation matrix\n",
    "corr_matrix = pandas_df.corr()\n",
    "\n",
    "# Plot the heat map\n",
    "plt.figure(figsize=(10, 8))\n",
    "sns.heatmap(corr_matrix, annot=True, cmap='coolwarm', fmt=\".2f\", linewidths=.5)\n",
    "plt.title('Correlation Heatmap of Weather Conditions and Power Outages')\n",
    "plt.show()"
   ]
  },
  {
   "cell_type": "markdown",
   "id": "d860403b",
   "metadata": {},
   "source": [
    "## Exploratory Data Analysis: Correlation Analysis\n",
    "\n",
    "### Key Observations:\n",
    "\n",
    "- **Weak Direct Correlations:** The correlation matrix reveals no strong linear relationships between most variables, implying predicting power outages from individual weather features alone might be challenging.\n",
    "\n",
    "- **Moderate Correlations with Lagged Precipitation:** The strongest correlations involve `prev_day_avg_precipitation_lag_1`, positively correlated with current `avg_precipitation` (0.70) and negatively with `rain_lag_1` (-0.70). This suggests yesterday's precipitation influences today's conditions.\n",
    "\n",
    "- **Moderate Correlation with `customers_out`:** A moderate positive correlation (0.46) exists between `customers_out` and `avg_precipitation`, indicating higher precipitation might be associated with larger outages.\n",
    "\n",
    "- **Limited Influence of Binary Weather Features:** Binary features (`rain`, `cold`, `snow`, `fog`) show weak correlations with `customers_out`, suggesting their individual presence may not strongly predict outages.\n",
    "\n",
    "### Implications:\n",
    "\n",
    "- **Non-Linear Relationships:** Lack of strong linear correlations suggests relationships between weather and outages could be non-linear.\n",
    "\n",
    "- **Combined Effects:** Combined impact of multiple weather features or interactions between them might better predict outages.\n",
    "\n",
    "- **Other Factors:** Factors like wind speed, humidity, infrastructure, and time of day may influence outages but aren't included in this analysis.\n"
   ]
  },
  {
   "cell_type": "markdown",
   "id": "328e45fd",
   "metadata": {},
   "source": [
    "## Address Inconsistent Data:"
   ]
  },
  {
   "cell_type": "code",
   "execution_count": 59,
   "id": "91189f3d",
   "metadata": {},
   "outputs": [
    {
     "data": {
      "text/html": [
       "<div><style>\n",
       ".dataframe > thead > tr,\n",
       ".dataframe > tbody > tr {\n",
       "  text-align: right;\n",
       "  white-space: pre-wrap;\n",
       "}\n",
       "</style>\n",
       "<small>shape: (5, 22)</small><table border=\"1\" class=\"dataframe\"><thead><tr><th>County</th><th>customers_out</th><th>power_outage</th><th>hour</th><th>weekday</th><th>State_code</th><th>Precipitation(in)</th><th>TimeZone</th><th>City</th><th>rain</th><th>cold</th><th>snow</th><th>fog</th><th>weekday_right</th><th>duration_seconds</th><th>severity_encoded</th><th>rain_lag_1</th><th>Precipitation_lag_1</th><th>rain_lag_2</th><th>Precipitation_lag_2</th><th>rain_and_cold</th><th>snow_and_fog</th></tr><tr><td>str</td><td>i64</td><td>i8</td><td>i8</td><td>i8</td><td>str</td><td>f64</td><td>str</td><td>str</td><td>i8</td><td>i8</td><td>i8</td><td>i8</td><td>i8</td><td>i64</td><td>str</td><td>i8</td><td>f64</td><td>i8</td><td>f64</td><td>i8</td><td>i8</td></tr></thead><tbody><tr><td>&quot;Citrus&quot;</td><td>1</td><td>0</td><td>5</td><td>5</td><td>&quot;FL&quot;</td><td>0.0</td><td>&quot;US/Eastern&quot;</td><td>&quot;Inverness&quot;</td><td>0</td><td>0</td><td>0</td><td>1</td><td>5</td><td>12000</td><td>&quot;4&quot;</td><td>null</td><td>null</td><td>null</td><td>null</td><td>0</td><td>0</td></tr><tr><td>&quot;Citrus&quot;</td><td>1</td><td>0</td><td>5</td><td>5</td><td>&quot;FL&quot;</td><td>0.0</td><td>&quot;US/Eastern&quot;</td><td>&quot;Crystal River&quot;</td><td>0</td><td>0</td><td>0</td><td>1</td><td>5</td><td>2400</td><td>&quot;4&quot;</td><td>0</td><td>0.0</td><td>null</td><td>null</td><td>0</td><td>0</td></tr><tr><td>&quot;Collier&quot;</td><td>2</td><td>0</td><td>5</td><td>5</td><td>&quot;FL&quot;</td><td>0.0</td><td>&quot;US/Eastern&quot;</td><td>&quot;Naples&quot;</td><td>0</td><td>0</td><td>0</td><td>1</td><td>5</td><td>7200</td><td>&quot;4&quot;</td><td>0</td><td>0.0</td><td>0</td><td>0.0</td><td>0</td><td>0</td></tr><tr><td>&quot;Duval&quot;</td><td>270</td><td>1</td><td>5</td><td>5</td><td>&quot;FL&quot;</td><td>0.0</td><td>&quot;US/Eastern&quot;</td><td>&quot;Jacksonville&quot;</td><td>0</td><td>0</td><td>0</td><td>1</td><td>5</td><td>2400</td><td>&quot;4&quot;</td><td>0</td><td>0.0</td><td>0</td><td>0.0</td><td>0</td><td>0</td></tr><tr><td>&quot;Hernando&quot;</td><td>1</td><td>0</td><td>5</td><td>5</td><td>&quot;FL&quot;</td><td>0.0</td><td>&quot;US/Eastern&quot;</td><td>&quot;Brooksville&quot;</td><td>0</td><td>0</td><td>0</td><td>1</td><td>5</td><td>2520</td><td>&quot;4&quot;</td><td>0</td><td>0.0</td><td>0</td><td>0.0</td><td>0</td><td>0</td></tr></tbody></table></div>"
      ],
      "text/plain": [
       "shape: (5, 22)\n",
       "┌──────────┬────────────┬────────────┬──────┬───┬────────────┬────────────┬────────────┬───────────┐\n",
       "│ County   ┆ customers_ ┆ power_outa ┆ hour ┆ … ┆ rain_lag_2 ┆ Precipitat ┆ rain_and_c ┆ snow_and_ │\n",
       "│ ---      ┆ out        ┆ ge         ┆ ---  ┆   ┆ ---        ┆ ion_lag_2  ┆ old        ┆ fog       │\n",
       "│ str      ┆ ---        ┆ ---        ┆ i8   ┆   ┆ i8         ┆ ---        ┆ ---        ┆ ---       │\n",
       "│          ┆ i64        ┆ i8         ┆      ┆   ┆            ┆ f64        ┆ i8         ┆ i8        │\n",
       "╞══════════╪════════════╪════════════╪══════╪═══╪════════════╪════════════╪════════════╪═══════════╡\n",
       "│ Citrus   ┆ 1          ┆ 0          ┆ 5    ┆ … ┆ null       ┆ null       ┆ 0          ┆ 0         │\n",
       "│ Citrus   ┆ 1          ┆ 0          ┆ 5    ┆ … ┆ null       ┆ null       ┆ 0          ┆ 0         │\n",
       "│ Collier  ┆ 2          ┆ 0          ┆ 5    ┆ … ┆ 0          ┆ 0.0        ┆ 0          ┆ 0         │\n",
       "│ Duval    ┆ 270        ┆ 1          ┆ 5    ┆ … ┆ 0          ┆ 0.0        ┆ 0          ┆ 0         │\n",
       "│ Hernando ┆ 1          ┆ 0          ┆ 5    ┆ … ┆ 0          ┆ 0.0        ┆ 0          ┆ 0         │\n",
       "└──────────┴────────────┴────────────┴──────┴───┴────────────┴────────────┴────────────┴───────────┘"
      ]
     },
     "execution_count": 59,
     "metadata": {},
     "output_type": "execute_result"
    }
   ],
   "source": [
    "merged_df.head()\n"
   ]
  },
  {
   "cell_type": "code",
   "execution_count": 60,
   "id": "14b978a3",
   "metadata": {},
   "outputs": [],
   "source": [
    "#drop null rows\n",
    "merged_df=merged_df.drop_nulls()"
   ]
  },
  {
   "cell_type": "code",
   "execution_count": 61,
   "id": "37b22347",
   "metadata": {},
   "outputs": [],
   "source": [
    "# Replace \"UNK\" with -1\n",
    "merged_df = merged_df.with_columns(\n",
    "    pl.when(pl.col(\"severity_encoded\") == \"UNK\").then(0).otherwise(pl.col(\"severity_encoded\")).alias(\"severity_encoded\")\n",
    ")"
   ]
  },
  {
   "cell_type": "code",
   "execution_count": 62,
   "id": "d8b0b7a9",
   "metadata": {},
   "outputs": [],
   "source": [
    "# Replace \"Other\" with 0\n",
    "merged_df = merged_df.with_columns(\n",
    "    pl.when(pl.col(\"severity_encoded\") == \"Other\").then(0).otherwise(pl.col(\"severity_encoded\")).alias(\"severity_encoded\")\n",
    ")"
   ]
  },
  {
   "cell_type": "code",
   "execution_count": 63,
   "id": "f0a56f27",
   "metadata": {},
   "outputs": [],
   "source": [
    "# Convert severity_encoded to integer\n",
    "merged_df = merged_df.with_columns(pl.col(\"severity_encoded\").cast(pl.Int8))\n"
   ]
  },
  {
   "cell_type": "code",
   "execution_count": 64,
   "id": "11b6f356",
   "metadata": {},
   "outputs": [],
   "source": [
    "merged_df = merged_df.filter(pl.col(\"severity_encoded\") >= 1)"
   ]
  },
  {
   "cell_type": "code",
   "execution_count": 65,
   "id": "600c4670",
   "metadata": {},
   "outputs": [
    {
     "data": {
      "text/html": [
       "<div><style>\n",
       ".dataframe > thead > tr,\n",
       ".dataframe > tbody > tr {\n",
       "  text-align: right;\n",
       "  white-space: pre-wrap;\n",
       "}\n",
       "</style>\n",
       "<small>shape: (5, 22)</small><table border=\"1\" class=\"dataframe\"><thead><tr><th>County</th><th>customers_out</th><th>power_outage</th><th>hour</th><th>weekday</th><th>State_code</th><th>Precipitation(in)</th><th>TimeZone</th><th>City</th><th>rain</th><th>cold</th><th>snow</th><th>fog</th><th>weekday_right</th><th>duration_seconds</th><th>severity_encoded</th><th>rain_lag_1</th><th>Precipitation_lag_1</th><th>rain_lag_2</th><th>Precipitation_lag_2</th><th>rain_and_cold</th><th>snow_and_fog</th></tr><tr><td>str</td><td>i64</td><td>i8</td><td>i8</td><td>i8</td><td>str</td><td>f64</td><td>str</td><td>str</td><td>i8</td><td>i8</td><td>i8</td><td>i8</td><td>i8</td><td>i64</td><td>i8</td><td>i8</td><td>f64</td><td>i8</td><td>f64</td><td>i8</td><td>i8</td></tr></thead><tbody><tr><td>&quot;Collier&quot;</td><td>2</td><td>0</td><td>5</td><td>5</td><td>&quot;FL&quot;</td><td>0.0</td><td>&quot;US/Eastern&quot;</td><td>&quot;Naples&quot;</td><td>0</td><td>0</td><td>0</td><td>1</td><td>5</td><td>7200</td><td>4</td><td>0</td><td>0.0</td><td>0</td><td>0.0</td><td>0</td><td>0</td></tr><tr><td>&quot;Duval&quot;</td><td>270</td><td>1</td><td>5</td><td>5</td><td>&quot;FL&quot;</td><td>0.0</td><td>&quot;US/Eastern&quot;</td><td>&quot;Jacksonville&quot;</td><td>0</td><td>0</td><td>0</td><td>1</td><td>5</td><td>2400</td><td>4</td><td>0</td><td>0.0</td><td>0</td><td>0.0</td><td>0</td><td>0</td></tr><tr><td>&quot;Hernando&quot;</td><td>1</td><td>0</td><td>5</td><td>5</td><td>&quot;FL&quot;</td><td>0.0</td><td>&quot;US/Eastern&quot;</td><td>&quot;Brooksville&quot;</td><td>0</td><td>0</td><td>0</td><td>1</td><td>5</td><td>2520</td><td>4</td><td>0</td><td>0.0</td><td>0</td><td>0.0</td><td>0</td><td>0</td></tr><tr><td>&quot;Leon&quot;</td><td>157</td><td>1</td><td>5</td><td>5</td><td>&quot;FL&quot;</td><td>0.04</td><td>&quot;US/Eastern&quot;</td><td>&quot;Tallahassee&quot;</td><td>1</td><td>0</td><td>0</td><td>0</td><td>5</td><td>780</td><td>1</td><td>0</td><td>0.0</td><td>0</td><td>0.0</td><td>0</td><td>0</td></tr><tr><td>&quot;Miami-Dade&quot;</td><td>51</td><td>1</td><td>5</td><td>5</td><td>&quot;FL&quot;</td><td>0.0</td><td>&quot;US/Eastern&quot;</td><td>&quot;Miami&quot;</td><td>0</td><td>0</td><td>0</td><td>1</td><td>5</td><td>9060</td><td>4</td><td>1</td><td>0.04</td><td>0</td><td>0.0</td><td>0</td><td>0</td></tr></tbody></table></div>"
      ],
      "text/plain": [
       "shape: (5, 22)\n",
       "┌────────────┬────────────┬────────────┬──────┬───┬────────────┬───────────┬───────────┬───────────┐\n",
       "│ County     ┆ customers_ ┆ power_outa ┆ hour ┆ … ┆ rain_lag_2 ┆ Precipita ┆ rain_and_ ┆ snow_and_ │\n",
       "│ ---        ┆ out        ┆ ge         ┆ ---  ┆   ┆ ---        ┆ tion_lag_ ┆ cold      ┆ fog       │\n",
       "│ str        ┆ ---        ┆ ---        ┆ i8   ┆   ┆ i8         ┆ 2         ┆ ---       ┆ ---       │\n",
       "│            ┆ i64        ┆ i8         ┆      ┆   ┆            ┆ ---       ┆ i8        ┆ i8        │\n",
       "│            ┆            ┆            ┆      ┆   ┆            ┆ f64       ┆           ┆           │\n",
       "╞════════════╪════════════╪════════════╪══════╪═══╪════════════╪═══════════╪═══════════╪═══════════╡\n",
       "│ Collier    ┆ 2          ┆ 0          ┆ 5    ┆ … ┆ 0          ┆ 0.0       ┆ 0         ┆ 0         │\n",
       "│ Duval      ┆ 270        ┆ 1          ┆ 5    ┆ … ┆ 0          ┆ 0.0       ┆ 0         ┆ 0         │\n",
       "│ Hernando   ┆ 1          ┆ 0          ┆ 5    ┆ … ┆ 0          ┆ 0.0       ┆ 0         ┆ 0         │\n",
       "│ Leon       ┆ 157        ┆ 1          ┆ 5    ┆ … ┆ 0          ┆ 0.0       ┆ 0         ┆ 0         │\n",
       "│ Miami-Dade ┆ 51         ┆ 1          ┆ 5    ┆ … ┆ 0          ┆ 0.0       ┆ 0         ┆ 0         │\n",
       "└────────────┴────────────┴────────────┴──────┴───┴────────────┴───────────┴───────────┴───────────┘"
      ]
     },
     "execution_count": 65,
     "metadata": {},
     "output_type": "execute_result"
    }
   ],
   "source": [
    "merged_df.head()"
   ]
  },
  {
   "cell_type": "markdown",
   "id": "0eed7bb8",
   "metadata": {},
   "source": [
    "## Drop Redundant and Unnecessary Columns:"
   ]
  },
  {
   "cell_type": "code",
   "execution_count": 68,
   "id": "e9dbc479",
   "metadata": {},
   "outputs": [],
   "source": [
    "merged_df = merged_df.drop([\"City\", \"County_right\", \"ZipCode\", \"TimeZone\", \"weekday_right\", \"County\", \"State_code\",\"customers_out\",\"hour\",\"weekday\",\"duration_seconds\"])"
   ]
  },
  {
   "cell_type": "code",
   "execution_count": 69,
   "id": "efa0c282",
   "metadata": {},
   "outputs": [
    {
     "data": {
      "text/html": [
       "<div><style>\n",
       ".dataframe > thead > tr,\n",
       ".dataframe > tbody > tr {\n",
       "  text-align: right;\n",
       "  white-space: pre-wrap;\n",
       "}\n",
       "</style>\n",
       "<small>shape: (5, 13)</small><table border=\"1\" class=\"dataframe\"><thead><tr><th>power_outage</th><th>Precipitation(in)</th><th>rain</th><th>cold</th><th>snow</th><th>fog</th><th>severity_encoded</th><th>rain_lag_1</th><th>Precipitation_lag_1</th><th>rain_lag_2</th><th>Precipitation_lag_2</th><th>rain_and_cold</th><th>snow_and_fog</th></tr><tr><td>i8</td><td>f64</td><td>i8</td><td>i8</td><td>i8</td><td>i8</td><td>i8</td><td>i8</td><td>f64</td><td>i8</td><td>f64</td><td>i8</td><td>i8</td></tr></thead><tbody><tr><td>0</td><td>0.0</td><td>0</td><td>0</td><td>0</td><td>1</td><td>4</td><td>0</td><td>0.0</td><td>0</td><td>0.0</td><td>0</td><td>0</td></tr><tr><td>1</td><td>0.0</td><td>0</td><td>0</td><td>0</td><td>1</td><td>4</td><td>0</td><td>0.0</td><td>0</td><td>0.0</td><td>0</td><td>0</td></tr><tr><td>0</td><td>0.0</td><td>0</td><td>0</td><td>0</td><td>1</td><td>4</td><td>0</td><td>0.0</td><td>0</td><td>0.0</td><td>0</td><td>0</td></tr><tr><td>1</td><td>0.04</td><td>1</td><td>0</td><td>0</td><td>0</td><td>1</td><td>0</td><td>0.0</td><td>0</td><td>0.0</td><td>0</td><td>0</td></tr><tr><td>1</td><td>0.0</td><td>0</td><td>0</td><td>0</td><td>1</td><td>4</td><td>1</td><td>0.04</td><td>0</td><td>0.0</td><td>0</td><td>0</td></tr></tbody></table></div>"
      ],
      "text/plain": [
       "shape: (5, 13)\n",
       "┌─────────────┬─────────────┬──────┬──────┬───┬────────────┬─────────────┬────────────┬────────────┐\n",
       "│ power_outag ┆ Precipitati ┆ rain ┆ cold ┆ … ┆ rain_lag_2 ┆ Precipitati ┆ rain_and_c ┆ snow_and_f │\n",
       "│ e           ┆ on(in)      ┆ ---  ┆ ---  ┆   ┆ ---        ┆ on_lag_2    ┆ old        ┆ og         │\n",
       "│ ---         ┆ ---         ┆ i8   ┆ i8   ┆   ┆ i8         ┆ ---         ┆ ---        ┆ ---        │\n",
       "│ i8          ┆ f64         ┆      ┆      ┆   ┆            ┆ f64         ┆ i8         ┆ i8         │\n",
       "╞═════════════╪═════════════╪══════╪══════╪═══╪════════════╪═════════════╪════════════╪════════════╡\n",
       "│ 0           ┆ 0.0         ┆ 0    ┆ 0    ┆ … ┆ 0          ┆ 0.0         ┆ 0          ┆ 0          │\n",
       "│ 1           ┆ 0.0         ┆ 0    ┆ 0    ┆ … ┆ 0          ┆ 0.0         ┆ 0          ┆ 0          │\n",
       "│ 0           ┆ 0.0         ┆ 0    ┆ 0    ┆ … ┆ 0          ┆ 0.0         ┆ 0          ┆ 0          │\n",
       "│ 1           ┆ 0.04        ┆ 1    ┆ 0    ┆ … ┆ 0          ┆ 0.0         ┆ 0          ┆ 0          │\n",
       "│ 1           ┆ 0.0         ┆ 0    ┆ 0    ┆ … ┆ 0          ┆ 0.0         ┆ 0          ┆ 0          │\n",
       "└─────────────┴─────────────┴──────┴──────┴───┴────────────┴─────────────┴────────────┴────────────┘"
      ]
     },
     "execution_count": 69,
     "metadata": {},
     "output_type": "execute_result"
    }
   ],
   "source": [
    "merged_df.head()"
   ]
  },
  {
   "cell_type": "markdown",
   "id": "87fe696a",
   "metadata": {},
   "source": [
    "## Handle Imbalanced Data:"
   ]
  },
  {
   "cell_type": "code",
   "execution_count": 70,
   "id": "886969d4",
   "metadata": {},
   "outputs": [
    {
     "name": "stdout",
     "output_type": "stream",
     "text": [
      "shape: (2, 2)\n",
      "┌──────────────┬────────┐\n",
      "│ power_outage ┆ count  │\n",
      "│ ---          ┆ ---    │\n",
      "│ i8           ┆ u32    │\n",
      "╞══════════════╪════════╡\n",
      "│ 1            ┆ 615692 │\n",
      "│ 0            ┆ 449924 │\n",
      "└──────────────┴────────┘\n"
     ]
    },
    {
     "name": "stderr",
     "output_type": "stream",
     "text": [
      "C:\\Users\\Sarah-Lee Tanaka\\AppData\\Local\\Temp\\ipykernel_23232\\385687720.py:2: DeprecationWarning: `groupby` is deprecated. It has been renamed to `group_by`.\n",
      "  class_counts = merged_df.groupby(\"power_outage\").count()\n",
      "C:\\Users\\Sarah-Lee Tanaka\\AppData\\Local\\Temp\\ipykernel_23232\\385687720.py:2: DeprecationWarning: `count` is deprecated. It has been renamed to `len`.\n",
      "  class_counts = merged_df.groupby(\"power_outage\").count()\n"
     ]
    }
   ],
   "source": [
    "# Assuming 'power_outage' is our target column\n",
    "class_counts = merged_df.groupby(\"power_outage\").count()\n",
    "print(class_counts) "
   ]
  },
  {
   "cell_type": "markdown",
   "id": "5b939675",
   "metadata": {},
   "source": [
    "## Evaluation & Model Selection"
   ]
  },
  {
   "cell_type": "code",
   "execution_count": 71,
   "id": "42161a1c",
   "metadata": {},
   "outputs": [],
   "source": [
    "from sklearn.model_selection import train_test_split\n",
    "\n",
    "# 1. Extract Features and Target Variable\n",
    "X = merged_df.drop('power_outage')  # Features\n",
    "y = merged_df['power_outage']    # Target variable\n",
    "\n",
    "# 2. Convert Polars DataFrames to NumPy Arrays \n",
    "X_np = X.to_numpy() \n",
    "y_np = y.to_numpy()\n",
    "\n",
    "# 3. Perform Train-Test Split using scikit-learn \n",
    "X_train, X_test, y_train, y_test = train_test_split(X_np, y_np, test_size=0.2, random_state=42)"
   ]
  },
  {
   "cell_type": "code",
   "execution_count": 72,
   "id": "a96e46b7",
   "metadata": {},
   "outputs": [
    {
     "name": "stdout",
     "output_type": "stream",
     "text": [
      "[1 1 1 ... 1 1 0]\n",
      "Accuracy: 0.5770771944971003\n",
      "Precision: 0.5879170710751166\n",
      "Recall: 0.8991142690286159\n",
      "F1-score: 0.7109529077877724\n",
      "Feature Importance: [0.23616389 0.34713869 0.96683659 0.7332774  0.79271563 0.13477133\n",
      " 0.06379457 0.04601081 0.0499073  0.02458643 0.         0.        ]\n"
     ]
    }
   ],
   "source": [
    "from sklearn.linear_model import LogisticRegression\n",
    "from sklearn.metrics import accuracy_score, precision_score, recall_score, f1_score\n",
    "\n",
    "\n",
    "# Model Training\n",
    "model = LogisticRegression(max_iter=500) \n",
    "model.fit(X_train, y_train)\n",
    "\n",
    "#  Make Predictions\n",
    "y_pred = model.predict(X_test)\n",
    "print(y_pred)\n",
    "\n",
    "# Evaluation\n",
    "accuracy = accuracy_score(y_test, y_pred)\n",
    "precision = precision_score(y_test, y_pred)\n",
    "recall = recall_score(y_test, y_pred)\n",
    "f1 = f1_score(y_test, y_pred)\n",
    "\n",
    "print(\"Accuracy:\", accuracy)\n",
    "print(\"Precision:\", precision)\n",
    "print(\"Recall:\", recall)\n",
    "print(\"F1-score:\", f1)\n",
    "\n",
    "# Feature Importance (Optional)\n",
    "feature_importance = abs(model.coef_[0])  # Assuming our model has 1 feature set\n",
    "print(\"Feature Importance:\", feature_importance)"
   ]
  },
  {
   "cell_type": "code",
   "execution_count": 73,
   "id": "69652209",
   "metadata": {},
   "outputs": [
    {
     "name": "stdout",
     "output_type": "stream",
     "text": [
      "        Actual  Predicted\n",
      "0            0          1\n",
      "1            1          1\n",
      "2            1          1\n",
      "3            0          0\n",
      "4            1          1\n",
      "...        ...        ...\n",
      "213119       0          1\n",
      "213120       1          1\n",
      "213121       0          1\n",
      "213122       1          1\n",
      "213123       1          0\n",
      "\n",
      "[213124 rows x 2 columns]\n"
     ]
    },
    {
     "data": {
      "image/png": "[encoded data removed]",
      "text/plain": [
       "<Figure size 432x288 with 1 Axes>"
      ]
     },
     "metadata": {
      "needs_background": "light"
     },
     "output_type": "display_data"
    }
   ],
   "source": [
    "import pandas as pd\n",
    "import matplotlib.pyplot as plt\n",
    "\n",
    "\n",
    "# Create a DataFrame to store actual and predicted values\n",
    "results_df = pd.DataFrame({'Actual': y_test, 'Predicted': y_pred})\n",
    "\n",
    "# Print the table\n",
    "print(results_df)\n",
    "\n",
    "# Create a scatter plot\n",
    "plt.scatter(y_test, y_pred, c='blue', marker='o', s=50) \n",
    "\n",
    "# Set labels and title\n",
    "plt.xlabel('Actual Power Outage Status (0 - No Outage, 1 - Outage)')\n",
    "plt.ylabel('Predicted Power Outage Status (0 - No Outage, 1 - Outage)')\n",
    "plt.title('Actual vs. Predicted Power Outages')\n",
    "\n",
    "# Add a diagonal line (for perfect predictions)\n",
    "plt.plot([0, 1], [0, 1], 'r--', linewidth=2)  # Red dashed line\n",
    "\n",
    "plt.show()"
   ]
  },
  {
   "cell_type": "markdown",
   "id": "7789e81d",
   "metadata": {},
   "source": [
    "###  Decision Tree Classifier:"
   ]
  },
  {
   "cell_type": "code",
   "execution_count": 74,
   "id": "77408643",
   "metadata": {},
   "outputs": [
    {
     "name": "stdout",
     "output_type": "stream",
     "text": [
      "Decision Tree:\n",
      "Accuracy: 0.6456429121075055\n",
      "Precision: 0.6580525187283267\n",
      "Recall: 0.8065424047758095\n",
      "F1-score: 0.7247700403795975\n"
     ]
    }
   ],
   "source": [
    "from sklearn.tree import DecisionTreeClassifier\n",
    "from sklearn.metrics import accuracy_score, precision_score, recall_score, f1_score\n",
    "\n",
    "# Create and train the model\n",
    "dt_model = DecisionTreeClassifier(random_state=42)  # You can tune hyperparameters here\n",
    "dt_model.fit(X_train, y_train)\n",
    "\n",
    "# Make predictions\n",
    "y_pred_dt = dt_model.predict(X_test)\n",
    "\n",
    "# Evaluate the model\n",
    "accuracy_dt = accuracy_score(y_test, y_pred_dt)\n",
    "precision_dt = precision_score(y_test, y_pred_dt)\n",
    "recall_dt = recall_score(y_test, y_pred_dt)\n",
    "f1_dt = f1_score(y_test, y_pred_dt)\n",
    "\n",
    "print(\"Decision Tree:\")\n",
    "print(\"Accuracy:\", accuracy_dt)\n",
    "print(\"Precision:\", precision_dt)\n",
    "print(\"Recall:\", recall_dt)\n",
    "print(\"F1-score:\", f1_dt)"
   ]
  },
  {
   "cell_type": "code",
   "execution_count": null,
   "id": "07e9cde5",
   "metadata": {},
   "outputs": [],
   "source": []
  }
 ],
 "metadata": {
  "kernelspec": {
   "display_name": "Python 3 (ipykernel)",
   "language": "python",
   "name": "python3"
  },
  "language_info": {
   "codemirror_mode": {
    "name": "ipython",
    "version": 3
   },
   "file_extension": ".py",
   "mimetype": "text/x-python",
   "name": "python",
   "nbconvert_exporter": "python",
   "pygments_lexer": "ipython3",
   "version": "3.9.12"
  }
 },
 "nbformat": 4,
 "nbformat_minor": 5
}
